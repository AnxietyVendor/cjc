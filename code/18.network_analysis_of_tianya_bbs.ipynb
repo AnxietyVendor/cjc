{
 "cells": [
  {
   "cell_type": "markdown",
   "metadata": {
    "slideshow": {
     "slide_type": "slide"
    }
   },
   "source": [
    "### 网络科学理论简介\n",
    "***\n",
    "***\n",
    "# 天涯论坛的回帖网络分析\n",
    "***\n",
    "***\n",
    "\n",
    "王成军 \n",
    "\n",
    "wangchengjun@nju.edu.cn\n",
    "\n",
    "计算传播网 http://computational-communication.com"
   ]
  },
  {
   "cell_type": "code",
   "execution_count": 12,
   "metadata": {
    "ExecuteTime": {
     "end_time": "2017-05-21T13:57:48.107667",
     "start_time": "2017-05-21T13:57:47.901404"
    },
    "collapsed": true,
    "slideshow": {
     "slide_type": "slide"
    }
   },
   "outputs": [],
   "source": [
    "%matplotlib inline\n",
    "import matplotlib.pyplot as plt"
   ]
  },
  {
   "cell_type": "code",
   "execution_count": 48,
   "metadata": {
    "ExecuteTime": {
     "end_time": "2017-05-21T15:28:32.253613",
     "start_time": "2017-05-21T15:28:32.225860"
    },
    "slideshow": {
     "slide_type": "slide"
    }
   },
   "outputs": [
    {
     "data": {
      "text/plain": [
       "8079"
      ]
     },
     "execution_count": 48,
     "metadata": {},
     "output_type": "execute_result"
    }
   ],
   "source": [
    "dtt = []\n",
    "file_path = '/Users/chengjun/github/cjc/data/tianya_bbs_threads_network.txt'\n",
    "with open(file_path, 'r') as f:\n",
    "    for line in f:\n",
    "        pnum, link, time, author_id, author,\\\n",
    "        content = line.replace('\\n', '').split('\\t')\n",
    "        dtt.append([pnum, link, time, author_id, author, content])\n",
    "len(dtt)"
   ]
  },
  {
   "cell_type": "code",
   "execution_count": 13,
   "metadata": {
    "ExecuteTime": {
     "end_time": "2017-05-21T13:57:50.273931",
     "start_time": "2017-05-21T13:57:50.229876"
    },
    "slideshow": {
     "slide_type": "slide"
    }
   },
   "outputs": [
    {
     "data": {
      "text/html": [
       "<div>\n",
       "<table border=\"1\" class=\"dataframe\">\n",
       "  <thead>\n",
       "    <tr style=\"text-align: right;\">\n",
       "      <th></th>\n",
       "      <th>page_num</th>\n",
       "      <th>link</th>\n",
       "      <th>time</th>\n",
       "      <th>author</th>\n",
       "      <th>author_name</th>\n",
       "      <th>reply</th>\n",
       "    </tr>\n",
       "  </thead>\n",
       "  <tbody>\n",
       "    <tr>\n",
       "      <th>0</th>\n",
       "      <td>1</td>\n",
       "      <td>/post-free-2849477-1.shtml</td>\n",
       "      <td>2012-10-29 07:59:00</td>\n",
       "      <td>50499450</td>\n",
       "      <td>贾也</td>\n",
       "      <td>先生是一位真爷们！第161期导语：人人宁波，面朝大海，春暖花开!　　宁波的事，怎谈？无从谈，...</td>\n",
       "    </tr>\n",
       "    <tr>\n",
       "      <th>1</th>\n",
       "      <td>1</td>\n",
       "      <td>/post-free-2849477-1.shtml</td>\n",
       "      <td>2012-10-29 08:13:54</td>\n",
       "      <td>22122799</td>\n",
       "      <td>三平67</td>\n",
       "      <td>我们中国人都在一条船，颠簸已久，我们都想做宁波人，希望有一个风平浪静的港湾，面朝大海，春暖花...</td>\n",
       "    </tr>\n",
       "    <tr>\n",
       "      <th>2</th>\n",
       "      <td>1</td>\n",
       "      <td>/post-free-2849477-1.shtml</td>\n",
       "      <td>2012-10-29 08:27:02</td>\n",
       "      <td>39027950</td>\n",
       "      <td>赶浪头</td>\n",
       "      <td>默默围观~</td>\n",
       "    </tr>\n",
       "    <tr>\n",
       "      <th>3</th>\n",
       "      <td>1</td>\n",
       "      <td>/post-free-2849477-1.shtml</td>\n",
       "      <td>2012-10-29 08:43:15</td>\n",
       "      <td>53986501</td>\n",
       "      <td>m408833176</td>\n",
       "      <td>不能收藏？</td>\n",
       "    </tr>\n",
       "    <tr>\n",
       "      <th>4</th>\n",
       "      <td>1</td>\n",
       "      <td>/post-free-2849477-1.shtml</td>\n",
       "      <td>2012-10-29 08:55:52</td>\n",
       "      <td>39073643</td>\n",
       "      <td>兰质薰心</td>\n",
       "      <td>楼主好文！　　相信政府一定有能力解决好这些问题.</td>\n",
       "    </tr>\n",
       "  </tbody>\n",
       "</table>\n",
       "</div>"
      ],
      "text/plain": [
       "  page_num                        link                 time    author  \\\n",
       "0        1  /post-free-2849477-1.shtml  2012-10-29 07:59:00  50499450   \n",
       "1        1  /post-free-2849477-1.shtml  2012-10-29 08:13:54  22122799   \n",
       "2        1  /post-free-2849477-1.shtml  2012-10-29 08:27:02  39027950   \n",
       "3        1  /post-free-2849477-1.shtml  2012-10-29 08:43:15  53986501   \n",
       "4        1  /post-free-2849477-1.shtml  2012-10-29 08:55:52  39073643   \n",
       "\n",
       "  author_name                                              reply  \n",
       "0          贾也  先生是一位真爷们！第161期导语：人人宁波，面朝大海，春暖花开!　　宁波的事，怎谈？无从谈，...  \n",
       "1        三平67  我们中国人都在一条船，颠簸已久，我们都想做宁波人，希望有一个风平浪静的港湾，面朝大海，春暖花...  \n",
       "2         赶浪头                                              默默围观~  \n",
       "3  m408833176                                              不能收藏？  \n",
       "4        兰质薰心                           楼主好文！　　相信政府一定有能力解决好这些问题.  "
      ]
     },
     "execution_count": 13,
     "metadata": {},
     "output_type": "execute_result"
    }
   ],
   "source": [
    "import pandas as pd\n",
    "dt = pd.DataFrame(dtt)\n",
    "dt=dt.rename(columns = {0:'page_num', 1:'link', 2:'time', 3:'author',4:'author_name', 5:'reply'})\n",
    "dt[:5]"
   ]
  },
  {
   "cell_type": "code",
   "execution_count": 14,
   "metadata": {
    "ExecuteTime": {
     "end_time": "2017-05-21T13:57:52.644540",
     "start_time": "2017-05-21T13:57:52.635795"
    },
    "slideshow": {
     "slide_type": "slide"
    }
   },
   "outputs": [],
   "source": [
    "# extract date from datetime\n",
    "date = map(lambda x: x[:10], dt.time)\n",
    "dt['date'] = pd.to_datetime(date)"
   ]
  },
  {
   "cell_type": "code",
   "execution_count": 15,
   "metadata": {
    "ExecuteTime": {
     "end_time": "2017-05-21T13:57:53.629645",
     "start_time": "2017-05-21T13:57:53.611914"
    },
    "slideshow": {
     "slide_type": "slide"
    }
   },
   "outputs": [
    {
     "data": {
      "text/html": [
       "<div>\n",
       "<table border=\"1\" class=\"dataframe\">\n",
       "  <thead>\n",
       "    <tr style=\"text-align: right;\">\n",
       "      <th></th>\n",
       "      <th>page_num</th>\n",
       "      <th>link</th>\n",
       "      <th>time</th>\n",
       "      <th>author</th>\n",
       "      <th>author_name</th>\n",
       "      <th>reply</th>\n",
       "      <th>date</th>\n",
       "    </tr>\n",
       "  </thead>\n",
       "  <tbody>\n",
       "    <tr>\n",
       "      <th>0</th>\n",
       "      <td>1</td>\n",
       "      <td>/post-free-2849477-1.shtml</td>\n",
       "      <td>2012-10-29 07:59:00</td>\n",
       "      <td>50499450</td>\n",
       "      <td>贾也</td>\n",
       "      <td>先生是一位真爷们！第161期导语：人人宁波，面朝大海，春暖花开!　　宁波的事，怎谈？无从谈，...</td>\n",
       "      <td>2012-10-29</td>\n",
       "    </tr>\n",
       "    <tr>\n",
       "      <th>1</th>\n",
       "      <td>1</td>\n",
       "      <td>/post-free-2849477-1.shtml</td>\n",
       "      <td>2012-10-29 08:13:54</td>\n",
       "      <td>22122799</td>\n",
       "      <td>三平67</td>\n",
       "      <td>我们中国人都在一条船，颠簸已久，我们都想做宁波人，希望有一个风平浪静的港湾，面朝大海，春暖花...</td>\n",
       "      <td>2012-10-29</td>\n",
       "    </tr>\n",
       "    <tr>\n",
       "      <th>2</th>\n",
       "      <td>1</td>\n",
       "      <td>/post-free-2849477-1.shtml</td>\n",
       "      <td>2012-10-29 08:27:02</td>\n",
       "      <td>39027950</td>\n",
       "      <td>赶浪头</td>\n",
       "      <td>默默围观~</td>\n",
       "      <td>2012-10-29</td>\n",
       "    </tr>\n",
       "    <tr>\n",
       "      <th>3</th>\n",
       "      <td>1</td>\n",
       "      <td>/post-free-2849477-1.shtml</td>\n",
       "      <td>2012-10-29 08:43:15</td>\n",
       "      <td>53986501</td>\n",
       "      <td>m408833176</td>\n",
       "      <td>不能收藏？</td>\n",
       "      <td>2012-10-29</td>\n",
       "    </tr>\n",
       "    <tr>\n",
       "      <th>4</th>\n",
       "      <td>1</td>\n",
       "      <td>/post-free-2849477-1.shtml</td>\n",
       "      <td>2012-10-29 08:55:52</td>\n",
       "      <td>39073643</td>\n",
       "      <td>兰质薰心</td>\n",
       "      <td>楼主好文！　　相信政府一定有能力解决好这些问题.</td>\n",
       "      <td>2012-10-29</td>\n",
       "    </tr>\n",
       "  </tbody>\n",
       "</table>\n",
       "</div>"
      ],
      "text/plain": [
       "  page_num                        link                 time    author  \\\n",
       "0        1  /post-free-2849477-1.shtml  2012-10-29 07:59:00  50499450   \n",
       "1        1  /post-free-2849477-1.shtml  2012-10-29 08:13:54  22122799   \n",
       "2        1  /post-free-2849477-1.shtml  2012-10-29 08:27:02  39027950   \n",
       "3        1  /post-free-2849477-1.shtml  2012-10-29 08:43:15  53986501   \n",
       "4        1  /post-free-2849477-1.shtml  2012-10-29 08:55:52  39073643   \n",
       "\n",
       "  author_name                                              reply       date  \n",
       "0          贾也  先生是一位真爷们！第161期导语：人人宁波，面朝大海，春暖花开!　　宁波的事，怎谈？无从谈，... 2012-10-29  \n",
       "1        三平67  我们中国人都在一条船，颠簸已久，我们都想做宁波人，希望有一个风平浪静的港湾，面朝大海，春暖花... 2012-10-29  \n",
       "2         赶浪头                                              默默围观~ 2012-10-29  \n",
       "3  m408833176                                              不能收藏？ 2012-10-29  \n",
       "4        兰质薰心                           楼主好文！　　相信政府一定有能力解决好这些问题. 2012-10-29  "
      ]
     },
     "execution_count": 15,
     "metadata": {},
     "output_type": "execute_result"
    }
   ],
   "source": [
    "dt[:5]"
   ]
  },
  {
   "cell_type": "code",
   "execution_count": 18,
   "metadata": {
    "ExecuteTime": {
     "end_time": "2017-05-21T13:58:01.902372",
     "start_time": "2017-05-21T13:58:01.885639"
    },
    "slideshow": {
     "slide_type": "slide"
    }
   },
   "outputs": [
    {
     "data": {
      "text/html": [
       "<div>\n",
       "<table border=\"1\" class=\"dataframe\">\n",
       "  <thead>\n",
       "    <tr style=\"text-align: right;\">\n",
       "      <th></th>\n",
       "      <th>title</th>\n",
       "      <th>link</th>\n",
       "      <th>author</th>\n",
       "      <th>author_page</th>\n",
       "      <th>click</th>\n",
       "      <th>reply</th>\n",
       "      <th>time</th>\n",
       "    </tr>\n",
       "  </thead>\n",
       "  <tbody>\n",
       "    <tr>\n",
       "      <th>0</th>\n",
       "      <td>【民间语文第161期】宁波px启示:船进港湾人应上岸</td>\n",
       "      <td>/post-free-2849477-1.shtml</td>\n",
       "      <td>贾也</td>\n",
       "      <td>http://www.tianya.cn/50499450</td>\n",
       "      <td>194675</td>\n",
       "      <td>2703</td>\n",
       "      <td>2012-10-29 07:59</td>\n",
       "    </tr>\n",
       "    <tr>\n",
       "      <th>1</th>\n",
       "      <td>宁波镇海PX项目引发群体上访 当地政府发布说明(转载)</td>\n",
       "      <td>/post-free-2839539-1.shtml</td>\n",
       "      <td>无上卫士ABC</td>\n",
       "      <td>http://www.tianya.cn/74341835</td>\n",
       "      <td>88244</td>\n",
       "      <td>1041</td>\n",
       "      <td>2012-10-24 12:41</td>\n",
       "    </tr>\n",
       "  </tbody>\n",
       "</table>\n",
       "</div>"
      ],
      "text/plain": [
       "                         title                        link   author  \\\n",
       "0   【民间语文第161期】宁波px启示:船进港湾人应上岸  /post-free-2849477-1.shtml       贾也   \n",
       "1  宁波镇海PX项目引发群体上访 当地政府发布说明(转载)  /post-free-2839539-1.shtml  无上卫士ABC   \n",
       "\n",
       "                     author_page   click  reply              time  \n",
       "0  http://www.tianya.cn/50499450  194675   2703  2012-10-29 07:59  \n",
       "1  http://www.tianya.cn/74341835   88244   1041  2012-10-24 12:41  "
      ]
     },
     "execution_count": 18,
     "metadata": {},
     "output_type": "execute_result"
    }
   ],
   "source": [
    "import pandas as pd\n",
    "\n",
    "df = pd.read_csv('/Users/chengjun/github/cjc/data/tianya_bbs_threads_list.txt', sep = \"\\t\", header=None)\n",
    "df=df.rename(columns = {0:'title', 1:'link', 2:'author',3:'author_page', 4:'click', 5:'reply', 6:'time'})\n",
    "df[:2]"
   ]
  },
  {
   "cell_type": "code",
   "execution_count": 19,
   "metadata": {
    "ExecuteTime": {
     "end_time": "2017-05-21T13:58:02.857540",
     "start_time": "2017-05-21T13:58:02.563061"
    }
   },
   "outputs": [],
   "source": [
    "from collections import defaultdict\n",
    "\n",
    "link_user_dict = defaultdict(list)\n",
    "for i in range(len(dt)):\n",
    "    link_user_dict[dt.link[i]].append(dt.author[i])"
   ]
  },
  {
   "cell_type": "code",
   "execution_count": 20,
   "metadata": {
    "ExecuteTime": {
     "end_time": "2017-05-21T13:58:03.273074",
     "start_time": "2017-05-21T13:58:03.257678"
    }
   },
   "outputs": [
    {
     "data": {
      "text/html": [
       "<div>\n",
       "<table border=\"1\" class=\"dataframe\">\n",
       "  <thead>\n",
       "    <tr style=\"text-align: right;\">\n",
       "      <th></th>\n",
       "      <th>title</th>\n",
       "      <th>link</th>\n",
       "      <th>author</th>\n",
       "      <th>author_page</th>\n",
       "      <th>click</th>\n",
       "      <th>reply</th>\n",
       "      <th>time</th>\n",
       "      <th>user</th>\n",
       "    </tr>\n",
       "  </thead>\n",
       "  <tbody>\n",
       "    <tr>\n",
       "      <th>0</th>\n",
       "      <td>【民间语文第161期】宁波px启示:船进港湾人应上岸</td>\n",
       "      <td>/post-free-2849477-1.shtml</td>\n",
       "      <td>贾也</td>\n",
       "      <td>http://www.tianya.cn/50499450</td>\n",
       "      <td>194675</td>\n",
       "      <td>2703</td>\n",
       "      <td>2012-10-29 07:59</td>\n",
       "      <td>2478</td>\n",
       "    </tr>\n",
       "    <tr>\n",
       "      <th>1</th>\n",
       "      <td>宁波镇海PX项目引发群体上访 当地政府发布说明(转载)</td>\n",
       "      <td>/post-free-2839539-1.shtml</td>\n",
       "      <td>无上卫士ABC</td>\n",
       "      <td>http://www.tianya.cn/74341835</td>\n",
       "      <td>88244</td>\n",
       "      <td>1041</td>\n",
       "      <td>2012-10-24 12:41</td>\n",
       "      <td>830</td>\n",
       "    </tr>\n",
       "  </tbody>\n",
       "</table>\n",
       "</div>"
      ],
      "text/plain": [
       "                         title                        link   author  \\\n",
       "0   【民间语文第161期】宁波px启示:船进港湾人应上岸  /post-free-2849477-1.shtml       贾也   \n",
       "1  宁波镇海PX项目引发群体上访 当地政府发布说明(转载)  /post-free-2839539-1.shtml  无上卫士ABC   \n",
       "\n",
       "                     author_page   click  reply              time  user  \n",
       "0  http://www.tianya.cn/50499450  194675   2703  2012-10-29 07:59  2478  \n",
       "1  http://www.tianya.cn/74341835   88244   1041  2012-10-24 12:41   830  "
      ]
     },
     "execution_count": 20,
     "metadata": {},
     "output_type": "execute_result"
    }
   ],
   "source": [
    "df['user'] = [len(link_user_dict[l]) for l in df.link]\n",
    "df[:2] "
   ]
  },
  {
   "cell_type": "code",
   "execution_count": 21,
   "metadata": {
    "ExecuteTime": {
     "end_time": "2017-05-21T13:58:05.483125",
     "start_time": "2017-05-21T13:58:03.963821"
    }
   },
   "outputs": [
    {
     "data": {
      "image/png": "[encoded data removed]",
      "text/plain": [
       "<matplotlib.figure.Figure at 0x113367990>"
      ]
     },
     "metadata": {},
     "output_type": "display_data"
    }
   ],
   "source": [
    "import statsmodels.api as sm\n",
    "import numpy as np\n",
    "\n",
    "x = np.log(df.user+1)\n",
    "y = np.log(df.reply+1)\n",
    "xx = sm.add_constant(x, prepend=True)\n",
    "res = sm.OLS(y,xx).fit()\n",
    "constant,beta = res.params\n",
    "r2 = res.rsquared\n",
    "fig = plt.figure(figsize=(8, 4),facecolor='white')\n",
    "plt.plot(df.user, df.reply, 'rs', label= 'Data')\n",
    "plt.plot(np.exp(x), np.exp(constant + x*beta),\"-\", label = 'Fit')\n",
    "plt.yscale('log');plt.xscale('log')\n",
    "plt.xlabel(r'$Users$', fontsize = 20)\n",
    "plt.ylabel(r'$Replies$', fontsize = 20)\n",
    "plt.text(max(df.user)/300,max(df.reply)/20,\n",
    "         r'$\\beta$ = ' + str(round(beta,2)) +'\\n' + r'$R^2$ = ' + str(round(r2, 2)))\n",
    "plt.legend(loc=2,fontsize=10, numpoints=1)\n",
    "plt.axis('tight')\n",
    "plt.show()"
   ]
  },
  {
   "cell_type": "code",
   "execution_count": 22,
   "metadata": {
    "ExecuteTime": {
     "end_time": "2017-05-21T13:58:06.244039",
     "start_time": "2017-05-21T13:58:05.484895"
    }
   },
   "outputs": [
    {
     "data": {
      "image/png": "[encoded data removed]",
      "text/plain": [
       "<matplotlib.figure.Figure at 0x113375650>"
      ]
     },
     "metadata": {},
     "output_type": "display_data"
    }
   ],
   "source": [
    "x = np.log(df.user+1)\n",
    "y = np.log(df.click+1)\n",
    "xx = sm.add_constant(x, prepend=True)\n",
    "res = sm.OLS(y,xx).fit()\n",
    "constant,beta = res.params\n",
    "r2 = res.rsquared\n",
    "fig = plt.figure(figsize=(8, 4),facecolor='white')\n",
    "plt.plot(df.user, df.click, 'rs', label= 'Data')\n",
    "plt.plot(np.exp(x), np.exp(constant + x*beta),\"-\", label = 'Fit')\n",
    "plt.yscale('log');plt.xscale('log')\n",
    "plt.xlabel(r'$Users$', fontsize = 20)\n",
    "plt.ylabel(r'$Replies$', fontsize = 20)\n",
    "plt.text(max(df.user)/300,max(df.click)/20,\n",
    "         r'$\\beta$ = ' + str(round(beta,2)) +'\\n' + r'$R^2$ = ' + str(round(r2, 2)))\n",
    "plt.legend(loc=2,fontsize=10, numpoints=1)\n",
    "plt.axis('tight')\n",
    "plt.show()"
   ]
  },
  {
   "cell_type": "code",
   "execution_count": 23,
   "metadata": {
    "ExecuteTime": {
     "end_time": "2017-05-21T13:58:06.353915",
     "start_time": "2017-05-21T13:58:06.341086"
    },
    "slideshow": {
     "slide_type": "slide"
    }
   },
   "outputs": [
    {
     "data": {
      "text/plain": [
       "pandas.tslib.Timestamp"
      ]
     },
     "execution_count": 23,
     "metadata": {},
     "output_type": "execute_result"
    }
   ],
   "source": [
    "# convert str to datetime format\n",
    "dt.time = pd.to_datetime(dt.time)\n",
    "dt['month'] = dt.time.dt.month\n",
    "dt['year'] = dt.time.dt.year\n",
    "dt['day'] = dt.time.dt.day\n",
    "type(dt.time[0])"
   ]
  },
  {
   "cell_type": "code",
   "execution_count": 24,
   "metadata": {
    "ExecuteTime": {
     "end_time": "2017-05-21T13:58:07.224863",
     "start_time": "2017-05-21T13:58:07.218031"
    },
    "slideshow": {
     "slide_type": "fragment"
    }
   },
   "outputs": [],
   "source": [
    "d = dt.year.value_counts()\n",
    "dd = pd.DataFrame(d)\n",
    "dd = dd.sort_index(axis=0, ascending=True)\n",
    "ds = dd.cumsum()"
   ]
  },
  {
   "cell_type": "code",
   "execution_count": 25,
   "metadata": {
    "ExecuteTime": {
     "end_time": "2017-05-21T13:58:07.999498",
     "start_time": "2017-05-21T13:58:07.994013"
    },
    "collapsed": true,
    "slideshow": {
     "slide_type": "subslide"
    }
   },
   "outputs": [],
   "source": [
    "def getDate(dat):\n",
    "    dat_date_str = map(lambda x: str(x) +'-01-01', dat.index)\n",
    "    dat_date = pd.to_datetime(dat_date_str)\n",
    "    return dat_date\n",
    "\n",
    "ds.date = getDate(ds)\n",
    "dd.date = getDate(dd)"
   ]
  },
  {
   "cell_type": "code",
   "execution_count": 26,
   "metadata": {
    "ExecuteTime": {
     "end_time": "2017-05-21T13:58:09.095553",
     "start_time": "2017-05-21T13:58:08.744134"
    },
    "slideshow": {
     "slide_type": "subslide"
    }
   },
   "outputs": [
    {
     "data": {
      "image/png": "[encoded data removed]",
      "text/plain": [
       "<matplotlib.figure.Figure at 0x1104fd850>"
      ]
     },
     "metadata": {},
     "output_type": "display_data"
    }
   ],
   "source": [
    "fig = plt.figure(figsize=(12,5))\n",
    "plt.plot(ds.date, ds.year, 'g-s', label = '$Cumulative\\: Number\\:of\\: Threads$')\n",
    "plt.plot(dd.date, dd.year, 'r-o', label = '$Yearly\\:Number\\:of\\:Threads$')\n",
    "#plt.yscale('log')\n",
    "plt.legend(loc=2,numpoints=1,fontsize=13)\n",
    "plt.show()"
   ]
  },
  {
   "cell_type": "markdown",
   "metadata": {
    "slideshow": {
     "slide_type": "slide"
    }
   },
   "source": [
    "# Extract @ "
   ]
  },
  {
   "cell_type": "code",
   "execution_count": 27,
   "metadata": {
    "ExecuteTime": {
     "end_time": "2017-05-21T13:58:10.731533",
     "start_time": "2017-05-21T13:58:10.722365"
    },
    "slideshow": {
     "slide_type": "slide"
    }
   },
   "outputs": [
    {
     "data": {
      "text/plain": [
       "0     先生是一位真爷们！第161期导语：人人宁波，面朝大海，春暖花开!　　宁波的事，怎谈？无从谈，...\n",
       "1     我们中国人都在一条船，颠簸已久，我们都想做宁波人，希望有一个风平浪静的港湾，面朝大海，春暖花...\n",
       "2                                                 默默围观~\n",
       "3                                                 不能收藏？\n",
       "4                              楼主好文！　　相信政府一定有能力解决好这些问题.\n",
       "5                                                人民在觉醒。\n",
       "6                                          理性的文字，向楼主致敬！\n",
       "7                                     呼唤变革,人民需要的是服务型政府！\n",
       "8                                      顶贾兄！让我们携手努力保卫家园！\n",
       "9                                        围观就是力量,顶起就有希望.\n",
       "10                                       文章写得太有力量了，支持你！\n",
       "11    @贾也 2012-10-29 7:59:00　　导语：人人宁波，面朝大海，春暖花开　　......\n",
       "12                                   中国人从文盲走向民粹，实在是太快了。\n",
       "13                               杀死娘胎里的，毒死已出生的，这个社会怎么了？\n",
       "14                                                    3\n",
       "15    环境比什么都可贵，每一次呼吸，每一顿粮食，都息息相关，若任其恶化，而无从改观，那遑谈国家之未...\n",
       "16                                                 写的很好\n",
       "17    未来这里将是全球最大的垃圾场，而他们早已放浪西方。苟活的将面临数不清的癌症，无助的死亡。悲哀...\n",
       "18    媒体失声，高压维稳，只保留微博和论坛可以说这件事！因为那些人知道，网上的人和事就只能热几天，...\n",
       "19                                       说的太好了，看的我泪流满面！\n",
       "20          “我相信官场中，许多官员应该葆有社会正能量”　　通篇好文，顶！唯这句，不说也罢....\n",
       "21                                            先占一环，然后看帖\n",
       "22                                                说的太好了\n",
       "23    我上的小学，隔壁就是一家水泥厂，到处飞扬的水泥灰是我最熟悉的颜色;坐一站地车，就是一家造纸厂...\n",
       "24     我们中国人都在一条船，颠簸已久，我们都想做宁波人，希望有一个风平浪静的港湾，面朝大海，春暖花开！\n",
       "25                                               前排占座~~\n",
       "26                                          贾也先生是一位真爷们！\n",
       "27                                                     \n",
       "28                           为什么我的眼里常含着泪水?因为我对这片土地爱得深沉!\n",
       "29    又是因为环保的群体事件，影响面大，危害严重，理由叫的响，取得阶段性胜利。　　那些拆迁的、城管...\n",
       "30    回复第20楼，@rual_f　　“我相信官场中，许多官员应该葆有社会正能量” 　　通篇好文，...\n",
       "31                                                  好文.\n",
       "32                         一环　　天涯现在太滞后了，看消息还是得靠微博。太失望了。\n",
       "33                                                 刘明……\n",
       "34                                杂谈的低智商屌丝男们确定自己懂什么是px？\n",
       "35                                                屁民的胜利\n",
       "36                                                说的太好了\n",
       "37                                          ．．．．．　　。。。。\n",
       "38                                               。。。。。。\n",
       "39                                             宁波人民胜利了！\n",
       "40                                                   好文\n",
       "41                                                  不显示\n",
       "42                                         含泪顶起~~~~~~~~\n",
       "43     盲目决策，　　然后群众反对，　　再抓人，　　政府出面承诺项目搁置，　　再偷偷上马，　　在各地轮回\n",
       "44    好文頂一個先！希望我們的政府不要再置人民的利益于不顧！不要再行滅絕漢族子孫的政策！不要逼民眾...\n",
       "45    每次看到这样的消息，都很痛心，很堵很堵。为什么在经济发展的同时，我的祖国却越来越残忍，越来越...\n",
       "46    @兰质薰心 2012-10-29 08:55:52　　楼主好文！　　相信政府一定有能力解决好...\n",
       "47                   记得以前有人说过 厦门 必将会成为一座里程碑 烛照万里 看来真的成了\n",
       "48                       贾也，真爷们，　　一直爱在天涯逛逛，是因为这还多少能让人说话\n",
       "49                                          帖子咋了，啥都看不到。\n",
       "50                                                    顶\n",
       "51                                                顶,好文章\n",
       "52                                        在宁波呆过几年，感觉还不错\n",
       "53    @昊爷7 2012-10-29 11:19:29　　杂谈的低智商屌丝男们确定自己懂什么是px...\n",
       "54                                            什么时候变成了奴隶\n",
       "Name: reply, dtype: object"
      ]
     },
     "execution_count": 27,
     "metadata": {},
     "output_type": "execute_result"
    }
   ],
   "source": [
    "dt.reply[:55]"
   ]
  },
  {
   "cell_type": "markdown",
   "metadata": {
    "slideshow": {
     "slide_type": "subslide"
    }
   },
   "source": [
    "@贾也2012-10-297:59:00　　导语：人人宁波，面朝大海，春暖花开　　........\n",
    "\n",
    "        @兰质薰心2012-10-2908:55:52　　楼主好文！　　相信政府一定有能力解决好这些...\n",
    "        \n",
    "                回复第20楼，@rual_f　　“我相信官场中，许多官员应该葆有社会正能量”　　通篇好文，顶..."
   ]
  },
  {
   "cell_type": "code",
   "execution_count": 28,
   "metadata": {
    "ExecuteTime": {
     "end_time": "2017-05-21T13:58:13.791968",
     "start_time": "2017-05-21T13:58:13.785561"
    },
    "slideshow": {
     "slide_type": "subslide"
    }
   },
   "outputs": [
    {
     "name": "stdout",
     "output_type": "stream",
     "text": [
      "lilei\n",
      "Bob\n",
      "Girl\n",
      "魏武\n",
      "MarkGreene\n"
     ]
    }
   ],
   "source": [
    "import re\n",
    "tweet = u\"//@lilei: dd //@Bob: cc//@Girl: dd//@魏武: \\\n",
    "    利益所致 自然念念不忘// @诺什: 吸引优质  客户，摆脱屌丝男！！！//@MarkGreene: 转发微博\"\n",
    "RTpattern = r'''//?@(\\w+)'''\n",
    "for word in re.findall(RTpattern, tweet, re.UNICODE):\n",
    "    print word"
   ]
  },
  {
   "cell_type": "code",
   "execution_count": 29,
   "metadata": {
    "ExecuteTime": {
     "end_time": "2017-05-21T13:58:20.158578",
     "start_time": "2017-05-21T13:58:20.153359"
    },
    "slideshow": {
     "slide_type": "slide"
    }
   },
   "outputs": [
    {
     "data": {
      "text/plain": [
       "[u'\\u8d3e\\u4e5f']"
      ]
     },
     "execution_count": 29,
     "metadata": {},
     "output_type": "execute_result"
    }
   ],
   "source": [
    "RTpattern = r'''@(\\w+)\\s'''\n",
    "re.findall(RTpattern, dt.reply[11].decode('utf8'), re.UNICODE)"
   ]
  },
  {
   "cell_type": "code",
   "execution_count": 30,
   "metadata": {
    "ExecuteTime": {
     "end_time": "2017-05-21T13:58:21.325566",
     "start_time": "2017-05-21T13:58:21.321251"
    },
    "slideshow": {
     "slide_type": "fragment"
    }
   },
   "outputs": [
    {
     "name": "stdout",
     "output_type": "stream",
     "text": [
      "False\n"
     ]
    }
   ],
   "source": [
    "if re.findall(RTpattern, dt.reply[0].decode('utf8'), re.UNICODE):\n",
    "    print True\n",
    "else:\n",
    "    print False"
   ]
  },
  {
   "cell_type": "code",
   "execution_count": 31,
   "metadata": {
    "ExecuteTime": {
     "end_time": "2017-05-21T13:58:22.526239",
     "start_time": "2017-05-21T13:58:22.519225"
    },
    "slideshow": {
     "slide_type": "slide"
    }
   },
   "outputs": [
    {
     "name": "stdout",
     "output_type": "stream",
     "text": [
      "11 \t木兰清风_ \t贾也 \t\t@贾也 2012-10-29 7:59:00　　导语：人人宁\n",
      "30 \t此东西非南北 \trual_f \t\t回复第20楼，@rual_f　　“我相信官场中，许多官员应该\n",
      "46 \t弱水三千chen \t兰质薰心 \t\t@兰质薰心 2012-10-29 08:55:52　　楼主好\n",
      "53 \t彼得与梦想 \t昊爷7 \t\t@昊爷7 2012-10-29 11:19:29　　杂谈的低\n",
      "66 \tlenglengjing \t蒙上眼睛的牛 \t\t@蒙上眼睛的牛 2012-10-29 10:15:56　　未\n",
      "67 \tAGy戰女 \t天时怼兮威灵怒 \t\t@天时怼兮威灵怒 66楼 　　http://baike.ba\n",
      "69 \t我真的要说吗 \t香湖人 \t\t@香湖人 27楼 　　　　-----------------\n",
      "71 \t2011我为卿狂 \tshdsb \t\t@shdsb 2012-10-29 10:17:43　　媒体\n",
      "72 \t无色天空FRANK \tpals2009 \t\t@pals2009 48楼 　　每次看到这样的消息，都很痛心\n",
      "76 \tgaolihshq \t兰质薰心 \t\t作者：弱水三千chen　回复日期：2012-10-29 11\n",
      "80 \tLBJStream \t曾开贵 \t\t@曾开贵 2012-10-29 11:40:09　　没有ZF\n",
      "93 \t大头菜烤年糕 \t横冲节度使 \t\t@横冲节度使 2012-10-29 12:11:50　　楼主\n",
      "94 \txinggzyyc \t赶浪头 \t\t@赶浪头 2楼 　　默默围观~　　　　-----------\n"
     ]
    }
   ],
   "source": [
    "for k, tweet in enumerate(dt.reply[:100]):\n",
    "    tweet = tweet.decode('utf8')\n",
    "    RTpattern = r'''@(\\w+)\\s'''\n",
    "    for person in re.findall(RTpattern, tweet, re.UNICODE):\n",
    "        print k,'\\t',dt.author_name[k],'\\t', person,'\\t\\t', tweet[:30]"
   ]
  },
  {
   "cell_type": "code",
   "execution_count": 32,
   "metadata": {
    "ExecuteTime": {
     "end_time": "2017-05-21T13:58:23.557058",
     "start_time": "2017-05-21T13:58:23.553695"
    },
    "slideshow": {
     "slide_type": "subslide"
    }
   },
   "outputs": [
    {
     "name": "stdout",
     "output_type": "stream",
     "text": [
      "@曾开贵 2012-10-29 11:40:09　　没有ZF，哪来新ZG，没有新ZG，你们吃什么？为什么你们总是要攻击ZF呢，就像之前那样骂骂小日本多好啊……看看台湾，一碗牛肉面竟然卖到100台币一碗，大L都才卖10元一碗，你还不知足！啥，工资不一样？没错，台湾平均工资5万台币能买500碗牛肉面，大L平均工资2000能买200碗牛肉面。但是，小同志，事情没这么简单啊，你能一下吃完500碗面吗？在倡导节约、环保低碳的今天，你不觉得铺张浪费是件可耻...........　　-----------------------------　　叼\n"
     ]
    }
   ],
   "source": [
    "print dt.reply[80]"
   ]
  },
  {
   "cell_type": "code",
   "execution_count": 33,
   "metadata": {
    "ExecuteTime": {
     "end_time": "2017-05-21T13:58:24.696379",
     "start_time": "2017-05-21T13:58:24.672919"
    },
    "slideshow": {
     "slide_type": "slide"
    }
   },
   "outputs": [],
   "source": [
    "link_author_dict = {}\n",
    "for i in range(len(df)):\n",
    "    link_author_dict[df.link[i]] =df.author[i] \n",
    "    "
   ]
  },
  {
   "cell_type": "code",
   "execution_count": 34,
   "metadata": {
    "ExecuteTime": {
     "end_time": "2017-05-21T13:58:25.881990",
     "start_time": "2017-05-21T13:58:25.496798"
    },
    "slideshow": {
     "slide_type": "subslide"
    }
   },
   "outputs": [],
   "source": [
    "graph = []\n",
    "for k, tweet in enumerate(dt.reply):\n",
    "    tweet = tweet.decode('utf8')\n",
    "    url = dt.link[k]\n",
    "    RTpattern = r'''@(\\w+)\\s'''\n",
    "    persons = re.findall(RTpattern, tweet, re.UNICODE)\n",
    "    if persons:\n",
    "        for person in persons:\n",
    "            graph.append([dt.author_name[k].decode('utf8'), person])\n",
    "    else:\n",
    "        graph.append( [dt.author_name[k].decode('utf8'), link_author_dict[url].decode('utf8')]  )\n",
    "        "
   ]
  },
  {
   "cell_type": "code",
   "execution_count": 35,
   "metadata": {
    "ExecuteTime": {
     "end_time": "2017-05-21T13:58:26.877438",
     "start_time": "2017-05-21T13:58:26.873503"
    },
    "slideshow": {
     "slide_type": "fragment"
    }
   },
   "outputs": [
    {
     "data": {
      "text/plain": [
       "8769"
      ]
     },
     "execution_count": 35,
     "metadata": {},
     "output_type": "execute_result"
    }
   ],
   "source": [
    "len(graph)"
   ]
  },
  {
   "cell_type": "code",
   "execution_count": 36,
   "metadata": {
    "ExecuteTime": {
     "end_time": "2017-05-21T13:58:27.654750",
     "start_time": "2017-05-21T13:58:27.651421"
    },
    "slideshow": {
     "slide_type": "subslide"
    }
   },
   "outputs": [
    {
     "name": "stdout",
     "output_type": "stream",
     "text": [
      "贾也 贾也\n",
      "三平67 贾也\n",
      "赶浪头 贾也\n"
     ]
    }
   ],
   "source": [
    "for x, y in graph[:3]:\n",
    "    print x, y"
   ]
  },
  {
   "cell_type": "code",
   "execution_count": 37,
   "metadata": {
    "ExecuteTime": {
     "end_time": "2017-05-21T13:58:28.757423",
     "start_time": "2017-05-21T13:58:28.544793"
    },
    "collapsed": true,
    "slideshow": {
     "slide_type": "slide"
    }
   },
   "outputs": [],
   "source": [
    "import networkx as nx"
   ]
  },
  {
   "cell_type": "code",
   "execution_count": 38,
   "metadata": {
    "ExecuteTime": {
     "end_time": "2017-05-21T13:58:29.700273",
     "start_time": "2017-05-21T13:58:29.623599"
    },
    "slideshow": {
     "slide_type": "fragment"
    }
   },
   "outputs": [],
   "source": [
    "G = nx.DiGraph()\n",
    "for x,y in graph:\n",
    "    if x != y:\n",
    "        G.add_edge(x,y)\n"
   ]
  },
  {
   "cell_type": "code",
   "execution_count": 39,
   "metadata": {
    "ExecuteTime": {
     "end_time": "2017-05-21T13:58:31.059188",
     "start_time": "2017-05-21T13:58:31.040941"
    },
    "slideshow": {
     "slide_type": "fragment"
    }
   },
   "outputs": [
    {
     "data": {
      "text/plain": [
       "'Name: \\nType: DiGraph\\nNumber of nodes: 4289\\nNumber of edges: 5995\\nAverage in degree:   1.3978\\nAverage out degree:   1.3978'"
      ]
     },
     "execution_count": 39,
     "metadata": {},
     "output_type": "execute_result"
    }
   ],
   "source": [
    "nx.info(G)"
   ]
  },
  {
   "cell_type": "code",
   "execution_count": 40,
   "metadata": {
    "ExecuteTime": {
     "end_time": "2017-05-21T13:58:32.138030",
     "start_time": "2017-05-21T13:58:31.800884"
    },
    "collapsed": true,
    "slideshow": {
     "slide_type": "subslide"
    }
   },
   "outputs": [],
   "source": [
    "GU=G.to_undirected(reciprocal=True)\n",
    "graphs = list(nx.connected_component_subgraphs(GU))"
   ]
  },
  {
   "cell_type": "code",
   "execution_count": 41,
   "metadata": {
    "ExecuteTime": {
     "end_time": "2017-05-21T13:58:32.873774",
     "start_time": "2017-05-21T13:58:32.857263"
    },
    "slideshow": {
     "slide_type": "fragment"
    }
   },
   "outputs": [
    {
     "data": {
      "text/plain": [
       "(4067, 120)"
      ]
     },
     "execution_count": 41,
     "metadata": {},
     "output_type": "execute_result"
    }
   ],
   "source": [
    "import numpy as np\n",
    "size = []\n",
    "for i in graphs:\n",
    "    size.append(len(i.nodes()))\n",
    "len(size), np.max(size)"
   ]
  },
  {
   "cell_type": "code",
   "execution_count": 42,
   "metadata": {
    "ExecuteTime": {
     "end_time": "2017-05-21T13:58:33.743788",
     "start_time": "2017-05-21T13:58:33.728827"
    },
    "slideshow": {
     "slide_type": "subslide"
    }
   },
   "outputs": [
    {
     "data": {
      "text/plain": [
       "4"
      ]
     },
     "execution_count": 42,
     "metadata": {},
     "output_type": "execute_result"
    }
   ],
   "source": [
    "gs = []\n",
    "for i in graphs:\n",
    "    if len(i.nodes()) >5:\n",
    "        gs.append(i)\n",
    "len(gs)"
   ]
  },
  {
   "cell_type": "code",
   "execution_count": 43,
   "metadata": {
    "ExecuteTime": {
     "end_time": "2017-05-21T13:58:34.748699",
     "start_time": "2017-05-21T13:58:34.745064"
    },
    "slideshow": {
     "slide_type": "fragment"
    }
   },
   "outputs": [
    {
     "name": "stdout",
     "output_type": "stream",
     "text": [
      "120\n",
      "44\n",
      "9\n",
      "6\n"
     ]
    }
   ],
   "source": [
    "for g in gs:\n",
    "    print len(g.nodes())"
   ]
  },
  {
   "cell_type": "code",
   "execution_count": 44,
   "metadata": {
    "ExecuteTime": {
     "end_time": "2017-05-21T13:58:35.605827",
     "start_time": "2017-05-21T13:58:35.600980"
    },
    "slideshow": {
     "slide_type": "subslide"
    }
   },
   "outputs": [
    {
     "data": {
      "text/plain": [
       "120"
      ]
     },
     "execution_count": 44,
     "metadata": {},
     "output_type": "execute_result"
    }
   ],
   "source": [
    "g_max = gs[0]\n",
    "len(g_max.nodes())"
   ]
  },
  {
   "cell_type": "code",
   "execution_count": 45,
   "metadata": {
    "ExecuteTime": {
     "end_time": "2017-05-21T13:58:36.789517",
     "start_time": "2017-05-21T13:58:36.592781"
    },
    "slideshow": {
     "slide_type": "subslide"
    }
   },
   "outputs": [
    {
     "data": {
      "image/png": "[encoded data removed]",
      "text/plain": [
       "<matplotlib.figure.Figure at 0x1150e4c90>"
      ]
     },
     "metadata": {},
     "output_type": "display_data"
    }
   ],
   "source": [
    "pos = nx.spring_layout(g_max)          \n",
    "#定义一个布局，此处采用了spectral布局方式，后变还会介绍其它布局方式，注意图形上的区别\n",
    "nx.draw(g_max,pos,with_labels=False,node_size = 30)  \n",
    "#绘制规则图的图形，with_labels决定节点是非带标签（编号）,node_size是节点的直径\n",
    "plt.show()  #显示图形"
   ]
  },
  {
   "cell_type": "code",
   "execution_count": 46,
   "metadata": {
    "ExecuteTime": {
     "end_time": "2017-05-21T13:58:37.678460",
     "start_time": "2017-05-21T13:58:37.673412"
    },
    "slideshow": {
     "slide_type": "slide"
    }
   },
   "outputs": [],
   "source": [
    "with open('/Users/chengjun/github/cjc/data/tianya_network_120.csv', 'a') as f:\n",
    "    for x, y in g_max.edges():\n",
    "        f.write(x.encode('utf8') + ',' + y.encode('utf8') + '\\n')"
   ]
  },
  {
   "cell_type": "markdown",
   "metadata": {
    "slideshow": {
     "slide_type": "slide"
    }
   },
   "source": [
    "![](./img/tianyaGephi.png)\n",
    "\n",
    "# 使用 Gephi进行网络可视化"
   ]
  },
  {
   "cell_type": "markdown",
   "metadata": {
    "slideshow": {
     "slide_type": "subslide"
    }
   },
   "source": [
    "# 1\t/post-free-2849477-1.shtml\t2012-10-29 11:11:32\t51150428\t生生0326\t一环　　天涯现在太滞后了，看消息还是得靠微博。太失望了。\n"
   ]
  },
  {
   "cell_type": "markdown",
   "metadata": {
    "slideshow": {
     "slide_type": "slide"
    }
   },
   "source": [
    "# 作业：\n",
    "- 1. 计算节点的度，并绘制其散点图。\n",
    "- 2. 计算节点的聚类系数\n",
    "- 3. 计算节点的pagerank"
   ]
  },
  {
   "cell_type": "code",
   "execution_count": null,
   "metadata": {
    "collapsed": true
   },
   "outputs": [],
   "source": []
  }
 ],
 "metadata": {
  "celltoolbar": "Slideshow",
  "kernelspec": {
   "display_name": "Python [conda env:anaconda]",
   "language": "python",
   "name": "conda-env-anaconda-py"
  },
  "language_info": {
   "codemirror_mode": {
    "name": "ipython",
    "version": 3
   },
   "file_extension": ".py",
   "mimetype": "text/x-python",
   "name": "python",
   "nbconvert_exporter": "python",
   "pygments_lexer": "ipython3",
   "version": "3.5.4"
  },
  "latex_envs": {
   "bibliofile": "biblio.bib",
   "cite_by": "apalike",
   "current_citInitial": 1,
   "eqLabelWithNumbers": true,
   "eqNumInitial": 0
  },
  "toc": {
   "base_numbering": 1,
   "nav_menu": {},
   "number_sections": false,
   "sideBar": true,
   "skip_h1_title": false,
   "title_cell": "Table of Contents",
   "title_sidebar": "Contents",
   "toc_cell": false,
   "toc_position": {},
   "toc_section_display": false,
   "toc_window_display": true
  }
 },
 "nbformat": 4,
 "nbformat_minor": 1
}
