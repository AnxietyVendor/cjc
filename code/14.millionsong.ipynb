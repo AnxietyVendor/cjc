{
 "cells": [
  {
   "cell_type": "markdown",
   "metadata": {
    "slideshow": {
     "slide_type": "slide"
    }
   },
   "source": [
    "***\n",
    "***\n",
    "# 使用Turicreate进行音乐推荐\n",
    "***\n",
    "***\n"
   ]
  },
  {
   "cell_type": "code",
   "execution_count": 3,
   "metadata": {
    "ExecuteTime": {
     "end_time": "2019-06-14T16:27:49.686880Z",
     "start_time": "2019-06-14T16:27:49.684234Z"
    },
    "slideshow": {
     "slide_type": "slide"
    }
   },
   "outputs": [],
   "source": [
    "import turicreate as tc"
   ]
  },
  {
   "cell_type": "markdown",
   "metadata": {
    "slideshow": {
     "slide_type": "slide"
    }
   },
   "source": [
    "# 下载数据\n",
    "http://s3.amazonaws.com/dato-datasets/millionsong/10000.txt\n"
   ]
  },
  {
   "cell_type": "code",
   "execution_count": 5,
   "metadata": {
    "ExecuteTime": {
     "end_time": "2019-06-14T16:28:01.546324Z",
     "start_time": "2019-06-14T16:27:59.046937Z"
    },
    "slideshow": {
     "slide_type": "slide"
    }
   },
   "outputs": [],
   "source": [
    "#train_file = 'http://s3.amazonaws.com/dato-datasets/millionsong/10000.txt'\n",
    "train_file = '/Users/datalab/bigdata/cjc/millionsong/song_usage_10000.txt'\n",
    "sf = tc.SFrame.read_csv(train_file, header=False, delimiter='\\t', verbose=False)\n",
    "sf = sf.rename({'X1':'user_id', 'X2':'music_id', 'X3':'rating'})"
   ]
  },
  {
   "cell_type": "code",
   "execution_count": 6,
   "metadata": {
    "ExecuteTime": {
     "end_time": "2019-06-14T16:28:08.609898Z",
     "start_time": "2019-06-14T16:28:08.605445Z"
    },
    "slideshow": {
     "slide_type": "slide"
    }
   },
   "outputs": [],
   "source": [
    "train_set, test_set = sf.random_split(0.8, seed=1)"
   ]
  },
  {
   "cell_type": "code",
   "execution_count": 7,
   "metadata": {
    "ExecuteTime": {
     "end_time": "2019-06-14T16:28:15.484090Z",
     "start_time": "2019-06-14T16:28:13.644492Z"
    },
    "slideshow": {
     "slide_type": "slide"
    }
   },
   "outputs": [
    {
     "data": {
      "text/html": [
       "<pre>Preparing data set.</pre>"
      ],
      "text/plain": [
       "Preparing data set."
      ]
     },
     "metadata": {},
     "output_type": "display_data"
    },
    {
     "data": {
      "text/html": [
       "<pre>    Data has 1599753 observations with 76085 users and 10000 items.</pre>"
      ],
      "text/plain": [
       "    Data has 1599753 observations with 76085 users and 10000 items."
      ]
     },
     "metadata": {},
     "output_type": "display_data"
    },
    {
     "data": {
      "text/html": [
       "<pre>    Data prepared in: 0.970575s</pre>"
      ],
      "text/plain": [
       "    Data prepared in: 0.970575s"
      ]
     },
     "metadata": {},
     "output_type": "display_data"
    },
    {
     "data": {
      "text/html": [
       "<pre>1599753 observations to process; with 10000 unique items.</pre>"
      ],
      "text/plain": [
       "1599753 observations to process; with 10000 unique items."
      ]
     },
     "metadata": {},
     "output_type": "display_data"
    }
   ],
   "source": [
    "popularity_model = tc.popularity_recommender.create(train_set, \n",
    "                                                    'user_id', 'music_id', \n",
    "                                                    target = 'rating')"
   ]
  },
  {
   "cell_type": "code",
   "execution_count": 8,
   "metadata": {
    "ExecuteTime": {
     "end_time": "2019-06-14T16:28:26.844403Z",
     "start_time": "2019-06-14T16:28:23.615807Z"
    },
    "slideshow": {
     "slide_type": "slide"
    }
   },
   "outputs": [
    {
     "data": {
      "text/html": [
       "<pre>Preparing data set.</pre>"
      ],
      "text/plain": [
       "Preparing data set."
      ]
     },
     "metadata": {},
     "output_type": "display_data"
    },
    {
     "data": {
      "text/html": [
       "<pre>    Data has 1599753 observations with 76085 users and 10000 items.</pre>"
      ],
      "text/plain": [
       "    Data has 1599753 observations with 76085 users and 10000 items."
      ]
     },
     "metadata": {},
     "output_type": "display_data"
    },
    {
     "data": {
      "text/html": [
       "<pre>    Data prepared in: 1.03264s</pre>"
      ],
      "text/plain": [
       "    Data prepared in: 1.03264s"
      ]
     },
     "metadata": {},
     "output_type": "display_data"
    },
    {
     "data": {
      "text/html": [
       "<pre>Training model from provided data.</pre>"
      ],
      "text/plain": [
       "Training model from provided data."
      ]
     },
     "metadata": {},
     "output_type": "display_data"
    },
    {
     "data": {
      "text/html": [
       "<pre>Gathering per-item and per-user statistics.</pre>"
      ],
      "text/plain": [
       "Gathering per-item and per-user statistics."
      ]
     },
     "metadata": {},
     "output_type": "display_data"
    },
    {
     "data": {
      "text/html": [
       "<pre>+--------------------------------+------------+</pre>"
      ],
      "text/plain": [
       "+--------------------------------+------------+"
      ]
     },
     "metadata": {},
     "output_type": "display_data"
    },
    {
     "data": {
      "text/html": [
       "<pre>| Elapsed Time (Item Statistics) | % Complete |</pre>"
      ],
      "text/plain": [
       "| Elapsed Time (Item Statistics) | % Complete |"
      ]
     },
     "metadata": {},
     "output_type": "display_data"
    },
    {
     "data": {
      "text/html": [
       "<pre>+--------------------------------+------------+</pre>"
      ],
      "text/plain": [
       "+--------------------------------+------------+"
      ]
     },
     "metadata": {},
     "output_type": "display_data"
    },
    {
     "data": {
      "text/html": [
       "<pre>| 970us                          | 1.25       |</pre>"
      ],
      "text/plain": [
       "| 970us                          | 1.25       |"
      ]
     },
     "metadata": {},
     "output_type": "display_data"
    },
    {
     "data": {
      "text/html": [
       "<pre>| 27.968ms                       | 100        |</pre>"
      ],
      "text/plain": [
       "| 27.968ms                       | 100        |"
      ]
     },
     "metadata": {},
     "output_type": "display_data"
    },
    {
     "data": {
      "text/html": [
       "<pre>+--------------------------------+------------+</pre>"
      ],
      "text/plain": [
       "+--------------------------------+------------+"
      ]
     },
     "metadata": {},
     "output_type": "display_data"
    },
    {
     "data": {
      "text/html": [
       "<pre>Setting up lookup tables.</pre>"
      ],
      "text/plain": [
       "Setting up lookup tables."
      ]
     },
     "metadata": {},
     "output_type": "display_data"
    },
    {
     "data": {
      "text/html": [
       "<pre>Processing data in one pass using dense lookup tables.</pre>"
      ],
      "text/plain": [
       "Processing data in one pass using dense lookup tables."
      ]
     },
     "metadata": {},
     "output_type": "display_data"
    },
    {
     "data": {
      "text/html": [
       "<pre>+-------------------------------------+------------------+-----------------+</pre>"
      ],
      "text/plain": [
       "+-------------------------------------+------------------+-----------------+"
      ]
     },
     "metadata": {},
     "output_type": "display_data"
    },
    {
     "data": {
      "text/html": [
       "<pre>| Elapsed Time (Constructing Lookups) | Total % Complete | Items Processed |</pre>"
      ],
      "text/plain": [
       "| Elapsed Time (Constructing Lookups) | Total % Complete | Items Processed |"
      ]
     },
     "metadata": {},
     "output_type": "display_data"
    },
    {
     "data": {
      "text/html": [
       "<pre>+-------------------------------------+------------------+-----------------+</pre>"
      ],
      "text/plain": [
       "+-------------------------------------+------------------+-----------------+"
      ]
     },
     "metadata": {},
     "output_type": "display_data"
    },
    {
     "data": {
      "text/html": [
       "<pre>| 278.609ms                           | 0                | 0               |</pre>"
      ],
      "text/plain": [
       "| 278.609ms                           | 0                | 0               |"
      ]
     },
     "metadata": {},
     "output_type": "display_data"
    },
    {
     "data": {
      "text/html": [
       "<pre>| 1.12s                               | 100              | 10000           |</pre>"
      ],
      "text/plain": [
       "| 1.12s                               | 100              | 10000           |"
      ]
     },
     "metadata": {},
     "output_type": "display_data"
    },
    {
     "data": {
      "text/html": [
       "<pre>+-------------------------------------+------------------+-----------------+</pre>"
      ],
      "text/plain": [
       "+-------------------------------------+------------------+-----------------+"
      ]
     },
     "metadata": {},
     "output_type": "display_data"
    },
    {
     "data": {
      "text/html": [
       "<pre>Finalizing lookup tables.</pre>"
      ],
      "text/plain": [
       "Finalizing lookup tables."
      ]
     },
     "metadata": {},
     "output_type": "display_data"
    },
    {
     "data": {
      "text/html": [
       "<pre>Generating candidate set for working with new users.</pre>"
      ],
      "text/plain": [
       "Generating candidate set for working with new users."
      ]
     },
     "metadata": {},
     "output_type": "display_data"
    },
    {
     "data": {
      "text/html": [
       "<pre>Finished training in 2.18994s</pre>"
      ],
      "text/plain": [
       "Finished training in 2.18994s"
      ]
     },
     "metadata": {},
     "output_type": "display_data"
    }
   ],
   "source": [
    "item_sim_model = gl.item_similarity_recommender.create(train_set, \n",
    "                                                       'user_id', 'music_id', \n",
    "                                                       target = 'rating', \n",
    "                                                       similarity_type='cosine')"
   ]
  },
  {
   "cell_type": "code",
   "execution_count": 9,
   "metadata": {
    "ExecuteTime": {
     "end_time": "2019-06-14T16:28:41.111793Z",
     "start_time": "2019-06-14T16:28:33.490962Z"
    },
    "slideshow": {
     "slide_type": "slide"
    }
   },
   "outputs": [
    {
     "data": {
      "text/html": [
       "<pre>Preparing data set.</pre>"
      ],
      "text/plain": [
       "Preparing data set."
      ]
     },
     "metadata": {},
     "output_type": "display_data"
    },
    {
     "data": {
      "text/html": [
       "<pre>    Data has 1599753 observations with 76085 users and 10000 items.</pre>"
      ],
      "text/plain": [
       "    Data has 1599753 observations with 76085 users and 10000 items."
      ]
     },
     "metadata": {},
     "output_type": "display_data"
    },
    {
     "data": {
      "text/html": [
       "<pre>    Data prepared in: 1.01785s</pre>"
      ],
      "text/plain": [
       "    Data prepared in: 1.01785s"
      ]
     },
     "metadata": {},
     "output_type": "display_data"
    },
    {
     "data": {
      "text/html": [
       "<pre>Training factorization_recommender for recommendations.</pre>"
      ],
      "text/plain": [
       "Training factorization_recommender for recommendations."
      ]
     },
     "metadata": {},
     "output_type": "display_data"
    },
    {
     "data": {
      "text/html": [
       "<pre>+--------------------------------+--------------------------------------------------+----------+</pre>"
      ],
      "text/plain": [
       "+--------------------------------+--------------------------------------------------+----------+"
      ]
     },
     "metadata": {},
     "output_type": "display_data"
    },
    {
     "data": {
      "text/html": [
       "<pre>| Parameter                      | Description                                      | Value    |</pre>"
      ],
      "text/plain": [
       "| Parameter                      | Description                                      | Value    |"
      ]
     },
     "metadata": {},
     "output_type": "display_data"
    },
    {
     "data": {
      "text/html": [
       "<pre>+--------------------------------+--------------------------------------------------+----------+</pre>"
      ],
      "text/plain": [
       "+--------------------------------+--------------------------------------------------+----------+"
      ]
     },
     "metadata": {},
     "output_type": "display_data"
    },
    {
     "data": {
      "text/html": [
       "<pre>| num_factors                    | Factor Dimension                                 | 8        |</pre>"
      ],
      "text/plain": [
       "| num_factors                    | Factor Dimension                                 | 8        |"
      ]
     },
     "metadata": {},
     "output_type": "display_data"
    },
    {
     "data": {
      "text/html": [
       "<pre>| regularization                 | L2 Regularization on Factors                     | 1e-08    |</pre>"
      ],
      "text/plain": [
       "| regularization                 | L2 Regularization on Factors                     | 1e-08    |"
      ]
     },
     "metadata": {},
     "output_type": "display_data"
    },
    {
     "data": {
      "text/html": [
       "<pre>| solver                         | Solver used for training                         | sgd      |</pre>"
      ],
      "text/plain": [
       "| solver                         | Solver used for training                         | sgd      |"
      ]
     },
     "metadata": {},
     "output_type": "display_data"
    },
    {
     "data": {
      "text/html": [
       "<pre>| linear_regularization          | L2 Regularization on Linear Coefficients         | 1e-10    |</pre>"
      ],
      "text/plain": [
       "| linear_regularization          | L2 Regularization on Linear Coefficients         | 1e-10    |"
      ]
     },
     "metadata": {},
     "output_type": "display_data"
    },
    {
     "data": {
      "text/html": [
       "<pre>| max_iterations                 | Maximum Number of Iterations                     | 50       |</pre>"
      ],
      "text/plain": [
       "| max_iterations                 | Maximum Number of Iterations                     | 50       |"
      ]
     },
     "metadata": {},
     "output_type": "display_data"
    },
    {
     "data": {
      "text/html": [
       "<pre>+--------------------------------+--------------------------------------------------+----------+</pre>"
      ],
      "text/plain": [
       "+--------------------------------+--------------------------------------------------+----------+"
      ]
     },
     "metadata": {},
     "output_type": "display_data"
    },
    {
     "data": {
      "text/html": [
       "<pre>  Optimizing model using SGD; tuning step size.</pre>"
      ],
      "text/plain": [
       "  Optimizing model using SGD; tuning step size."
      ]
     },
     "metadata": {},
     "output_type": "display_data"
    },
    {
     "data": {
      "text/html": [
       "<pre>  Using 199969 / 1599753 points for tuning the step size.</pre>"
      ],
      "text/plain": [
       "  Using 199969 / 1599753 points for tuning the step size."
      ]
     },
     "metadata": {},
     "output_type": "display_data"
    },
    {
     "data": {
      "text/html": [
       "<pre>+---------+-------------------+------------------------------------------+</pre>"
      ],
      "text/plain": [
       "+---------+-------------------+------------------------------------------+"
      ]
     },
     "metadata": {},
     "output_type": "display_data"
    },
    {
     "data": {
      "text/html": [
       "<pre>| Attempt | Initial Step Size | Estimated Objective Value                |</pre>"
      ],
      "text/plain": [
       "| Attempt | Initial Step Size | Estimated Objective Value                |"
      ]
     },
     "metadata": {},
     "output_type": "display_data"
    },
    {
     "data": {
      "text/html": [
       "<pre>+---------+-------------------+------------------------------------------+</pre>"
      ],
      "text/plain": [
       "+---------+-------------------+------------------------------------------+"
      ]
     },
     "metadata": {},
     "output_type": "display_data"
    },
    {
     "data": {
      "text/html": [
       "<pre>| 0       | 25                | No Decrease (231.468 >= 38.8078)         |</pre>"
      ],
      "text/plain": [
       "| 0       | 25                | No Decrease (231.468 >= 38.8078)         |"
      ]
     },
     "metadata": {},
     "output_type": "display_data"
    },
    {
     "data": {
      "text/html": [
       "<pre>| 1       | 6.25              | No Decrease (215.957 >= 38.8078)         |</pre>"
      ],
      "text/plain": [
       "| 1       | 6.25              | No Decrease (215.957 >= 38.8078)         |"
      ]
     },
     "metadata": {},
     "output_type": "display_data"
    },
    {
     "data": {
      "text/html": [
       "<pre>| 2       | 1.5625            | No Decrease (185.867 >= 38.8078)         |</pre>"
      ],
      "text/plain": [
       "| 2       | 1.5625            | No Decrease (185.867 >= 38.8078)         |"
      ]
     },
     "metadata": {},
     "output_type": "display_data"
    },
    {
     "data": {
      "text/html": [
       "<pre>| 3       | 0.390625          | No Decrease (86.367 >= 38.8078)          |</pre>"
      ],
      "text/plain": [
       "| 3       | 0.390625          | No Decrease (86.367 >= 38.8078)          |"
      ]
     },
     "metadata": {},
     "output_type": "display_data"
    },
    {
     "data": {
      "text/html": [
       "<pre>| 4       | 0.0976562         | 12.5937                                  |</pre>"
      ],
      "text/plain": [
       "| 4       | 0.0976562         | 12.5937                                  |"
      ]
     },
     "metadata": {},
     "output_type": "display_data"
    },
    {
     "data": {
      "text/html": [
       "<pre>| 5       | 0.0488281         | 9.39156                                  |</pre>"
      ],
      "text/plain": [
       "| 5       | 0.0488281         | 9.39156                                  |"
      ]
     },
     "metadata": {},
     "output_type": "display_data"
    },
    {
     "data": {
      "text/html": [
       "<pre>| 6       | 0.0244141         | 23.203                                   |</pre>"
      ],
      "text/plain": [
       "| 6       | 0.0244141         | 23.203                                   |"
      ]
     },
     "metadata": {},
     "output_type": "display_data"
    },
    {
     "data": {
      "text/html": [
       "<pre>+---------+-------------------+------------------------------------------+</pre>"
      ],
      "text/plain": [
       "+---------+-------------------+------------------------------------------+"
      ]
     },
     "metadata": {},
     "output_type": "display_data"
    },
    {
     "data": {
      "text/html": [
       "<pre>| Final   | 0.0488281         | 9.39156                                  |</pre>"
      ],
      "text/plain": [
       "| Final   | 0.0488281         | 9.39156                                  |"
      ]
     },
     "metadata": {},
     "output_type": "display_data"
    },
    {
     "data": {
      "text/html": [
       "<pre>+---------+-------------------+------------------------------------------+</pre>"
      ],
      "text/plain": [
       "+---------+-------------------+------------------------------------------+"
      ]
     },
     "metadata": {},
     "output_type": "display_data"
    },
    {
     "data": {
      "text/html": [
       "<pre>Starting Optimization.</pre>"
      ],
      "text/plain": [
       "Starting Optimization."
      ]
     },
     "metadata": {},
     "output_type": "display_data"
    },
    {
     "data": {
      "text/html": [
       "<pre>+---------+--------------+-------------------+-----------------------+-------------+</pre>"
      ],
      "text/plain": [
       "+---------+--------------+-------------------+-----------------------+-------------+"
      ]
     },
     "metadata": {},
     "output_type": "display_data"
    },
    {
     "data": {
      "text/html": [
       "<pre>| Iter.   | Elapsed Time | Approx. Objective | Approx. Training RMSE | Step Size   |</pre>"
      ],
      "text/plain": [
       "| Iter.   | Elapsed Time | Approx. Objective | Approx. Training RMSE | Step Size   |"
      ]
     },
     "metadata": {},
     "output_type": "display_data"
    },
    {
     "data": {
      "text/html": [
       "<pre>+---------+--------------+-------------------+-----------------------+-------------+</pre>"
      ],
      "text/plain": [
       "+---------+--------------+-------------------+-----------------------+-------------+"
      ]
     },
     "metadata": {},
     "output_type": "display_data"
    },
    {
     "data": {
      "text/html": [
       "<pre>| Initial | 105us        | 43.795            | 6.61778               |             |</pre>"
      ],
      "text/plain": [
       "| Initial | 105us        | 43.795            | 6.61778               |             |"
      ]
     },
     "metadata": {},
     "output_type": "display_data"
    },
    {
     "data": {
      "text/html": [
       "<pre>+---------+--------------+-------------------+-----------------------+-------------+</pre>"
      ],
      "text/plain": [
       "+---------+--------------+-------------------+-----------------------+-------------+"
      ]
     },
     "metadata": {},
     "output_type": "display_data"
    },
    {
     "data": {
      "text/html": [
       "<pre>| 1       | 134.971ms    | 43.475            | 6.59316               | 0.0488281   |</pre>"
      ],
      "text/plain": [
       "| 1       | 134.971ms    | 43.475            | 6.59316               | 0.0488281   |"
      ]
     },
     "metadata": {},
     "output_type": "display_data"
    },
    {
     "data": {
      "text/html": [
       "<pre>| 2       | 229.238ms    | 41.0011           | 6.40285               | 0.0290334   |</pre>"
      ],
      "text/plain": [
       "| 2       | 229.238ms    | 41.0011           | 6.40285               | 0.0290334   |"
      ]
     },
     "metadata": {},
     "output_type": "display_data"
    },
    {
     "data": {
      "text/html": [
       "<pre>| 3       | 322.53ms     | 37.9859           | 6.1629                | 0.0214205   |</pre>"
      ],
      "text/plain": [
       "| 3       | 322.53ms     | 37.9859           | 6.1629                | 0.0214205   |"
      ]
     },
     "metadata": {},
     "output_type": "display_data"
    },
    {
     "data": {
      "text/html": [
       "<pre>| 4       | 412.812ms    | 35.2116           | 5.93354               | 0.0172633   |</pre>"
      ],
      "text/plain": [
       "| 4       | 412.812ms    | 35.2116           | 5.93354               | 0.0172633   |"
      ]
     },
     "metadata": {},
     "output_type": "display_data"
    },
    {
     "data": {
      "text/html": [
       "<pre>| 5       | 510.724ms    | 32.8366           | 5.72989               | 0.014603    |</pre>"
      ],
      "text/plain": [
       "| 5       | 510.724ms    | 32.8366           | 5.72989               | 0.014603    |"
      ]
     },
     "metadata": {},
     "output_type": "display_data"
    },
    {
     "data": {
      "text/html": [
       "<pre>| 10      | 999.071ms    | 24.7793           | 4.97723               | 0.008683    |</pre>"
      ],
      "text/plain": [
       "| 10      | 999.071ms    | 24.7793           | 4.97723               | 0.008683    |"
      ]
     },
     "metadata": {},
     "output_type": "display_data"
    },
    {
     "data": {
      "text/html": [
       "<pre>| 50      | 4.87s        | 11.6537           | 3.41236               | 0.00259682  |</pre>"
      ],
      "text/plain": [
       "| 50      | 4.87s        | 11.6537           | 3.41236               | 0.00259682  |"
      ]
     },
     "metadata": {},
     "output_type": "display_data"
    },
    {
     "data": {
      "text/html": [
       "<pre>+---------+--------------+-------------------+-----------------------+-------------+</pre>"
      ],
      "text/plain": [
       "+---------+--------------+-------------------+-----------------------+-------------+"
      ]
     },
     "metadata": {},
     "output_type": "display_data"
    },
    {
     "data": {
      "text/html": [
       "<pre>Optimization Complete: Maximum number of passes through the data reached.</pre>"
      ],
      "text/plain": [
       "Optimization Complete: Maximum number of passes through the data reached."
      ]
     },
     "metadata": {},
     "output_type": "display_data"
    },
    {
     "data": {
      "text/html": [
       "<pre>Computing final objective value and training RMSE.</pre>"
      ],
      "text/plain": [
       "Computing final objective value and training RMSE."
      ]
     },
     "metadata": {},
     "output_type": "display_data"
    },
    {
     "data": {
      "text/html": [
       "<pre>       Final objective value: 10.5002</pre>"
      ],
      "text/plain": [
       "       Final objective value: 10.5002"
      ]
     },
     "metadata": {},
     "output_type": "display_data"
    },
    {
     "data": {
      "text/html": [
       "<pre>       Final training RMSE: 3.23894</pre>"
      ],
      "text/plain": [
       "       Final training RMSE: 3.23894"
      ]
     },
     "metadata": {},
     "output_type": "display_data"
    }
   ],
   "source": [
    "factorization_machine_model = tc.recommender.factorization_recommender.create(train_set, \n",
    "                                                                              'user_id', 'music_id',\n",
    "                                                                              target='rating')"
   ]
  },
  {
   "cell_type": "code",
   "execution_count": 10,
   "metadata": {
    "ExecuteTime": {
     "end_time": "2019-06-14T16:28:44.330829Z",
     "start_time": "2019-06-14T16:28:44.318235Z"
    }
   },
   "outputs": [
    {
     "data": {
      "text/plain": [
       "1599753"
      ]
     },
     "execution_count": 10,
     "metadata": {},
     "output_type": "execute_result"
    }
   ],
   "source": [
    "len(train_set)"
   ]
  },
  {
   "cell_type": "code",
   "execution_count": 11,
   "metadata": {
    "ExecuteTime": {
     "end_time": "2019-06-14T16:29:15.870618Z",
     "start_time": "2019-06-14T16:28:52.006458Z"
    },
    "slideshow": {
     "slide_type": "slide"
    }
   },
   "outputs": [
    {
     "name": "stdout",
     "output_type": "stream",
     "text": [
      "compare_models: using 34354 users to estimate model performance\n",
      "PROGRESS: Evaluate model M0\n"
     ]
    },
    {
     "data": {
      "text/html": [
       "<pre>recommendations finished on 1000/34354 queries. users per second: 19254.8</pre>"
      ],
      "text/plain": [
       "recommendations finished on 1000/34354 queries. users per second: 19254.8"
      ]
     },
     "metadata": {},
     "output_type": "display_data"
    },
    {
     "data": {
      "text/html": [
       "<pre>recommendations finished on 2000/34354 queries. users per second: 21393.8</pre>"
      ],
      "text/plain": [
       "recommendations finished on 2000/34354 queries. users per second: 21393.8"
      ]
     },
     "metadata": {},
     "output_type": "display_data"
    },
    {
     "data": {
      "text/html": [
       "<pre>recommendations finished on 3000/34354 queries. users per second: 21652.1</pre>"
      ],
      "text/plain": [
       "recommendations finished on 3000/34354 queries. users per second: 21652.1"
      ]
     },
     "metadata": {},
     "output_type": "display_data"
    },
    {
     "data": {
      "text/html": [
       "<pre>recommendations finished on 4000/34354 queries. users per second: 22289.3</pre>"
      ],
      "text/plain": [
       "recommendations finished on 4000/34354 queries. users per second: 22289.3"
      ]
     },
     "metadata": {},
     "output_type": "display_data"
    },
    {
     "data": {
      "text/html": [
       "<pre>recommendations finished on 5000/34354 queries. users per second: 22662.8</pre>"
      ],
      "text/plain": [
       "recommendations finished on 5000/34354 queries. users per second: 22662.8"
      ]
     },
     "metadata": {},
     "output_type": "display_data"
    },
    {
     "data": {
      "text/html": [
       "<pre>recommendations finished on 6000/34354 queries. users per second: 22516.3</pre>"
      ],
      "text/plain": [
       "recommendations finished on 6000/34354 queries. users per second: 22516.3"
      ]
     },
     "metadata": {},
     "output_type": "display_data"
    },
    {
     "data": {
      "text/html": [
       "<pre>recommendations finished on 7000/34354 queries. users per second: 22614.1</pre>"
      ],
      "text/plain": [
       "recommendations finished on 7000/34354 queries. users per second: 22614.1"
      ]
     },
     "metadata": {},
     "output_type": "display_data"
    },
    {
     "data": {
      "text/html": [
       "<pre>recommendations finished on 8000/34354 queries. users per second: 22683.8</pre>"
      ],
      "text/plain": [
       "recommendations finished on 8000/34354 queries. users per second: 22683.8"
      ]
     },
     "metadata": {},
     "output_type": "display_data"
    },
    {
     "data": {
      "text/html": [
       "<pre>recommendations finished on 9000/34354 queries. users per second: 22771.2</pre>"
      ],
      "text/plain": [
       "recommendations finished on 9000/34354 queries. users per second: 22771.2"
      ]
     },
     "metadata": {},
     "output_type": "display_data"
    },
    {
     "data": {
      "text/html": [
       "<pre>recommendations finished on 10000/34354 queries. users per second: 22770.7</pre>"
      ],
      "text/plain": [
       "recommendations finished on 10000/34354 queries. users per second: 22770.7"
      ]
     },
     "metadata": {},
     "output_type": "display_data"
    },
    {
     "data": {
      "text/html": [
       "<pre>recommendations finished on 11000/34354 queries. users per second: 22538.8</pre>"
      ],
      "text/plain": [
       "recommendations finished on 11000/34354 queries. users per second: 22538.8"
      ]
     },
     "metadata": {},
     "output_type": "display_data"
    },
    {
     "data": {
      "text/html": [
       "<pre>recommendations finished on 12000/34354 queries. users per second: 22439.3</pre>"
      ],
      "text/plain": [
       "recommendations finished on 12000/34354 queries. users per second: 22439.3"
      ]
     },
     "metadata": {},
     "output_type": "display_data"
    },
    {
     "data": {
      "text/html": [
       "<pre>recommendations finished on 13000/34354 queries. users per second: 22615.5</pre>"
      ],
      "text/plain": [
       "recommendations finished on 13000/34354 queries. users per second: 22615.5"
      ]
     },
     "metadata": {},
     "output_type": "display_data"
    },
    {
     "data": {
      "text/html": [
       "<pre>recommendations finished on 14000/34354 queries. users per second: 22690.5</pre>"
      ],
      "text/plain": [
       "recommendations finished on 14000/34354 queries. users per second: 22690.5"
      ]
     },
     "metadata": {},
     "output_type": "display_data"
    },
    {
     "data": {
      "text/html": [
       "<pre>recommendations finished on 15000/34354 queries. users per second: 22723.7</pre>"
      ],
      "text/plain": [
       "recommendations finished on 15000/34354 queries. users per second: 22723.7"
      ]
     },
     "metadata": {},
     "output_type": "display_data"
    },
    {
     "data": {
      "text/html": [
       "<pre>recommendations finished on 16000/34354 queries. users per second: 22799.4</pre>"
      ],
      "text/plain": [
       "recommendations finished on 16000/34354 queries. users per second: 22799.4"
      ]
     },
     "metadata": {},
     "output_type": "display_data"
    },
    {
     "data": {
      "text/html": [
       "<pre>recommendations finished on 17000/34354 queries. users per second: 22863.9</pre>"
      ],
      "text/plain": [
       "recommendations finished on 17000/34354 queries. users per second: 22863.9"
      ]
     },
     "metadata": {},
     "output_type": "display_data"
    },
    {
     "data": {
      "text/html": [
       "<pre>recommendations finished on 18000/34354 queries. users per second: 22919.9</pre>"
      ],
      "text/plain": [
       "recommendations finished on 18000/34354 queries. users per second: 22919.9"
      ]
     },
     "metadata": {},
     "output_type": "display_data"
    },
    {
     "data": {
      "text/html": [
       "<pre>recommendations finished on 19000/34354 queries. users per second: 22931.5</pre>"
      ],
      "text/plain": [
       "recommendations finished on 19000/34354 queries. users per second: 22931.5"
      ]
     },
     "metadata": {},
     "output_type": "display_data"
    },
    {
     "data": {
      "text/html": [
       "<pre>recommendations finished on 20000/34354 queries. users per second: 22944.3</pre>"
      ],
      "text/plain": [
       "recommendations finished on 20000/34354 queries. users per second: 22944.3"
      ]
     },
     "metadata": {},
     "output_type": "display_data"
    },
    {
     "data": {
      "text/html": [
       "<pre>recommendations finished on 21000/34354 queries. users per second: 22734.1</pre>"
      ],
      "text/plain": [
       "recommendations finished on 21000/34354 queries. users per second: 22734.1"
      ]
     },
     "metadata": {},
     "output_type": "display_data"
    },
    {
     "data": {
      "text/html": [
       "<pre>recommendations finished on 22000/34354 queries. users per second: 22710.1</pre>"
      ],
      "text/plain": [
       "recommendations finished on 22000/34354 queries. users per second: 22710.1"
      ]
     },
     "metadata": {},
     "output_type": "display_data"
    },
    {
     "data": {
      "text/html": [
       "<pre>recommendations finished on 23000/34354 queries. users per second: 22547.5</pre>"
      ],
      "text/plain": [
       "recommendations finished on 23000/34354 queries. users per second: 22547.5"
      ]
     },
     "metadata": {},
     "output_type": "display_data"
    },
    {
     "data": {
      "text/html": [
       "<pre>recommendations finished on 24000/34354 queries. users per second: 22473</pre>"
      ],
      "text/plain": [
       "recommendations finished on 24000/34354 queries. users per second: 22473"
      ]
     },
     "metadata": {},
     "output_type": "display_data"
    },
    {
     "data": {
      "text/html": [
       "<pre>recommendations finished on 25000/34354 queries. users per second: 22440.9</pre>"
      ],
      "text/plain": [
       "recommendations finished on 25000/34354 queries. users per second: 22440.9"
      ]
     },
     "metadata": {},
     "output_type": "display_data"
    },
    {
     "data": {
      "text/html": [
       "<pre>recommendations finished on 26000/34354 queries. users per second: 22430.7</pre>"
      ],
      "text/plain": [
       "recommendations finished on 26000/34354 queries. users per second: 22430.7"
      ]
     },
     "metadata": {},
     "output_type": "display_data"
    },
    {
     "data": {
      "text/html": [
       "<pre>recommendations finished on 27000/34354 queries. users per second: 22480.3</pre>"
      ],
      "text/plain": [
       "recommendations finished on 27000/34354 queries. users per second: 22480.3"
      ]
     },
     "metadata": {},
     "output_type": "display_data"
    },
    {
     "data": {
      "text/html": [
       "<pre>recommendations finished on 28000/34354 queries. users per second: 22514.9</pre>"
      ],
      "text/plain": [
       "recommendations finished on 28000/34354 queries. users per second: 22514.9"
      ]
     },
     "metadata": {},
     "output_type": "display_data"
    },
    {
     "data": {
      "text/html": [
       "<pre>recommendations finished on 29000/34354 queries. users per second: 22501.9</pre>"
      ],
      "text/plain": [
       "recommendations finished on 29000/34354 queries. users per second: 22501.9"
      ]
     },
     "metadata": {},
     "output_type": "display_data"
    },
    {
     "data": {
      "text/html": [
       "<pre>recommendations finished on 30000/34354 queries. users per second: 22554.9</pre>"
      ],
      "text/plain": [
       "recommendations finished on 30000/34354 queries. users per second: 22554.9"
      ]
     },
     "metadata": {},
     "output_type": "display_data"
    },
    {
     "data": {
      "text/html": [
       "<pre>recommendations finished on 31000/34354 queries. users per second: 22509.7</pre>"
      ],
      "text/plain": [
       "recommendations finished on 31000/34354 queries. users per second: 22509.7"
      ]
     },
     "metadata": {},
     "output_type": "display_data"
    },
    {
     "data": {
      "text/html": [
       "<pre>recommendations finished on 32000/34354 queries. users per second: 22353.1</pre>"
      ],
      "text/plain": [
       "recommendations finished on 32000/34354 queries. users per second: 22353.1"
      ]
     },
     "metadata": {},
     "output_type": "display_data"
    },
    {
     "data": {
      "text/html": [
       "<pre>recommendations finished on 33000/34354 queries. users per second: 22262.5</pre>"
      ],
      "text/plain": [
       "recommendations finished on 33000/34354 queries. users per second: 22262.5"
      ]
     },
     "metadata": {},
     "output_type": "display_data"
    },
    {
     "data": {
      "text/html": [
       "<pre>recommendations finished on 34000/34354 queries. users per second: 21983.1</pre>"
      ],
      "text/plain": [
       "recommendations finished on 34000/34354 queries. users per second: 21983.1"
      ]
     },
     "metadata": {},
     "output_type": "display_data"
    },
    {
     "name": "stdout",
     "output_type": "stream",
     "text": [
      "\n",
      "Precision and recall summary statistics by cutoff\n",
      "+--------+------------------------+------------------------+\n",
      "| cutoff |     mean_precision     |      mean_recall       |\n",
      "+--------+------------------------+------------------------+\n",
      "|   1    | 0.00034930430226465784 | 7.654236306840971e-05  |\n",
      "|   2    | 0.00030564126448157113 | 0.00011693618602757943 |\n",
      "|   3    | 0.00028138402126875366 | 0.00017472051159132492 |\n",
      "|   4    | 0.0003201956104092683  | 0.00024370045956584617 |\n",
      "|   5    | 0.00044827385457297365 | 0.0003776987478562733  |\n",
      "|   6    | 0.00042207603190312957 | 0.0004309029679697326  |\n",
      "|   7    | 0.00039504653232312273 | 0.0004656013449977159  |\n",
      "|   8    | 0.00037841299412004665 | 0.0005139435062113991  |\n",
      "|   9    | 0.0004592704714961201  | 0.0007120689490719974  |\n",
      "|   10   | 0.00042498690108866427 | 0.0007263292678092329  |\n",
      "+--------+------------------------+------------------------+\n",
      "[10 rows x 3 columns]\n",
      "\n",
      "\n",
      "Overall RMSE: 6.3904323359220765\n",
      "\n",
      "Per User RMSE (best)\n",
      "+-------------------------------+------+-------+\n",
      "|            user_id            | rmse | count |\n",
      "+-------------------------------+------+-------+\n",
      "| c1fe152a39495e06fbe5b11523... | 0.0  |   1   |\n",
      "+-------------------------------+------+-------+\n",
      "[1 rows x 3 columns]\n",
      "\n",
      "\n",
      "Per User RMSE (worst)\n",
      "+-------------------------------+-------------------+-------+\n",
      "|            user_id            |        rmse       | count |\n",
      "+-------------------------------+-------------------+-------+\n",
      "| 50996bbabb6f7857bf0c801943... | 647.0133119244094 |   2   |\n",
      "+-------------------------------+-------------------+-------+\n",
      "[1 rows x 3 columns]\n",
      "\n",
      "\n",
      "Per Item RMSE (best)\n",
      "+--------------------+---------------------+-------+\n",
      "|      music_id      |         rmse        | count |\n",
      "+--------------------+---------------------+-------+\n",
      "| SOXDPFW12A81C2319B | 0.07352941176470584 |   8   |\n",
      "+--------------------+---------------------+-------+\n",
      "[1 rows x 3 columns]\n",
      "\n",
      "\n",
      "Per Item RMSE (worst)\n",
      "+--------------------+-------------------+-------+\n",
      "|      music_id      |        rmse       | count |\n",
      "+--------------------+-------------------+-------+\n",
      "| SOUAGPQ12A8AE47B3A | 373.5590394357494 |   6   |\n",
      "+--------------------+-------------------+-------+\n",
      "[1 rows x 3 columns]\n",
      "\n",
      "PROGRESS: Evaluate model M1\n"
     ]
    },
    {
     "data": {
      "text/html": [
       "<pre>recommendations finished on 1000/34354 queries. users per second: 18220.6</pre>"
      ],
      "text/plain": [
       "recommendations finished on 1000/34354 queries. users per second: 18220.6"
      ]
     },
     "metadata": {},
     "output_type": "display_data"
    },
    {
     "data": {
      "text/html": [
       "<pre>recommendations finished on 2000/34354 queries. users per second: 21326.7</pre>"
      ],
      "text/plain": [
       "recommendations finished on 2000/34354 queries. users per second: 21326.7"
      ]
     },
     "metadata": {},
     "output_type": "display_data"
    },
    {
     "data": {
      "text/html": [
       "<pre>recommendations finished on 3000/34354 queries. users per second: 22846.4</pre>"
      ],
      "text/plain": [
       "recommendations finished on 3000/34354 queries. users per second: 22846.4"
      ]
     },
     "metadata": {},
     "output_type": "display_data"
    },
    {
     "data": {
      "text/html": [
       "<pre>recommendations finished on 4000/34354 queries. users per second: 23150.6</pre>"
      ],
      "text/plain": [
       "recommendations finished on 4000/34354 queries. users per second: 23150.6"
      ]
     },
     "metadata": {},
     "output_type": "display_data"
    },
    {
     "data": {
      "text/html": [
       "<pre>recommendations finished on 5000/34354 queries. users per second: 23701.7</pre>"
      ],
      "text/plain": [
       "recommendations finished on 5000/34354 queries. users per second: 23701.7"
      ]
     },
     "metadata": {},
     "output_type": "display_data"
    },
    {
     "data": {
      "text/html": [
       "<pre>recommendations finished on 6000/34354 queries. users per second: 23737.7</pre>"
      ],
      "text/plain": [
       "recommendations finished on 6000/34354 queries. users per second: 23737.7"
      ]
     },
     "metadata": {},
     "output_type": "display_data"
    },
    {
     "data": {
      "text/html": [
       "<pre>recommendations finished on 7000/34354 queries. users per second: 23872.2</pre>"
      ],
      "text/plain": [
       "recommendations finished on 7000/34354 queries. users per second: 23872.2"
      ]
     },
     "metadata": {},
     "output_type": "display_data"
    },
    {
     "data": {
      "text/html": [
       "<pre>recommendations finished on 8000/34354 queries. users per second: 24156.1</pre>"
      ],
      "text/plain": [
       "recommendations finished on 8000/34354 queries. users per second: 24156.1"
      ]
     },
     "metadata": {},
     "output_type": "display_data"
    },
    {
     "data": {
      "text/html": [
       "<pre>recommendations finished on 9000/34354 queries. users per second: 24321.8</pre>"
      ],
      "text/plain": [
       "recommendations finished on 9000/34354 queries. users per second: 24321.8"
      ]
     },
     "metadata": {},
     "output_type": "display_data"
    },
    {
     "data": {
      "text/html": [
       "<pre>recommendations finished on 10000/34354 queries. users per second: 24367.5</pre>"
      ],
      "text/plain": [
       "recommendations finished on 10000/34354 queries. users per second: 24367.5"
      ]
     },
     "metadata": {},
     "output_type": "display_data"
    },
    {
     "data": {
      "text/html": [
       "<pre>recommendations finished on 11000/34354 queries. users per second: 23434.1</pre>"
      ],
      "text/plain": [
       "recommendations finished on 11000/34354 queries. users per second: 23434.1"
      ]
     },
     "metadata": {},
     "output_type": "display_data"
    },
    {
     "data": {
      "text/html": [
       "<pre>recommendations finished on 12000/34354 queries. users per second: 23048.9</pre>"
      ],
      "text/plain": [
       "recommendations finished on 12000/34354 queries. users per second: 23048.9"
      ]
     },
     "metadata": {},
     "output_type": "display_data"
    },
    {
     "data": {
      "text/html": [
       "<pre>recommendations finished on 13000/34354 queries. users per second: 22916.5</pre>"
      ],
      "text/plain": [
       "recommendations finished on 13000/34354 queries. users per second: 22916.5"
      ]
     },
     "metadata": {},
     "output_type": "display_data"
    },
    {
     "data": {
      "text/html": [
       "<pre>recommendations finished on 14000/34354 queries. users per second: 22961.2</pre>"
      ],
      "text/plain": [
       "recommendations finished on 14000/34354 queries. users per second: 22961.2"
      ]
     },
     "metadata": {},
     "output_type": "display_data"
    },
    {
     "data": {
      "text/html": [
       "<pre>recommendations finished on 15000/34354 queries. users per second: 22973.8</pre>"
      ],
      "text/plain": [
       "recommendations finished on 15000/34354 queries. users per second: 22973.8"
      ]
     },
     "metadata": {},
     "output_type": "display_data"
    },
    {
     "data": {
      "text/html": [
       "<pre>recommendations finished on 16000/34354 queries. users per second: 23082.3</pre>"
      ],
      "text/plain": [
       "recommendations finished on 16000/34354 queries. users per second: 23082.3"
      ]
     },
     "metadata": {},
     "output_type": "display_data"
    },
    {
     "data": {
      "text/html": [
       "<pre>recommendations finished on 17000/34354 queries. users per second: 23189.4</pre>"
      ],
      "text/plain": [
       "recommendations finished on 17000/34354 queries. users per second: 23189.4"
      ]
     },
     "metadata": {},
     "output_type": "display_data"
    },
    {
     "data": {
      "text/html": [
       "<pre>recommendations finished on 18000/34354 queries. users per second: 23293.2</pre>"
      ],
      "text/plain": [
       "recommendations finished on 18000/34354 queries. users per second: 23293.2"
      ]
     },
     "metadata": {},
     "output_type": "display_data"
    },
    {
     "data": {
      "text/html": [
       "<pre>recommendations finished on 19000/34354 queries. users per second: 23358.7</pre>"
      ],
      "text/plain": [
       "recommendations finished on 19000/34354 queries. users per second: 23358.7"
      ]
     },
     "metadata": {},
     "output_type": "display_data"
    },
    {
     "data": {
      "text/html": [
       "<pre>recommendations finished on 20000/34354 queries. users per second: 23448.2</pre>"
      ],
      "text/plain": [
       "recommendations finished on 20000/34354 queries. users per second: 23448.2"
      ]
     },
     "metadata": {},
     "output_type": "display_data"
    },
    {
     "data": {
      "text/html": [
       "<pre>recommendations finished on 21000/34354 queries. users per second: 23406.7</pre>"
      ],
      "text/plain": [
       "recommendations finished on 21000/34354 queries. users per second: 23406.7"
      ]
     },
     "metadata": {},
     "output_type": "display_data"
    },
    {
     "data": {
      "text/html": [
       "<pre>recommendations finished on 22000/34354 queries. users per second: 23254.6</pre>"
      ],
      "text/plain": [
       "recommendations finished on 22000/34354 queries. users per second: 23254.6"
      ]
     },
     "metadata": {},
     "output_type": "display_data"
    },
    {
     "data": {
      "text/html": [
       "<pre>recommendations finished on 23000/34354 queries. users per second: 23182.8</pre>"
      ],
      "text/plain": [
       "recommendations finished on 23000/34354 queries. users per second: 23182.8"
      ]
     },
     "metadata": {},
     "output_type": "display_data"
    },
    {
     "data": {
      "text/html": [
       "<pre>recommendations finished on 24000/34354 queries. users per second: 23118.3</pre>"
      ],
      "text/plain": [
       "recommendations finished on 24000/34354 queries. users per second: 23118.3"
      ]
     },
     "metadata": {},
     "output_type": "display_data"
    },
    {
     "data": {
      "text/html": [
       "<pre>recommendations finished on 25000/34354 queries. users per second: 23181.5</pre>"
      ],
      "text/plain": [
       "recommendations finished on 25000/34354 queries. users per second: 23181.5"
      ]
     },
     "metadata": {},
     "output_type": "display_data"
    },
    {
     "data": {
      "text/html": [
       "<pre>recommendations finished on 26000/34354 queries. users per second: 23255.9</pre>"
      ],
      "text/plain": [
       "recommendations finished on 26000/34354 queries. users per second: 23255.9"
      ]
     },
     "metadata": {},
     "output_type": "display_data"
    },
    {
     "data": {
      "text/html": [
       "<pre>recommendations finished on 27000/34354 queries. users per second: 23291.1</pre>"
      ],
      "text/plain": [
       "recommendations finished on 27000/34354 queries. users per second: 23291.1"
      ]
     },
     "metadata": {},
     "output_type": "display_data"
    },
    {
     "data": {
      "text/html": [
       "<pre>recommendations finished on 28000/34354 queries. users per second: 23326.7</pre>"
      ],
      "text/plain": [
       "recommendations finished on 28000/34354 queries. users per second: 23326.7"
      ]
     },
     "metadata": {},
     "output_type": "display_data"
    },
    {
     "data": {
      "text/html": [
       "<pre>recommendations finished on 29000/34354 queries. users per second: 23361.2</pre>"
      ],
      "text/plain": [
       "recommendations finished on 29000/34354 queries. users per second: 23361.2"
      ]
     },
     "metadata": {},
     "output_type": "display_data"
    },
    {
     "data": {
      "text/html": [
       "<pre>recommendations finished on 30000/34354 queries. users per second: 23402</pre>"
      ],
      "text/plain": [
       "recommendations finished on 30000/34354 queries. users per second: 23402"
      ]
     },
     "metadata": {},
     "output_type": "display_data"
    },
    {
     "data": {
      "text/html": [
       "<pre>recommendations finished on 31000/34354 queries. users per second: 23355.9</pre>"
      ],
      "text/plain": [
       "recommendations finished on 31000/34354 queries. users per second: 23355.9"
      ]
     },
     "metadata": {},
     "output_type": "display_data"
    },
    {
     "data": {
      "text/html": [
       "<pre>recommendations finished on 32000/34354 queries. users per second: 23288.6</pre>"
      ],
      "text/plain": [
       "recommendations finished on 32000/34354 queries. users per second: 23288.6"
      ]
     },
     "metadata": {},
     "output_type": "display_data"
    },
    {
     "data": {
      "text/html": [
       "<pre>recommendations finished on 33000/34354 queries. users per second: 23319.3</pre>"
      ],
      "text/plain": [
       "recommendations finished on 33000/34354 queries. users per second: 23319.3"
      ]
     },
     "metadata": {},
     "output_type": "display_data"
    },
    {
     "data": {
      "text/html": [
       "<pre>recommendations finished on 34000/34354 queries. users per second: 23308.1</pre>"
      ],
      "text/plain": [
       "recommendations finished on 34000/34354 queries. users per second: 23308.1"
      ]
     },
     "metadata": {},
     "output_type": "display_data"
    },
    {
     "name": "stdout",
     "output_type": "stream",
     "text": [
      "\n",
      "Precision and recall summary statistics by cutoff\n",
      "+--------+---------------------+----------------------+\n",
      "| cutoff |    mean_precision   |     mean_recall      |\n",
      "+--------+---------------------+----------------------+\n",
      "|   1    | 0.05230831926413224 | 0.015619551474819767 |\n",
      "|   2    | 0.06344239389881842 | 0.034361320805384385 |\n",
      "|   3    |  0.0740719178746772 | 0.05502660245026055  |\n",
      "|   4    | 0.07603190312627402 |  0.070955398553648   |\n",
      "|   5    | 0.07544390755079436 | 0.08567849714804372  |\n",
      "|   6    |  0.0733927150647176 | 0.09760703618965873  |\n",
      "|   7    | 0.07097530751253674 |  0.1079064645713691  |\n",
      "|   8    | 0.06875473016242642 |  0.1172047189538235  |\n",
      "|   9    |  0.0664066290194252 | 0.12585129542092463  |\n",
      "|   10   | 0.06423123944809908 | 0.13376153972963015  |\n",
      "+--------+---------------------+----------------------+\n",
      "[10 rows x 3 columns]\n",
      "\n",
      "\n",
      "Overall RMSE: 7.085424559391503\n",
      "\n",
      "Per User RMSE (best)\n",
      "+-------------------------------+----------------------+-------+\n",
      "|            user_id            |         rmse         | count |\n",
      "+-------------------------------+----------------------+-------+\n",
      "| afa9138a8c1e485ddf8dc4015c... | 0.009651558739798505 |   1   |\n",
      "+-------------------------------+----------------------+-------+\n",
      "[1 rows x 3 columns]\n",
      "\n",
      "\n",
      "Per User RMSE (worst)\n",
      "+-------------------------------+-------------------+-------+\n",
      "|            user_id            |        rmse       | count |\n",
      "+-------------------------------+-------------------+-------+\n",
      "| 50996bbabb6f7857bf0c801943... | 650.1213670045946 |   2   |\n",
      "+-------------------------------+-------------------+-------+\n",
      "[1 rows x 3 columns]\n",
      "\n",
      "\n",
      "Per Item RMSE (best)\n",
      "+--------------------+-------------------+-------+\n",
      "|      music_id      |        rmse       | count |\n",
      "+--------------------+-------------------+-------+\n",
      "| SOTXRZC12AB018165A | 0.664199491901785 |   2   |\n",
      "+--------------------+-------------------+-------+\n",
      "[1 rows x 3 columns]\n",
      "\n",
      "\n",
      "Per Item RMSE (worst)\n",
      "+--------------------+--------------------+-------+\n",
      "|      music_id      |        rmse        | count |\n",
      "+--------------------+--------------------+-------+\n",
      "| SOUAGPQ12A8AE47B3A | 375.36767146200054 |   6   |\n",
      "+--------------------+--------------------+-------+\n",
      "[1 rows x 3 columns]\n",
      "\n",
      "PROGRESS: Evaluate model M2\n"
     ]
    },
    {
     "data": {
      "text/html": [
       "<pre>recommendations finished on 1000/34354 queries. users per second: 13438.7</pre>"
      ],
      "text/plain": [
       "recommendations finished on 1000/34354 queries. users per second: 13438.7"
      ]
     },
     "metadata": {},
     "output_type": "display_data"
    },
    {
     "data": {
      "text/html": [
       "<pre>recommendations finished on 2000/34354 queries. users per second: 15434.1</pre>"
      ],
      "text/plain": [
       "recommendations finished on 2000/34354 queries. users per second: 15434.1"
      ]
     },
     "metadata": {},
     "output_type": "display_data"
    },
    {
     "data": {
      "text/html": [
       "<pre>recommendations finished on 3000/34354 queries. users per second: 15839.5</pre>"
      ],
      "text/plain": [
       "recommendations finished on 3000/34354 queries. users per second: 15839.5"
      ]
     },
     "metadata": {},
     "output_type": "display_data"
    },
    {
     "data": {
      "text/html": [
       "<pre>recommendations finished on 4000/34354 queries. users per second: 16296.5</pre>"
      ],
      "text/plain": [
       "recommendations finished on 4000/34354 queries. users per second: 16296.5"
      ]
     },
     "metadata": {},
     "output_type": "display_data"
    },
    {
     "data": {
      "text/html": [
       "<pre>recommendations finished on 5000/34354 queries. users per second: 16575.1</pre>"
      ],
      "text/plain": [
       "recommendations finished on 5000/34354 queries. users per second: 16575.1"
      ]
     },
     "metadata": {},
     "output_type": "display_data"
    },
    {
     "data": {
      "text/html": [
       "<pre>recommendations finished on 6000/34354 queries. users per second: 16597.9</pre>"
      ],
      "text/plain": [
       "recommendations finished on 6000/34354 queries. users per second: 16597.9"
      ]
     },
     "metadata": {},
     "output_type": "display_data"
    },
    {
     "data": {
      "text/html": [
       "<pre>recommendations finished on 7000/34354 queries. users per second: 16757.4</pre>"
      ],
      "text/plain": [
       "recommendations finished on 7000/34354 queries. users per second: 16757.4"
      ]
     },
     "metadata": {},
     "output_type": "display_data"
    },
    {
     "data": {
      "text/html": [
       "<pre>recommendations finished on 8000/34354 queries. users per second: 16870.2</pre>"
      ],
      "text/plain": [
       "recommendations finished on 8000/34354 queries. users per second: 16870.2"
      ]
     },
     "metadata": {},
     "output_type": "display_data"
    },
    {
     "data": {
      "text/html": [
       "<pre>recommendations finished on 9000/34354 queries. users per second: 16950.7</pre>"
      ],
      "text/plain": [
       "recommendations finished on 9000/34354 queries. users per second: 16950.7"
      ]
     },
     "metadata": {},
     "output_type": "display_data"
    },
    {
     "data": {
      "text/html": [
       "<pre>recommendations finished on 10000/34354 queries. users per second: 16919.6</pre>"
      ],
      "text/plain": [
       "recommendations finished on 10000/34354 queries. users per second: 16919.6"
      ]
     },
     "metadata": {},
     "output_type": "display_data"
    },
    {
     "data": {
      "text/html": [
       "<pre>recommendations finished on 11000/34354 queries. users per second: 16535.9</pre>"
      ],
      "text/plain": [
       "recommendations finished on 11000/34354 queries. users per second: 16535.9"
      ]
     },
     "metadata": {},
     "output_type": "display_data"
    },
    {
     "data": {
      "text/html": [
       "<pre>recommendations finished on 12000/34354 queries. users per second: 16521.7</pre>"
      ],
      "text/plain": [
       "recommendations finished on 12000/34354 queries. users per second: 16521.7"
      ]
     },
     "metadata": {},
     "output_type": "display_data"
    },
    {
     "data": {
      "text/html": [
       "<pre>recommendations finished on 13000/34354 queries. users per second: 16560.4</pre>"
      ],
      "text/plain": [
       "recommendations finished on 13000/34354 queries. users per second: 16560.4"
      ]
     },
     "metadata": {},
     "output_type": "display_data"
    },
    {
     "data": {
      "text/html": [
       "<pre>recommendations finished on 14000/34354 queries. users per second: 16529.5</pre>"
      ],
      "text/plain": [
       "recommendations finished on 14000/34354 queries. users per second: 16529.5"
      ]
     },
     "metadata": {},
     "output_type": "display_data"
    },
    {
     "data": {
      "text/html": [
       "<pre>recommendations finished on 15000/34354 queries. users per second: 16596.5</pre>"
      ],
      "text/plain": [
       "recommendations finished on 15000/34354 queries. users per second: 16596.5"
      ]
     },
     "metadata": {},
     "output_type": "display_data"
    },
    {
     "data": {
      "text/html": [
       "<pre>recommendations finished on 16000/34354 queries. users per second: 16591.2</pre>"
      ],
      "text/plain": [
       "recommendations finished on 16000/34354 queries. users per second: 16591.2"
      ]
     },
     "metadata": {},
     "output_type": "display_data"
    },
    {
     "data": {
      "text/html": [
       "<pre>recommendations finished on 17000/34354 queries. users per second: 16602.5</pre>"
      ],
      "text/plain": [
       "recommendations finished on 17000/34354 queries. users per second: 16602.5"
      ]
     },
     "metadata": {},
     "output_type": "display_data"
    },
    {
     "data": {
      "text/html": [
       "<pre>recommendations finished on 18000/34354 queries. users per second: 16599.6</pre>"
      ],
      "text/plain": [
       "recommendations finished on 18000/34354 queries. users per second: 16599.6"
      ]
     },
     "metadata": {},
     "output_type": "display_data"
    },
    {
     "data": {
      "text/html": [
       "<pre>recommendations finished on 19000/34354 queries. users per second: 16574.1</pre>"
      ],
      "text/plain": [
       "recommendations finished on 19000/34354 queries. users per second: 16574.1"
      ]
     },
     "metadata": {},
     "output_type": "display_data"
    },
    {
     "data": {
      "text/html": [
       "<pre>recommendations finished on 20000/34354 queries. users per second: 16619.6</pre>"
      ],
      "text/plain": [
       "recommendations finished on 20000/34354 queries. users per second: 16619.6"
      ]
     },
     "metadata": {},
     "output_type": "display_data"
    },
    {
     "data": {
      "text/html": [
       "<pre>recommendations finished on 21000/34354 queries. users per second: 16524.9</pre>"
      ],
      "text/plain": [
       "recommendations finished on 21000/34354 queries. users per second: 16524.9"
      ]
     },
     "metadata": {},
     "output_type": "display_data"
    },
    {
     "data": {
      "text/html": [
       "<pre>recommendations finished on 22000/34354 queries. users per second: 16509.5</pre>"
      ],
      "text/plain": [
       "recommendations finished on 22000/34354 queries. users per second: 16509.5"
      ]
     },
     "metadata": {},
     "output_type": "display_data"
    },
    {
     "data": {
      "text/html": [
       "<pre>recommendations finished on 23000/34354 queries. users per second: 16477.4</pre>"
      ],
      "text/plain": [
       "recommendations finished on 23000/34354 queries. users per second: 16477.4"
      ]
     },
     "metadata": {},
     "output_type": "display_data"
    },
    {
     "data": {
      "text/html": [
       "<pre>recommendations finished on 24000/34354 queries. users per second: 16328</pre>"
      ],
      "text/plain": [
       "recommendations finished on 24000/34354 queries. users per second: 16328"
      ]
     },
     "metadata": {},
     "output_type": "display_data"
    },
    {
     "data": {
      "text/html": [
       "<pre>recommendations finished on 25000/34354 queries. users per second: 16296.8</pre>"
      ],
      "text/plain": [
       "recommendations finished on 25000/34354 queries. users per second: 16296.8"
      ]
     },
     "metadata": {},
     "output_type": "display_data"
    },
    {
     "data": {
      "text/html": [
       "<pre>recommendations finished on 26000/34354 queries. users per second: 16301</pre>"
      ],
      "text/plain": [
       "recommendations finished on 26000/34354 queries. users per second: 16301"
      ]
     },
     "metadata": {},
     "output_type": "display_data"
    },
    {
     "data": {
      "text/html": [
       "<pre>recommendations finished on 27000/34354 queries. users per second: 16287.1</pre>"
      ],
      "text/plain": [
       "recommendations finished on 27000/34354 queries. users per second: 16287.1"
      ]
     },
     "metadata": {},
     "output_type": "display_data"
    },
    {
     "data": {
      "text/html": [
       "<pre>recommendations finished on 28000/34354 queries. users per second: 16272.6</pre>"
      ],
      "text/plain": [
       "recommendations finished on 28000/34354 queries. users per second: 16272.6"
      ]
     },
     "metadata": {},
     "output_type": "display_data"
    },
    {
     "data": {
      "text/html": [
       "<pre>recommendations finished on 29000/34354 queries. users per second: 16227.5</pre>"
      ],
      "text/plain": [
       "recommendations finished on 29000/34354 queries. users per second: 16227.5"
      ]
     },
     "metadata": {},
     "output_type": "display_data"
    },
    {
     "data": {
      "text/html": [
       "<pre>recommendations finished on 30000/34354 queries. users per second: 16215.7</pre>"
      ],
      "text/plain": [
       "recommendations finished on 30000/34354 queries. users per second: 16215.7"
      ]
     },
     "metadata": {},
     "output_type": "display_data"
    },
    {
     "data": {
      "text/html": [
       "<pre>recommendations finished on 31000/34354 queries. users per second: 16160.2</pre>"
      ],
      "text/plain": [
       "recommendations finished on 31000/34354 queries. users per second: 16160.2"
      ]
     },
     "metadata": {},
     "output_type": "display_data"
    },
    {
     "data": {
      "text/html": [
       "<pre>recommendations finished on 32000/34354 queries. users per second: 16125.3</pre>"
      ],
      "text/plain": [
       "recommendations finished on 32000/34354 queries. users per second: 16125.3"
      ]
     },
     "metadata": {},
     "output_type": "display_data"
    },
    {
     "data": {
      "text/html": [
       "<pre>recommendations finished on 33000/34354 queries. users per second: 16092.7</pre>"
      ],
      "text/plain": [
       "recommendations finished on 33000/34354 queries. users per second: 16092.7"
      ]
     },
     "metadata": {},
     "output_type": "display_data"
    },
    {
     "data": {
      "text/html": [
       "<pre>recommendations finished on 34000/34354 queries. users per second: 16098.5</pre>"
      ],
      "text/plain": [
       "recommendations finished on 34000/34354 queries. users per second: 16098.5"
      ]
     },
     "metadata": {},
     "output_type": "display_data"
    },
    {
     "name": "stdout",
     "output_type": "stream",
     "text": [
      "\n",
      "Precision and recall summary statistics by cutoff\n",
      "+--------+------------------------+------------------------+\n",
      "| cutoff |     mean_precision     |      mean_recall       |\n",
      "+--------+------------------------+------------------------+\n",
      "|   1    | 0.0002619782266984918  | 6.128571219436259e-05  |\n",
      "|   2    | 0.00021831518891541178 | 7.390986568034776e-05  |\n",
      "|   3    | 0.00032019561040926665 | 0.00019722481409035843 |\n",
      "|   4    | 0.0003420271293008098  | 0.0002710552484110958  |\n",
      "|   5    | 0.0003958782092332777  | 0.00039069142498776696 |\n",
      "|   6    | 0.00043177892918825424 | 0.0005468138856453636  |\n",
      "|   7    | 0.00042831360872928355 | 0.0006389506810876567  |\n",
      "|   8    | 0.00044390755079466883 | 0.0007327030009271866  |\n",
      "|   9    | 0.0004851448642564688  | 0.0009366954040388185  |\n",
      "|   10   | 0.0005006694999126722  | 0.0010614474371010375  |\n",
      "+--------+------------------------+------------------------+\n",
      "[10 rows x 3 columns]\n",
      "\n",
      "\n",
      "Overall RMSE: 7.931771300491865\n",
      "\n",
      "Per User RMSE (best)\n",
      "+-------------------------------+-----------------------+-------+\n",
      "|            user_id            |          rmse         | count |\n",
      "+-------------------------------+-----------------------+-------+\n",
      "| 9857ec6f583fd361b370d2a386... | 0.0003685904205932289 |   1   |\n",
      "+-------------------------------+-----------------------+-------+\n",
      "[1 rows x 3 columns]\n",
      "\n",
      "\n",
      "Per User RMSE (worst)\n",
      "+-------------------------------+-------------------+-------+\n",
      "|            user_id            |        rmse       | count |\n",
      "+-------------------------------+-------------------+-------+\n",
      "| 50996bbabb6f7857bf0c801943... | 667.5915744202516 |   2   |\n",
      "+-------------------------------+-------------------+-------+\n",
      "[1 rows x 3 columns]\n",
      "\n",
      "\n",
      "Per Item RMSE (best)\n",
      "+--------------------+-------------------+-------+\n",
      "|      music_id      |        rmse       | count |\n",
      "+--------------------+-------------------+-------+\n",
      "| SOMMLEZ12A6D4F920E | 0.126264770561348 |   1   |\n",
      "+--------------------+-------------------+-------+\n",
      "[1 rows x 3 columns]\n",
      "\n",
      "\n",
      "Per Item RMSE (worst)\n",
      "+--------------------+--------------------+-------+\n",
      "|      music_id      |        rmse        | count |\n",
      "+--------------------+--------------------+-------+\n",
      "| SOUAGPQ12A8AE47B3A | 385.47855244042245 |   6   |\n",
      "+--------------------+--------------------+-------+\n",
      "[1 rows x 3 columns]\n",
      "\n"
     ]
    }
   ],
   "source": [
    "result = tc.recommender.util.compare_models(test_set, \n",
    "                                            [popularity_model, item_sim_model, factorization_machine_model],\n",
    "                                            user_sample=.5, skip_set=train_set)"
   ]
  },
  {
   "cell_type": "code",
   "execution_count": 12,
   "metadata": {
    "ExecuteTime": {
     "end_time": "2019-06-14T16:29:22.874873Z",
     "start_time": "2019-06-14T16:29:22.451971Z"
    },
    "slideshow": {
     "slide_type": "slide"
    }
   },
   "outputs": [],
   "source": [
    "K = 10\n",
    "users = gl.SArray(sf['user_id'].unique().head(100))"
   ]
  },
  {
   "cell_type": "code",
   "execution_count": 13,
   "metadata": {
    "ExecuteTime": {
     "end_time": "2019-06-14T16:29:24.466111Z",
     "start_time": "2019-06-14T16:29:24.410860Z"
    },
    "slideshow": {
     "slide_type": "slide"
    }
   },
   "outputs": [
    {
     "data": {
      "text/html": [
       "<div style=\"max-height:1000px;max-width:1500px;overflow:auto;\"><table frame=\"box\" rules=\"cols\">\n",
       "    <tr>\n",
       "        <th style=\"padding-left: 1em; padding-right: 1em; text-align: center\">user_id</th>\n",
       "        <th style=\"padding-left: 1em; padding-right: 1em; text-align: center\">music_id</th>\n",
       "        <th style=\"padding-left: 1em; padding-right: 1em; text-align: center\">score</th>\n",
       "        <th style=\"padding-left: 1em; padding-right: 1em; text-align: center\">rank</th>\n",
       "    </tr>\n",
       "    <tr>\n",
       "        <td style=\"padding-left: 1em; padding-right: 1em; text-align: center; vertical-align: top\">279292bb36dbfc7f505e36ebf<br>038c81eb1d1d63e ...</td>\n",
       "        <td style=\"padding-left: 1em; padding-right: 1em; text-align: center; vertical-align: top\">SOXUQNR12AF72A69D6</td>\n",
       "        <td style=\"padding-left: 1em; padding-right: 1em; text-align: center; vertical-align: top\">3.022422651449839</td>\n",
       "        <td style=\"padding-left: 1em; padding-right: 1em; text-align: center; vertical-align: top\">1</td>\n",
       "    </tr>\n",
       "    <tr>\n",
       "        <td style=\"padding-left: 1em; padding-right: 1em; text-align: center; vertical-align: top\">279292bb36dbfc7f505e36ebf<br>038c81eb1d1d63e ...</td>\n",
       "        <td style=\"padding-left: 1em; padding-right: 1em; text-align: center; vertical-align: top\">SOUFAZA12AC3DFAB20</td>\n",
       "        <td style=\"padding-left: 1em; padding-right: 1em; text-align: center; vertical-align: top\">1.3368427753448486</td>\n",
       "        <td style=\"padding-left: 1em; padding-right: 1em; text-align: center; vertical-align: top\">2</td>\n",
       "    </tr>\n",
       "    <tr>\n",
       "        <td style=\"padding-left: 1em; padding-right: 1em; text-align: center; vertical-align: top\">279292bb36dbfc7f505e36ebf<br>038c81eb1d1d63e ...</td>\n",
       "        <td style=\"padding-left: 1em; padding-right: 1em; text-align: center; vertical-align: top\">SOSFSTC12A8C141219</td>\n",
       "        <td style=\"padding-left: 1em; padding-right: 1em; text-align: center; vertical-align: top\">1.091982126235962</td>\n",
       "        <td style=\"padding-left: 1em; padding-right: 1em; text-align: center; vertical-align: top\">3</td>\n",
       "    </tr>\n",
       "    <tr>\n",
       "        <td style=\"padding-left: 1em; padding-right: 1em; text-align: center; vertical-align: top\">279292bb36dbfc7f505e36ebf<br>038c81eb1d1d63e ...</td>\n",
       "        <td style=\"padding-left: 1em; padding-right: 1em; text-align: center; vertical-align: top\">SOVIWFP12A58A7D1BD</td>\n",
       "        <td style=\"padding-left: 1em; padding-right: 1em; text-align: center; vertical-align: top\">1.045163869857788</td>\n",
       "        <td style=\"padding-left: 1em; padding-right: 1em; text-align: center; vertical-align: top\">4</td>\n",
       "    </tr>\n",
       "    <tr>\n",
       "        <td style=\"padding-left: 1em; padding-right: 1em; text-align: center; vertical-align: top\">279292bb36dbfc7f505e36ebf<br>038c81eb1d1d63e ...</td>\n",
       "        <td style=\"padding-left: 1em; padding-right: 1em; text-align: center; vertical-align: top\">SOBMTQD12AB01833D0</td>\n",
       "        <td style=\"padding-left: 1em; padding-right: 1em; text-align: center; vertical-align: top\">1.0294516881306965</td>\n",
       "        <td style=\"padding-left: 1em; padding-right: 1em; text-align: center; vertical-align: top\">5</td>\n",
       "    </tr>\n",
       "    <tr>\n",
       "        <td style=\"padding-left: 1em; padding-right: 1em; text-align: center; vertical-align: top\">279292bb36dbfc7f505e36ebf<br>038c81eb1d1d63e ...</td>\n",
       "        <td style=\"padding-left: 1em; padding-right: 1em; text-align: center; vertical-align: top\">SOCMNRG12AB0189D3F</td>\n",
       "        <td style=\"padding-left: 1em; padding-right: 1em; text-align: center; vertical-align: top\">0.9756437937418619</td>\n",
       "        <td style=\"padding-left: 1em; padding-right: 1em; text-align: center; vertical-align: top\">6</td>\n",
       "    </tr>\n",
       "    <tr>\n",
       "        <td style=\"padding-left: 1em; padding-right: 1em; text-align: center; vertical-align: top\">279292bb36dbfc7f505e36ebf<br>038c81eb1d1d63e ...</td>\n",
       "        <td style=\"padding-left: 1em; padding-right: 1em; text-align: center; vertical-align: top\">SOXOHUM12A67ADC826</td>\n",
       "        <td style=\"padding-left: 1em; padding-right: 1em; text-align: center; vertical-align: top\">0.9506873289744059</td>\n",
       "        <td style=\"padding-left: 1em; padding-right: 1em; text-align: center; vertical-align: top\">7</td>\n",
       "    </tr>\n",
       "    <tr>\n",
       "        <td style=\"padding-left: 1em; padding-right: 1em; text-align: center; vertical-align: top\">279292bb36dbfc7f505e36ebf<br>038c81eb1d1d63e ...</td>\n",
       "        <td style=\"padding-left: 1em; padding-right: 1em; text-align: center; vertical-align: top\">SOWBFVW12A6D4F612B</td>\n",
       "        <td style=\"padding-left: 1em; padding-right: 1em; text-align: center; vertical-align: top\">0.9092370669047037</td>\n",
       "        <td style=\"padding-left: 1em; padding-right: 1em; text-align: center; vertical-align: top\">8</td>\n",
       "    </tr>\n",
       "    <tr>\n",
       "        <td style=\"padding-left: 1em; padding-right: 1em; text-align: center; vertical-align: top\">279292bb36dbfc7f505e36ebf<br>038c81eb1d1d63e ...</td>\n",
       "        <td style=\"padding-left: 1em; padding-right: 1em; text-align: center; vertical-align: top\">SOXFYTY127E9433E7D</td>\n",
       "        <td style=\"padding-left: 1em; padding-right: 1em; text-align: center; vertical-align: top\">0.8977278073628744</td>\n",
       "        <td style=\"padding-left: 1em; padding-right: 1em; text-align: center; vertical-align: top\">9</td>\n",
       "    </tr>\n",
       "    <tr>\n",
       "        <td style=\"padding-left: 1em; padding-right: 1em; text-align: center; vertical-align: top\">279292bb36dbfc7f505e36ebf<br>038c81eb1d1d63e ...</td>\n",
       "        <td style=\"padding-left: 1em; padding-right: 1em; text-align: center; vertical-align: top\">SOYBLYP12A58A79D32</td>\n",
       "        <td style=\"padding-left: 1em; padding-right: 1em; text-align: center; vertical-align: top\">0.8970928192138672</td>\n",
       "        <td style=\"padding-left: 1em; padding-right: 1em; text-align: center; vertical-align: top\">10</td>\n",
       "    </tr>\n",
       "</table>\n",
       "[10 rows x 4 columns]<br/>\n",
       "</div>"
      ],
      "text/plain": [
       "Columns:\n",
       "\tuser_id\tstr\n",
       "\tmusic_id\tstr\n",
       "\tscore\tfloat\n",
       "\trank\tint\n",
       "\n",
       "Rows: 10\n",
       "\n",
       "Data:\n",
       "+-------------------------------+--------------------+--------------------+------+\n",
       "|            user_id            |      music_id      |       score        | rank |\n",
       "+-------------------------------+--------------------+--------------------+------+\n",
       "| 279292bb36dbfc7f505e36ebf0... | SOXUQNR12AF72A69D6 | 3.022422651449839  |  1   |\n",
       "| 279292bb36dbfc7f505e36ebf0... | SOUFAZA12AC3DFAB20 | 1.3368427753448486 |  2   |\n",
       "| 279292bb36dbfc7f505e36ebf0... | SOSFSTC12A8C141219 | 1.091982126235962  |  3   |\n",
       "| 279292bb36dbfc7f505e36ebf0... | SOVIWFP12A58A7D1BD | 1.045163869857788  |  4   |\n",
       "| 279292bb36dbfc7f505e36ebf0... | SOBMTQD12AB01833D0 | 1.0294516881306965 |  5   |\n",
       "| 279292bb36dbfc7f505e36ebf0... | SOCMNRG12AB0189D3F | 0.9756437937418619 |  6   |\n",
       "| 279292bb36dbfc7f505e36ebf0... | SOXOHUM12A67ADC826 | 0.9506873289744059 |  7   |\n",
       "| 279292bb36dbfc7f505e36ebf0... | SOWBFVW12A6D4F612B | 0.9092370669047037 |  8   |\n",
       "| 279292bb36dbfc7f505e36ebf0... | SOXFYTY127E9433E7D | 0.8977278073628744 |  9   |\n",
       "| 279292bb36dbfc7f505e36ebf0... | SOYBLYP12A58A79D32 | 0.8970928192138672 |  10  |\n",
       "+-------------------------------+--------------------+--------------------+------+\n",
       "[10 rows x 4 columns]"
      ]
     },
     "execution_count": 13,
     "metadata": {},
     "output_type": "execute_result"
    }
   ],
   "source": [
    "recs = item_sim_model.recommend(users=users, k=K)\n",
    "recs.head()"
   ]
  },
  {
   "cell_type": "code",
   "execution_count": null,
   "metadata": {
    "collapsed": true
   },
   "outputs": [],
   "source": []
  }
 ],
 "metadata": {
  "celltoolbar": "Slideshow",
  "kernelspec": {
   "display_name": "Python [conda env:anaconda]",
   "language": "python",
   "name": "conda-env-anaconda-py"
  },
  "language_info": {
   "codemirror_mode": {
    "name": "ipython",
    "version": 3
   },
   "file_extension": ".py",
   "mimetype": "text/x-python",
   "name": "python",
   "nbconvert_exporter": "python",
   "pygments_lexer": "ipython3",
   "version": "3.5.4"
  },
  "latex_envs": {
   "LaTeX_envs_menu_present": true,
   "autoclose": false,
   "autocomplete": true,
   "bibliofile": "biblio.bib",
   "cite_by": "apalike",
   "current_citInitial": 1,
   "eqLabelWithNumbers": true,
   "eqNumInitial": 0,
   "hotkeys": {
    "equation": "Ctrl-E",
    "itemize": "Ctrl-I"
   },
   "labels_anchors": false,
   "latex_user_defs": false,
   "report_style_numbering": false,
   "user_envs_cfg": false
  },
  "toc": {
   "base_numbering": 1,
   "nav_menu": {},
   "number_sections": false,
   "sideBar": false,
   "skip_h1_title": false,
   "title_cell": "Table of Contents",
   "title_sidebar": "Contents",
   "toc_cell": false,
   "toc_position": {
    "height": "48px",
    "left": "930px",
    "top": "110.398px",
    "width": "159px"
   },
   "toc_section_display": false,
   "toc_window_display": true
  }
 },
 "nbformat": 4,
 "nbformat_minor": 1
}
