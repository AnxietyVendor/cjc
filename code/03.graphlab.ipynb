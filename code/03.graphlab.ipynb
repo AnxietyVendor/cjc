{
 "cells": [
  {
   "cell_type": "markdown",
   "metadata": {
    "slideshow": {
     "slide_type": "slide"
    }
   },
   "source": [
    "\n",
    "***\n",
    "***\n",
    "# Graphlab 安装与使用\n",
    "***\n",
    "***\n",
    "\n",
    "王成军\n",
    "\n",
    "wangchengjun@nju.edu.cn\n",
    "\n",
    "计算传播网 http://computational-communication.com"
   ]
  },
  {
   "cell_type": "markdown",
   "metadata": {
    "slideshow": {
     "slide_type": "slide"
    }
   },
   "source": [
    "# Problem\n",
    "\n",
    "只有低版本的anaconda才可以安装，强行安装还会破坏掉anaconda的jupyter notebook中的kernel，排除使用anaconda运行graphlab的方案。\n"
   ]
  },
  {
   "cell_type": "markdown",
   "metadata": {
    "slideshow": {
     "slide_type": "slide"
    }
   },
   "source": [
    "# Register for Academic Use of GraphLab Create\n",
    "\n",
    "https://turi.com/download/academic.html"
   ]
  },
  {
   "cell_type": "markdown",
   "metadata": {
    "slideshow": {
     "slide_type": "slide"
    }
   },
   "source": [
    "## 查邮件\n",
    "\n",
    "https://turi.com/download/install-graphlab-create.html?email=wangchengjun%40nju.edu.cn&key=4972-65DF-8E02-816C-AB15-021C-EC1B-0367&utm_medium=email&utm_source=transactional&utm_campaign=beta_registration_confirmation"
   ]
  },
  {
   "cell_type": "markdown",
   "metadata": {
    "slideshow": {
     "slide_type": "slide"
    }
   },
   "source": [
    "# Renew Academic License for GraphLab Create\n",
    "\n",
    "https://turi.com/download/renew.html"
   ]
  },
  {
   "cell_type": "markdown",
   "metadata": {
    "slideshow": {
     "slide_type": "subslide"
    }
   },
   "source": [
    "### License Renewal Confirmation\n",
    "Your academic license for GraphLab Create has been renewed. Please restart GraphLab Create while connected to the internet.\n",
    "\n",
    "\n",
    "Email: wangchengjun@nju.edu.cn\n",
    "\n",
    "Expiration Date: 03-13-2019"
   ]
  },
  {
   "cell_type": "markdown",
   "metadata": {
    "slideshow": {
     "slide_type": "subslide"
    }
   },
   "source": [
    "# Python 2.7.x\n",
    "\n",
    "GraphLab Create installation requires a Python 2.7.x environment and pip version >= 7 and Anaconda2 v4.0.0 (64-bit). IPython Notebook is recommended."
   ]
  },
  {
   "cell_type": "markdown",
   "metadata": {},
   "source": [
    "\n",
    "# To install a different version of Python without overwriting the current version\n",
    "\n",
    "https://conda.io/docs/user-guide/tasks/manage-python.html\n",
    "\n",
    "Creating a new environment and install the second Python version into it. To create the new environment for Python 2.7, in your Terminal window or an Anaconda Prompt, run:\n",
    "> conda create -n py27 python=2.7 anaconda\n"
   ]
  },
  {
   "cell_type": "markdown",
   "metadata": {
    "slideshow": {
     "slide_type": "subslide"
    }
   },
   "source": [
    "\n",
    "## Activate the new environment ** 切换到新环境**\n",
    "\n",
    "- linux/Mac下需要使用: `source activate py27`\n",
    "- windows需要使用: `activate py27`\n",
    "\n",
    "**退出环境: `source deactivate py27`\n",
    "也可以使用** `activate root`切回root环境\n",
    "\n",
    "3. [Verify that the new environment is your current environment.](https://conda.io/docs/user-guide/tasks/manage-environments.html#determine-current-env)\n",
    "4. To verify that the current environment uses the new Python version, in your Terminal window or an Anaconda Prompt, run: `python --version`"
   ]
  },
  {
   "cell_type": "code",
   "execution_count": 1,
   "metadata": {
    "ExecuteTime": {
     "end_time": "2019-03-04T03:47:23.334875Z",
     "start_time": "2019-03-04T03:47:23.211768Z"
    },
    "slideshow": {
     "slide_type": "subslide"
    }
   },
   "outputs": [
    {
     "name": "stdout",
     "output_type": "stream",
     "text": [
      "Python 2.7.14 :: Anaconda, Inc.\r\n"
     ]
    }
   ],
   "source": [
    "! python --version"
   ]
  },
  {
   "cell_type": "markdown",
   "metadata": {
    "slideshow": {
     "slide_type": "slide"
    }
   },
   "source": [
    "# Install your licensed copy of GraphLab Create\n",
    "pip install --upgrade --no-cache-dir https://get.graphlab.com/GraphLab-Create/2.1/your_registered_email_address_here/your_product_key_here/GraphLab-Create-License.tar.gz"
   ]
  },
  {
   "cell_type": "markdown",
   "metadata": {
    "slideshow": {
     "slide_type": "fragment"
    }
   },
   "source": [
    "# Open a terminal and input:\n",
    "\n",
    "pip install --upgrade --no-cache-dir https://get.graphlab.com/GraphLab-Create/2.1/wangchengjun@nju.edu.cn/4972-65DF-8E02-816C-AB15-021C-EC1B-0367/GraphLab-Create-License.tar.gz\n"
   ]
  },
  {
   "cell_type": "markdown",
   "metadata": {
    "slideshow": {
     "slide_type": "subslide"
    }
   },
   "source": [
    "# Error \n",
    "Could not find a version that satisfies the requirement graphlab-create>=2.1 (from GraphLab-Create-License==2.1) (from versions: )\n",
    "No matching distribution found for graphlab-create>=2.1 (from GraphLab-Create-License==2.1)"
   ]
  },
  {
   "cell_type": "markdown",
   "metadata": {
    "slideshow": {
     "slide_type": "slide"
    }
   },
   "source": [
    "\n",
    "# 使用方法\n",
    "\n",
    "https://turi.com/learn/userguide/\n",
    "\n",
    "GraphLab Create is a Python package that allows programmers to perform end-to-end large-scale data analysis and data product development.\n",
    "\n",
    "- Data ingestion and cleaning with SFrames. SFrame is an efficient disk-based tabular data structure that is not limited by RAM. This lets you scale your analysis and data processing to handle terabytes of data, even on your laptop.\n",
    "\n",
    "- Data exploration and visualization with GraphLab Canvas. GraphLab Canvas is a browser-based interactive GUI that allows you to explore tabular data, summary plots and statistics.\n",
    "\n",
    "- Network analysis with SGraph. SGraph is a disk-based graph data structure that stores vertices and edges in SFrames.\n",
    "\n",
    "- Predictive model development with machine learning toolkits. GraphLab Create includes several toolkits for quick prototyping with fast, scalable algorithms.\n",
    "\n",
    "- Production automation with data pipelines. Data pipelines allow you to assemble reusable code tasks into jobs and automatically run them on common execution environments (e.g. Amazon Web Services, Hadoop)."
   ]
  },
  {
   "cell_type": "code",
   "execution_count": 1,
   "metadata": {
    "ExecuteTime": {
     "end_time": "2019-06-14T08:13:33.553244Z",
     "start_time": "2019-06-14T08:13:26.408347Z"
    },
    "slideshow": {
     "slide_type": "slide"
    }
   },
   "outputs": [
    {
     "name": "stdout",
     "output_type": "stream",
     "text": [
      "This non-commercial license of GraphLab Create for academic use is assigned to wangchengjun@nju.edu.cn and will expire on June 15, 2020.\n"
     ]
    },
    {
     "name": "stderr",
     "output_type": "stream",
     "text": [
      "[INFO] graphlab.cython.cy_server: GraphLab Create v2.1 started. Logging: /tmp/graphlab_server_1560500011.log\n"
     ]
    },
    {
     "name": "stdout",
     "output_type": "stream",
     "text": [
      "SGraph({'num_edges': 1, 'num_vertices': 3})\n"
     ]
    }
   ],
   "source": [
    "from graphlab import SGraph, Vertex, Edge\n",
    "g = SGraph()\n",
    "verts = [Vertex(0, attr={'breed': 'labrador'}),\n",
    "         Vertex(1, attr={'breed': 'labrador'}),\n",
    "         Vertex(2, attr={'breed': 'vizsla'})]\n",
    "g = g.add_vertices(verts)\n",
    "g = g.add_edges(Edge(1, 2))\n",
    "print(g)"
   ]
  },
  {
   "cell_type": "code",
   "execution_count": 6,
   "metadata": {
    "ExecuteTime": {
     "end_time": "2019-06-14T08:15:07.677508Z",
     "start_time": "2019-06-14T08:15:07.608562Z"
    },
    "slideshow": {
     "slide_type": "slide"
    }
   },
   "outputs": [
    {
     "name": "stdout",
     "output_type": "stream",
     "text": [
      "SGraph({'num_edges': 1, 'num_vertices': 3})\n"
     ]
    }
   ],
   "source": [
    "from graphlab import SGraph, Vertex, Edge\n",
    "g = SGraph()\n",
    "verts = [Vertex(0, attr={'breed': 'labrador'}),\n",
    "         Vertex(1, attr={'breed': 'labrador'}),\n",
    "         Vertex(2, attr={'breed': 'vizsla'})]\n",
    "g = g.add_vertices(verts)\n",
    "g = g.add_edges(Edge(1, 2))\n",
    "print g"
   ]
  },
  {
   "cell_type": "code",
   "execution_count": 7,
   "metadata": {
    "ExecuteTime": {
     "end_time": "2019-06-14T08:15:11.934308Z",
     "start_time": "2019-06-14T08:15:11.928999Z"
    }
   },
   "outputs": [
    {
     "name": "stdout",
     "output_type": "stream",
     "text": [
      "Canvas is updated and available in a tab in the default browser.\n"
     ]
    }
   ],
   "source": [
    "g.show()"
   ]
  },
  {
   "cell_type": "code",
   "execution_count": 11,
   "metadata": {
    "ExecuteTime": {
     "end_time": "2019-06-14T08:16:23.682537Z",
     "start_time": "2019-06-14T08:16:21.080737Z"
    },
    "slideshow": {
     "slide_type": "slide"
    }
   },
   "outputs": [
    {
     "data": {
      "text/html": [
       "<pre>Downloading https://static.turi.com/datasets/bond/bond_edges.csv to /var/tmp/graphlab-datalab/26263/1aa1ba8a-4d52-4a62-a465-3b74d63f853c.csv</pre>"
      ],
      "text/plain": [
       "Downloading https://static.turi.com/datasets/bond/bond_edges.csv to /var/tmp/graphlab-datalab/26263/1aa1ba8a-4d52-4a62-a465-3b74d63f853c.csv"
      ]
     },
     "metadata": {},
     "output_type": "display_data"
    },
    {
     "data": {
      "text/html": [
       "<pre>Finished parsing file https://static.turi.com/datasets/bond/bond_edges.csv</pre>"
      ],
      "text/plain": [
       "Finished parsing file https://static.turi.com/datasets/bond/bond_edges.csv"
      ]
     },
     "metadata": {},
     "output_type": "display_data"
    },
    {
     "data": {
      "text/html": [
       "<pre>Parsing completed. Parsed 20 lines in 0.008012 secs.</pre>"
      ],
      "text/plain": [
       "Parsing completed. Parsed 20 lines in 0.008012 secs."
      ]
     },
     "metadata": {},
     "output_type": "display_data"
    },
    {
     "name": "stdout",
     "output_type": "stream",
     "text": [
      "------------------------------------------------------\n",
      "Inferred types from first 100 line(s) of file as \n",
      "column_type_hints=[str,str,str]\n",
      "If parsing fails due to incorrect types, you can correct\n",
      "the inferred type list above and pass it to read_csv in\n",
      "the column_type_hints argument\n",
      "------------------------------------------------------\n"
     ]
    },
    {
     "data": {
      "text/html": [
       "<pre>Finished parsing file https://static.turi.com/datasets/bond/bond_edges.csv</pre>"
      ],
      "text/plain": [
       "Finished parsing file https://static.turi.com/datasets/bond/bond_edges.csv"
      ]
     },
     "metadata": {},
     "output_type": "display_data"
    },
    {
     "data": {
      "text/html": [
       "<pre>Parsing completed. Parsed 20 lines in 0.005861 secs.</pre>"
      ],
      "text/plain": [
       "Parsing completed. Parsed 20 lines in 0.005861 secs."
      ]
     },
     "metadata": {},
     "output_type": "display_data"
    },
    {
     "name": "stdout",
     "output_type": "stream",
     "text": [
      "SGraph({'num_edges': 20, 'num_vertices': 10})\n"
     ]
    }
   ],
   "source": [
    "from graphlab import SFrame,SGraph\n",
    "edge_data = SFrame.read_csv('https://static.turi.com/datasets/bond/bond_edges.csv')\n",
    "\n",
    "g = SGraph()\n",
    "g = g.add_edges(edge_data, src_field='src', dst_field='dst')\n",
    "print(g)"
   ]
  },
  {
   "cell_type": "code",
   "execution_count": 12,
   "metadata": {
    "ExecuteTime": {
     "end_time": "2019-06-14T08:16:27.030643Z",
     "start_time": "2019-06-14T08:16:26.967509Z"
    },
    "slideshow": {
     "slide_type": "subslide"
    }
   },
   "outputs": [
    {
     "data": {
      "text/html": [
       "<pre>Finished parsing file https://static.turi.com/datasets/bond/bond_vertices.csv</pre>"
      ],
      "text/plain": [
       "Finished parsing file https://static.turi.com/datasets/bond/bond_vertices.csv"
      ]
     },
     "metadata": {},
     "output_type": "display_data"
    },
    {
     "data": {
      "text/html": [
       "<pre>Parsing completed. Parsed 10 lines in 0.025465 secs.</pre>"
      ],
      "text/plain": [
       "Parsing completed. Parsed 10 lines in 0.025465 secs."
      ]
     },
     "metadata": {},
     "output_type": "display_data"
    },
    {
     "name": "stdout",
     "output_type": "stream",
     "text": [
      "------------------------------------------------------\n",
      "Inferred types from first 100 line(s) of file as \n",
      "column_type_hints=[str,str,int,int]\n",
      "If parsing fails due to incorrect types, you can correct\n",
      "the inferred type list above and pass it to read_csv in\n",
      "the column_type_hints argument\n",
      "------------------------------------------------------\n"
     ]
    },
    {
     "data": {
      "text/html": [
       "<pre>Finished parsing file https://static.turi.com/datasets/bond/bond_vertices.csv</pre>"
      ],
      "text/plain": [
       "Finished parsing file https://static.turi.com/datasets/bond/bond_vertices.csv"
      ]
     },
     "metadata": {},
     "output_type": "display_data"
    },
    {
     "data": {
      "text/html": [
       "<pre>Parsing completed. Parsed 10 lines in 0.005575 secs.</pre>"
      ],
      "text/plain": [
       "Parsing completed. Parsed 10 lines in 0.005575 secs."
      ]
     },
     "metadata": {},
     "output_type": "display_data"
    }
   ],
   "source": [
    "vertex_data = SFrame.read_csv('https://static.turi.com/datasets/bond/bond_vertices.csv')\n",
    "\n",
    "g = SGraph(vertices=vertex_data, edges=edge_data, vid_field='name',\n",
    "           src_field='src', dst_field='dst')"
   ]
  },
  {
   "cell_type": "code",
   "execution_count": 13,
   "metadata": {
    "ExecuteTime": {
     "end_time": "2019-06-14T08:16:30.195628Z",
     "start_time": "2019-06-14T08:16:30.190122Z"
    },
    "slideshow": {
     "slide_type": "subslide"
    }
   },
   "outputs": [
    {
     "name": "stdout",
     "output_type": "stream",
     "text": [
      "Canvas is updated and available in a tab in the default browser.\n"
     ]
    }
   ],
   "source": [
    "g.show(vlabel='id', highlight=['James Bond', 'Moneypenny'], \\\n",
    "       arrows=True)"
   ]
  },
  {
   "cell_type": "markdown",
   "metadata": {},
   "source": [
    "# TuriCreate\n",
    "\n",
    "https://github.com/apple/turicreate/"
   ]
  },
  {
   "cell_type": "markdown",
   "metadata": {
    "ExecuteTime": {
     "end_time": "2019-06-14T12:18:31.819439Z",
     "start_time": "2019-06-14T12:18:31.810844Z"
    }
   },
   "source": [
    "# https://github.com/apple/turicreate/issues/791\n",
    "# https://github.com/apple/turicreate/issues/202\n",
    "\n",
    "> pip uninstall turicreate\n",
    "\n",
    "And reinstalling with:\n",
    "\n",
    "> pip install turicreate"
   ]
  },
  {
   "cell_type": "code",
   "execution_count": 14,
   "metadata": {
    "ExecuteTime": {
     "end_time": "2019-06-14T12:38:21.721009Z",
     "start_time": "2019-06-14T12:38:15.054615Z"
    }
   },
   "outputs": [
    {
     "data": {
      "text/html": [
       "<pre>Finished parsing file /Users/datalab/bigdata/cjc/ml-1m/ratings.dat</pre>"
      ],
      "text/plain": [
       "Finished parsing file /Users/datalab/bigdata/cjc/ml-1m/ratings.dat"
      ]
     },
     "metadata": {},
     "output_type": "display_data"
    },
    {
     "data": {
      "text/html": [
       "<pre>Parsing completed. Parsed 100 lines in 0.300473 secs.</pre>"
      ],
      "text/plain": [
       "Parsing completed. Parsed 100 lines in 0.300473 secs."
      ]
     },
     "metadata": {},
     "output_type": "display_data"
    },
    {
     "name": "stdout",
     "output_type": "stream",
     "text": [
      "------------------------------------------------------\n",
      "Inferred types from first 100 line(s) of file as \n",
      "column_type_hints=[str]\n",
      "If parsing fails due to incorrect types, you can correct\n",
      "the inferred type list above and pass it to read_csv in\n",
      "the column_type_hints argument\n",
      "------------------------------------------------------\n"
     ]
    },
    {
     "data": {
      "text/html": [
       "<pre>Finished parsing file /Users/datalab/bigdata/cjc/ml-1m/ratings.dat</pre>"
      ],
      "text/plain": [
       "Finished parsing file /Users/datalab/bigdata/cjc/ml-1m/ratings.dat"
      ]
     },
     "metadata": {},
     "output_type": "display_data"
    },
    {
     "data": {
      "text/html": [
       "<pre>Parsing completed. Parsed 1000209 lines in 0.380006 secs.</pre>"
      ],
      "text/plain": [
       "Parsing completed. Parsed 1000209 lines in 0.380006 secs."
      ]
     },
     "metadata": {},
     "output_type": "display_data"
    }
   ],
   "source": [
    "import turicreate as tc\n",
    "actions = tc.SFrame.read_csv('/Users/datalab/bigdata/cjc/ml-1m/ratings.dat', delimiter='\\n', \n",
    "                                header=False)['X1'].apply(lambda x: x.split('::')).unpack()\n",
    "for col in actions.column_names():\n",
    "    actions[col] = actions[col].astype(int)\n",
    "actions = actions.rename({'X.0': 'user_id', 'X.1': 'movie_id', 'X.2': 'rating', 'X.3': 'timestamp'})\n",
    "#actions.save('ratings')"
   ]
  },
  {
   "cell_type": "code",
   "execution_count": 15,
   "metadata": {
    "ExecuteTime": {
     "end_time": "2019-06-14T12:38:23.019838Z",
     "start_time": "2019-06-14T12:38:22.995006Z"
    }
   },
   "outputs": [
    {
     "data": {
      "text/html": [
       "<div style=\"max-height:1000px;max-width:1500px;overflow:auto;\"><table frame=\"box\" rules=\"cols\">\n",
       "    <tr>\n",
       "        <th style=\"padding-left: 1em; padding-right: 1em; text-align: center\">user_id</th>\n",
       "        <th style=\"padding-left: 1em; padding-right: 1em; text-align: center\">movie_id</th>\n",
       "        <th style=\"padding-left: 1em; padding-right: 1em; text-align: center\">rating</th>\n",
       "        <th style=\"padding-left: 1em; padding-right: 1em; text-align: center\">timestamp</th>\n",
       "    </tr>\n",
       "    <tr>\n",
       "        <td style=\"padding-left: 1em; padding-right: 1em; text-align: center; vertical-align: top\">1</td>\n",
       "        <td style=\"padding-left: 1em; padding-right: 1em; text-align: center; vertical-align: top\">1193</td>\n",
       "        <td style=\"padding-left: 1em; padding-right: 1em; text-align: center; vertical-align: top\">5</td>\n",
       "        <td style=\"padding-left: 1em; padding-right: 1em; text-align: center; vertical-align: top\">978300760</td>\n",
       "    </tr>\n",
       "    <tr>\n",
       "        <td style=\"padding-left: 1em; padding-right: 1em; text-align: center; vertical-align: top\">1</td>\n",
       "        <td style=\"padding-left: 1em; padding-right: 1em; text-align: center; vertical-align: top\">661</td>\n",
       "        <td style=\"padding-left: 1em; padding-right: 1em; text-align: center; vertical-align: top\">3</td>\n",
       "        <td style=\"padding-left: 1em; padding-right: 1em; text-align: center; vertical-align: top\">978302109</td>\n",
       "    </tr>\n",
       "    <tr>\n",
       "        <td style=\"padding-left: 1em; padding-right: 1em; text-align: center; vertical-align: top\">1</td>\n",
       "        <td style=\"padding-left: 1em; padding-right: 1em; text-align: center; vertical-align: top\">914</td>\n",
       "        <td style=\"padding-left: 1em; padding-right: 1em; text-align: center; vertical-align: top\">3</td>\n",
       "        <td style=\"padding-left: 1em; padding-right: 1em; text-align: center; vertical-align: top\">978301968</td>\n",
       "    </tr>\n",
       "    <tr>\n",
       "        <td style=\"padding-left: 1em; padding-right: 1em; text-align: center; vertical-align: top\">1</td>\n",
       "        <td style=\"padding-left: 1em; padding-right: 1em; text-align: center; vertical-align: top\">3408</td>\n",
       "        <td style=\"padding-left: 1em; padding-right: 1em; text-align: center; vertical-align: top\">4</td>\n",
       "        <td style=\"padding-left: 1em; padding-right: 1em; text-align: center; vertical-align: top\">978300275</td>\n",
       "    </tr>\n",
       "    <tr>\n",
       "        <td style=\"padding-left: 1em; padding-right: 1em; text-align: center; vertical-align: top\">1</td>\n",
       "        <td style=\"padding-left: 1em; padding-right: 1em; text-align: center; vertical-align: top\">2355</td>\n",
       "        <td style=\"padding-left: 1em; padding-right: 1em; text-align: center; vertical-align: top\">5</td>\n",
       "        <td style=\"padding-left: 1em; padding-right: 1em; text-align: center; vertical-align: top\">978824291</td>\n",
       "    </tr>\n",
       "    <tr>\n",
       "        <td style=\"padding-left: 1em; padding-right: 1em; text-align: center; vertical-align: top\">1</td>\n",
       "        <td style=\"padding-left: 1em; padding-right: 1em; text-align: center; vertical-align: top\">1197</td>\n",
       "        <td style=\"padding-left: 1em; padding-right: 1em; text-align: center; vertical-align: top\">3</td>\n",
       "        <td style=\"padding-left: 1em; padding-right: 1em; text-align: center; vertical-align: top\">978302268</td>\n",
       "    </tr>\n",
       "    <tr>\n",
       "        <td style=\"padding-left: 1em; padding-right: 1em; text-align: center; vertical-align: top\">1</td>\n",
       "        <td style=\"padding-left: 1em; padding-right: 1em; text-align: center; vertical-align: top\">1287</td>\n",
       "        <td style=\"padding-left: 1em; padding-right: 1em; text-align: center; vertical-align: top\">5</td>\n",
       "        <td style=\"padding-left: 1em; padding-right: 1em; text-align: center; vertical-align: top\">978302039</td>\n",
       "    </tr>\n",
       "    <tr>\n",
       "        <td style=\"padding-left: 1em; padding-right: 1em; text-align: center; vertical-align: top\">1</td>\n",
       "        <td style=\"padding-left: 1em; padding-right: 1em; text-align: center; vertical-align: top\">2804</td>\n",
       "        <td style=\"padding-left: 1em; padding-right: 1em; text-align: center; vertical-align: top\">5</td>\n",
       "        <td style=\"padding-left: 1em; padding-right: 1em; text-align: center; vertical-align: top\">978300719</td>\n",
       "    </tr>\n",
       "    <tr>\n",
       "        <td style=\"padding-left: 1em; padding-right: 1em; text-align: center; vertical-align: top\">1</td>\n",
       "        <td style=\"padding-left: 1em; padding-right: 1em; text-align: center; vertical-align: top\">594</td>\n",
       "        <td style=\"padding-left: 1em; padding-right: 1em; text-align: center; vertical-align: top\">4</td>\n",
       "        <td style=\"padding-left: 1em; padding-right: 1em; text-align: center; vertical-align: top\">978302268</td>\n",
       "    </tr>\n",
       "    <tr>\n",
       "        <td style=\"padding-left: 1em; padding-right: 1em; text-align: center; vertical-align: top\">1</td>\n",
       "        <td style=\"padding-left: 1em; padding-right: 1em; text-align: center; vertical-align: top\">919</td>\n",
       "        <td style=\"padding-left: 1em; padding-right: 1em; text-align: center; vertical-align: top\">4</td>\n",
       "        <td style=\"padding-left: 1em; padding-right: 1em; text-align: center; vertical-align: top\">978301368</td>\n",
       "    </tr>\n",
       "</table>\n",
       "[1000209 rows x 4 columns]<br/>Note: Only the head of the SFrame is printed.<br/>You can use print_rows(num_rows=m, num_columns=n) to print more rows and columns.\n",
       "</div>"
      ],
      "text/plain": [
       "Columns:\n",
       "\tuser_id\tint\n",
       "\tmovie_id\tint\n",
       "\trating\tint\n",
       "\ttimestamp\tint\n",
       "\n",
       "Rows: 1000209\n",
       "\n",
       "Data:\n",
       "+---------+----------+--------+-----------+\n",
       "| user_id | movie_id | rating | timestamp |\n",
       "+---------+----------+--------+-----------+\n",
       "|    1    |   1193   |   5    | 978300760 |\n",
       "|    1    |   661    |   3    | 978302109 |\n",
       "|    1    |   914    |   3    | 978301968 |\n",
       "|    1    |   3408   |   4    | 978300275 |\n",
       "|    1    |   2355   |   5    | 978824291 |\n",
       "|    1    |   1197   |   3    | 978302268 |\n",
       "|    1    |   1287   |   5    | 978302039 |\n",
       "|    1    |   2804   |   5    | 978300719 |\n",
       "|    1    |   594    |   4    | 978302268 |\n",
       "|    1    |   919    |   4    | 978301368 |\n",
       "+---------+----------+--------+-----------+\n",
       "[1000209 rows x 4 columns]\n",
       "Note: Only the head of the SFrame is printed.\n",
       "You can use print_rows(num_rows=m, num_columns=n) to print more rows and columns."
      ]
     },
     "execution_count": 15,
     "metadata": {},
     "output_type": "execute_result"
    }
   ],
   "source": [
    "actions"
   ]
  },
  {
   "cell_type": "code",
   "execution_count": 16,
   "metadata": {
    "ExecuteTime": {
     "end_time": "2019-06-14T12:38:47.941017Z",
     "start_time": "2019-06-14T12:38:47.837105Z"
    }
   },
   "outputs": [
    {
     "data": {
      "text/html": [
       "<pre>Finished parsing file /Users/datalab/bigdata/cjc/ml-1m/movies.dat</pre>"
      ],
      "text/plain": [
       "Finished parsing file /Users/datalab/bigdata/cjc/ml-1m/movies.dat"
      ]
     },
     "metadata": {},
     "output_type": "display_data"
    },
    {
     "data": {
      "text/html": [
       "<pre>Parsing completed. Parsed 100 lines in 0.027835 secs.</pre>"
      ],
      "text/plain": [
       "Parsing completed. Parsed 100 lines in 0.027835 secs."
      ]
     },
     "metadata": {},
     "output_type": "display_data"
    },
    {
     "name": "stdout",
     "output_type": "stream",
     "text": [
      "------------------------------------------------------\n",
      "Inferred types from first 100 line(s) of file as \n",
      "column_type_hints=[str]\n",
      "If parsing fails due to incorrect types, you can correct\n",
      "the inferred type list above and pass it to read_csv in\n",
      "the column_type_hints argument\n",
      "------------------------------------------------------\n"
     ]
    },
    {
     "data": {
      "text/html": [
       "<pre>Finished parsing file /Users/datalab/bigdata/cjc/ml-1m/movies.dat</pre>"
      ],
      "text/plain": [
       "Finished parsing file /Users/datalab/bigdata/cjc/ml-1m/movies.dat"
      ]
     },
     "metadata": {},
     "output_type": "display_data"
    },
    {
     "data": {
      "text/html": [
       "<pre>Parsing completed. Parsed 3883 lines in 0.007234 secs.</pre>"
      ],
      "text/plain": [
       "Parsing completed. Parsed 3883 lines in 0.007234 secs."
      ]
     },
     "metadata": {},
     "output_type": "display_data"
    },
    {
     "data": {
      "text/html": [
       "<div style=\"max-height:1000px;max-width:1500px;overflow:auto;\"><table frame=\"box\" rules=\"cols\">\n",
       "    <tr>\n",
       "        <th style=\"padding-left: 1em; padding-right: 1em; text-align: center\">X.0</th>\n",
       "        <th style=\"padding-left: 1em; padding-right: 1em; text-align: center\">X.1</th>\n",
       "        <th style=\"padding-left: 1em; padding-right: 1em; text-align: center\">X.2</th>\n",
       "    </tr>\n",
       "    <tr>\n",
       "        <td style=\"padding-left: 1em; padding-right: 1em; text-align: center; vertical-align: top\">1</td>\n",
       "        <td style=\"padding-left: 1em; padding-right: 1em; text-align: center; vertical-align: top\">Toy Story (1995)</td>\n",
       "        <td style=\"padding-left: 1em; padding-right: 1em; text-align: center; vertical-align: top\">Animation|Children's|Come<br>dy ...</td>\n",
       "    </tr>\n",
       "    <tr>\n",
       "        <td style=\"padding-left: 1em; padding-right: 1em; text-align: center; vertical-align: top\">2</td>\n",
       "        <td style=\"padding-left: 1em; padding-right: 1em; text-align: center; vertical-align: top\">Jumanji (1995)</td>\n",
       "        <td style=\"padding-left: 1em; padding-right: 1em; text-align: center; vertical-align: top\">Adventure|Children's|Fant<br>asy ...</td>\n",
       "    </tr>\n",
       "    <tr>\n",
       "        <td style=\"padding-left: 1em; padding-right: 1em; text-align: center; vertical-align: top\">3</td>\n",
       "        <td style=\"padding-left: 1em; padding-right: 1em; text-align: center; vertical-align: top\">Grumpier Old Men (1995)</td>\n",
       "        <td style=\"padding-left: 1em; padding-right: 1em; text-align: center; vertical-align: top\">Comedy|Romance</td>\n",
       "    </tr>\n",
       "    <tr>\n",
       "        <td style=\"padding-left: 1em; padding-right: 1em; text-align: center; vertical-align: top\">4</td>\n",
       "        <td style=\"padding-left: 1em; padding-right: 1em; text-align: center; vertical-align: top\">Waiting to Exhale (1995)</td>\n",
       "        <td style=\"padding-left: 1em; padding-right: 1em; text-align: center; vertical-align: top\">Comedy|Drama</td>\n",
       "    </tr>\n",
       "    <tr>\n",
       "        <td style=\"padding-left: 1em; padding-right: 1em; text-align: center; vertical-align: top\">5</td>\n",
       "        <td style=\"padding-left: 1em; padding-right: 1em; text-align: center; vertical-align: top\">Father of the Bride Part<br>II (1995) ...</td>\n",
       "        <td style=\"padding-left: 1em; padding-right: 1em; text-align: center; vertical-align: top\">Comedy</td>\n",
       "    </tr>\n",
       "    <tr>\n",
       "        <td style=\"padding-left: 1em; padding-right: 1em; text-align: center; vertical-align: top\">6</td>\n",
       "        <td style=\"padding-left: 1em; padding-right: 1em; text-align: center; vertical-align: top\">Heat (1995)</td>\n",
       "        <td style=\"padding-left: 1em; padding-right: 1em; text-align: center; vertical-align: top\">Action|Crime|Thriller</td>\n",
       "    </tr>\n",
       "    <tr>\n",
       "        <td style=\"padding-left: 1em; padding-right: 1em; text-align: center; vertical-align: top\">7</td>\n",
       "        <td style=\"padding-left: 1em; padding-right: 1em; text-align: center; vertical-align: top\">Sabrina (1995)</td>\n",
       "        <td style=\"padding-left: 1em; padding-right: 1em; text-align: center; vertical-align: top\">Comedy|Romance</td>\n",
       "    </tr>\n",
       "    <tr>\n",
       "        <td style=\"padding-left: 1em; padding-right: 1em; text-align: center; vertical-align: top\">8</td>\n",
       "        <td style=\"padding-left: 1em; padding-right: 1em; text-align: center; vertical-align: top\">Tom and Huck (1995)</td>\n",
       "        <td style=\"padding-left: 1em; padding-right: 1em; text-align: center; vertical-align: top\">Adventure|Children's</td>\n",
       "    </tr>\n",
       "    <tr>\n",
       "        <td style=\"padding-left: 1em; padding-right: 1em; text-align: center; vertical-align: top\">9</td>\n",
       "        <td style=\"padding-left: 1em; padding-right: 1em; text-align: center; vertical-align: top\">Sudden Death (1995)</td>\n",
       "        <td style=\"padding-left: 1em; padding-right: 1em; text-align: center; vertical-align: top\">Action</td>\n",
       "    </tr>\n",
       "    <tr>\n",
       "        <td style=\"padding-left: 1em; padding-right: 1em; text-align: center; vertical-align: top\">10</td>\n",
       "        <td style=\"padding-left: 1em; padding-right: 1em; text-align: center; vertical-align: top\">GoldenEye (1995)</td>\n",
       "        <td style=\"padding-left: 1em; padding-right: 1em; text-align: center; vertical-align: top\">Action|Adventure|Thriller</td>\n",
       "    </tr>\n",
       "</table>\n",
       "[3883 rows x 3 columns]<br/>Note: Only the head of the SFrame is printed.<br/>You can use print_rows(num_rows=m, num_columns=n) to print more rows and columns.\n",
       "</div>"
      ],
      "text/plain": [
       "Columns:\n",
       "\tX.0\tstr\n",
       "\tX.1\tstr\n",
       "\tX.2\tstr\n",
       "\n",
       "Rows: 3883\n",
       "\n",
       "Data:\n",
       "+-----+-------------------------------+------------------------------+\n",
       "| X.0 |              X.1              |             X.2              |\n",
       "+-----+-------------------------------+------------------------------+\n",
       "|  1  |        Toy Story (1995)       | Animation|Children's|Comedy  |\n",
       "|  2  |         Jumanji (1995)        | Adventure|Children's|Fantasy |\n",
       "|  3  |    Grumpier Old Men (1995)    |        Comedy|Romance        |\n",
       "|  4  |    Waiting to Exhale (1995)   |         Comedy|Drama         |\n",
       "|  5  | Father of the Bride Part I... |            Comedy            |\n",
       "|  6  |          Heat (1995)          |    Action|Crime|Thriller     |\n",
       "|  7  |         Sabrina (1995)        |        Comedy|Romance        |\n",
       "|  8  |      Tom and Huck (1995)      |     Adventure|Children's     |\n",
       "|  9  |      Sudden Death (1995)      |            Action            |\n",
       "|  10 |        GoldenEye (1995)       |  Action|Adventure|Thriller   |\n",
       "+-----+-------------------------------+------------------------------+\n",
       "[3883 rows x 3 columns]\n",
       "Note: Only the head of the SFrame is printed.\n",
       "You can use print_rows(num_rows=m, num_columns=n) to print more rows and columns."
      ]
     },
     "execution_count": 16,
     "metadata": {},
     "output_type": "execute_result"
    }
   ],
   "source": [
    "items = tc.SFrame.read_csv('/Users/datalab/bigdata/cjc/ml-1m/movies.dat', delimiter='\\n', \n",
    "                                header=False)['X1'].apply(lambda x: x.split('::')).unpack()\n",
    "items"
   ]
  },
  {
   "cell_type": "code",
   "execution_count": 17,
   "metadata": {
    "ExecuteTime": {
     "end_time": "2019-06-14T12:39:53.151506Z",
     "start_time": "2019-06-14T12:39:51.011692Z"
    }
   },
   "outputs": [
    {
     "data": {
      "text/html": [
       "<pre>Warning: Ignoring columns rating, timestamp;</pre>"
      ],
      "text/plain": [
       "Warning: Ignoring columns rating, timestamp;"
      ]
     },
     "metadata": {},
     "output_type": "display_data"
    },
    {
     "data": {
      "text/html": [
       "<pre> To use one of these as a rating column, specify the column name to be used as target</pre>"
      ],
      "text/plain": [
       " To use one of these as a rating column, specify the column name to be used as target"
      ]
     },
     "metadata": {},
     "output_type": "display_data"
    },
    {
     "data": {
      "text/html": [
       "<pre>    and use a method that allows the use of a target.</pre>"
      ],
      "text/plain": [
       "    and use a method that allows the use of a target."
      ]
     },
     "metadata": {},
     "output_type": "display_data"
    },
    {
     "data": {
      "text/html": [
       "<pre>Preparing data set.</pre>"
      ],
      "text/plain": [
       "Preparing data set."
      ]
     },
     "metadata": {},
     "output_type": "display_data"
    },
    {
     "data": {
      "text/html": [
       "<pre>    Data has 967831 observations with 6040 users and 3702 items.</pre>"
      ],
      "text/plain": [
       "    Data has 967831 observations with 6040 users and 3702 items."
      ]
     },
     "metadata": {},
     "output_type": "display_data"
    },
    {
     "data": {
      "text/html": [
       "<pre>    Data prepared in: 0.350148s</pre>"
      ],
      "text/plain": [
       "    Data prepared in: 0.350148s"
      ]
     },
     "metadata": {},
     "output_type": "display_data"
    },
    {
     "data": {
      "text/html": [
       "<pre>Training model from provided data.</pre>"
      ],
      "text/plain": [
       "Training model from provided data."
      ]
     },
     "metadata": {},
     "output_type": "display_data"
    },
    {
     "data": {
      "text/html": [
       "<pre>Gathering per-item and per-user statistics.</pre>"
      ],
      "text/plain": [
       "Gathering per-item and per-user statistics."
      ]
     },
     "metadata": {},
     "output_type": "display_data"
    },
    {
     "data": {
      "text/html": [
       "<pre>+--------------------------------+------------+</pre>"
      ],
      "text/plain": [
       "+--------------------------------+------------+"
      ]
     },
     "metadata": {},
     "output_type": "display_data"
    },
    {
     "data": {
      "text/html": [
       "<pre>| Elapsed Time (Item Statistics) | % Complete |</pre>"
      ],
      "text/plain": [
       "| Elapsed Time (Item Statistics) | % Complete |"
      ]
     },
     "metadata": {},
     "output_type": "display_data"
    },
    {
     "data": {
      "text/html": [
       "<pre>+--------------------------------+------------+</pre>"
      ],
      "text/plain": [
       "+--------------------------------+------------+"
      ]
     },
     "metadata": {},
     "output_type": "display_data"
    },
    {
     "data": {
      "text/html": [
       "<pre>| 6.416ms                        | 16.5       |</pre>"
      ],
      "text/plain": [
       "| 6.416ms                        | 16.5       |"
      ]
     },
     "metadata": {},
     "output_type": "display_data"
    },
    {
     "data": {
      "text/html": [
       "<pre>| 15.604ms                       | 100        |</pre>"
      ],
      "text/plain": [
       "| 15.604ms                       | 100        |"
      ]
     },
     "metadata": {},
     "output_type": "display_data"
    },
    {
     "data": {
      "text/html": [
       "<pre>+--------------------------------+------------+</pre>"
      ],
      "text/plain": [
       "+--------------------------------+------------+"
      ]
     },
     "metadata": {},
     "output_type": "display_data"
    },
    {
     "data": {
      "text/html": [
       "<pre>Setting up lookup tables.</pre>"
      ],
      "text/plain": [
       "Setting up lookup tables."
      ]
     },
     "metadata": {},
     "output_type": "display_data"
    },
    {
     "data": {
      "text/html": [
       "<pre>Processing data in one pass using dense lookup tables.</pre>"
      ],
      "text/plain": [
       "Processing data in one pass using dense lookup tables."
      ]
     },
     "metadata": {},
     "output_type": "display_data"
    },
    {
     "data": {
      "text/html": [
       "<pre>+-------------------------------------+------------------+-----------------+</pre>"
      ],
      "text/plain": [
       "+-------------------------------------+------------------+-----------------+"
      ]
     },
     "metadata": {},
     "output_type": "display_data"
    },
    {
     "data": {
      "text/html": [
       "<pre>| Elapsed Time (Constructing Lookups) | Total % Complete | Items Processed |</pre>"
      ],
      "text/plain": [
       "| Elapsed Time (Constructing Lookups) | Total % Complete | Items Processed |"
      ]
     },
     "metadata": {},
     "output_type": "display_data"
    },
    {
     "data": {
      "text/html": [
       "<pre>+-------------------------------------+------------------+-----------------+</pre>"
      ],
      "text/plain": [
       "+-------------------------------------+------------------+-----------------+"
      ]
     },
     "metadata": {},
     "output_type": "display_data"
    },
    {
     "data": {
      "text/html": [
       "<pre>| 54.748ms                            | 0                | 0               |</pre>"
      ],
      "text/plain": [
       "| 54.748ms                            | 0                | 0               |"
      ]
     },
     "metadata": {},
     "output_type": "display_data"
    },
    {
     "data": {
      "text/html": [
       "<pre>| 581.829ms                           | 100              | 3702            |</pre>"
      ],
      "text/plain": [
       "| 581.829ms                           | 100              | 3702            |"
      ]
     },
     "metadata": {},
     "output_type": "display_data"
    },
    {
     "data": {
      "text/html": [
       "<pre>+-------------------------------------+------------------+-----------------+</pre>"
      ],
      "text/plain": [
       "+-------------------------------------+------------------+-----------------+"
      ]
     },
     "metadata": {},
     "output_type": "display_data"
    },
    {
     "data": {
      "text/html": [
       "<pre>Finalizing lookup tables.</pre>"
      ],
      "text/plain": [
       "Finalizing lookup tables."
      ]
     },
     "metadata": {},
     "output_type": "display_data"
    },
    {
     "data": {
      "text/html": [
       "<pre>Generating candidate set for working with new users.</pre>"
      ],
      "text/plain": [
       "Generating candidate set for working with new users."
      ]
     },
     "metadata": {},
     "output_type": "display_data"
    },
    {
     "data": {
      "text/html": [
       "<pre>Finished training in 1.62099s</pre>"
      ],
      "text/plain": [
       "Finished training in 1.62099s"
      ]
     },
     "metadata": {},
     "output_type": "display_data"
    }
   ],
   "source": [
    "training_data, validation_data = tc.recommender.util.random_split_by_user(actions, 'user_id', 'movie_id')\n",
    "model = tc.recommender.create(training_data, 'user_id', 'movie_id')"
   ]
  },
  {
   "cell_type": "markdown",
   "metadata": {
    "slideshow": {
     "slide_type": "slide"
    }
   },
   "source": [
    "# 阅读材料\n",
    "- https://turi.com/learn/userguide/\n"
   ]
  }
 ],
 "metadata": {
  "celltoolbar": "Slideshow",
  "kernelspec": {
   "display_name": "Python 2",
   "language": "python",
   "name": "python2"
  },
  "language_info": {
   "codemirror_mode": {
    "name": "ipython",
    "version": 2
   },
   "file_extension": ".py",
   "mimetype": "text/x-python",
   "name": "python",
   "nbconvert_exporter": "python",
   "pygments_lexer": "ipython2",
   "version": "2.7.14"
  },
  "latex_envs": {
   "LaTeX_envs_menu_present": true,
   "autoclose": false,
   "autocomplete": true,
   "bibliofile": "biblio.bib",
   "cite_by": "apalike",
   "current_citInitial": 1,
   "eqLabelWithNumbers": true,
   "eqNumInitial": 0,
   "hotkeys": {
    "equation": "Ctrl-E",
    "itemize": "Ctrl-I"
   },
   "labels_anchors": false,
   "latex_user_defs": false,
   "report_style_numbering": false,
   "user_envs_cfg": false
  },
  "toc": {
   "base_numbering": 1,
   "nav_menu": {},
   "number_sections": false,
   "sideBar": false,
   "skip_h1_title": false,
   "title_cell": "Table of Contents",
   "title_sidebar": "Contents",
   "toc_cell": false,
   "toc_position": {
    "height": "48px",
    "left": "1351px",
    "top": "42.6667px",
    "width": "168px"
   },
   "toc_section_display": false,
   "toc_window_display": true
  }
 },
 "nbformat": 4,
 "nbformat_minor": 1
}
