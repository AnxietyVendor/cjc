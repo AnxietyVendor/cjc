{
 "cells": [
  {
   "cell_type": "markdown",
   "metadata": {
    "slideshow": {
     "slide_type": "fragment"
    }
   },
   "source": [
    "***\n",
    "***\n",
    "# Topic Modeling Using Graphlab\n",
    "***\n",
    "***\n",
    "\n",
    "王成军\n",
    "\n",
    "wangchengjun@nju.edu.cn\n",
    "\n",
    "计算传播网 http://computational-communication.com"
   ]
  },
  {
   "cell_type": "code",
   "execution_count": 2,
   "metadata": {
    "ExecuteTime": {
     "end_time": "2018-05-04T08:34:03.679951Z",
     "start_time": "2018-05-04T08:34:03.675049Z"
    },
    "slideshow": {
     "slide_type": "slide"
    }
   },
   "outputs": [],
   "source": [
    "import graphlab\n",
    "graphlab.canvas.set_target(\"ipynb\")"
   ]
  },
  {
   "cell_type": "markdown",
   "metadata": {
    "slideshow": {
     "slide_type": "fragment"
    }
   },
   "source": [
    "Download Data: http://select.cs.cmu.edu/code/graphlab/datasets/wikipedia/wikipedia_raw/w15"
   ]
  },
  {
   "cell_type": "code",
   "execution_count": 3,
   "metadata": {
    "ExecuteTime": {
     "end_time": "2018-05-04T08:42:30.042552Z",
     "start_time": "2018-05-04T08:42:24.873376Z"
    },
    "slideshow": {
     "slide_type": "slide"
    }
   },
   "outputs": [
    {
     "name": "stdout",
     "output_type": "stream",
     "text": [
      "This non-commercial license of GraphLab Create for academic use is assigned to wangchengjun@nju.edu.cn and will expire on March 14, 2019.\n"
     ]
    },
    {
     "name": "stderr",
     "output_type": "stream",
     "text": [
      "[INFO] graphlab.cython.cy_server: GraphLab Create v2.1 started. Logging: /tmp/graphlab_server_1525423344.log\n"
     ]
    },
    {
     "data": {
      "text/html": [
       "<pre>Finished parsing file /Users/datalab/bigdata/w15</pre>"
      ],
      "text/plain": [
       "Finished parsing file /Users/datalab/bigdata/w15"
      ]
     },
     "metadata": {},
     "output_type": "display_data"
    },
    {
     "data": {
      "text/html": [
       "<pre>Parsing completed. Parsed 100 lines in 0.693838 secs.</pre>"
      ],
      "text/plain": [
       "Parsing completed. Parsed 100 lines in 0.693838 secs."
      ]
     },
     "metadata": {},
     "output_type": "display_data"
    },
    {
     "name": "stdout",
     "output_type": "stream",
     "text": [
      "------------------------------------------------------\n",
      "Inferred types from first 100 line(s) of file as \n",
      "column_type_hints=[str]\n",
      "If parsing fails due to incorrect types, you can correct\n",
      "the inferred type list above and pass it to read_csv in\n",
      "the column_type_hints argument\n",
      "------------------------------------------------------\n"
     ]
    },
    {
     "data": {
      "text/html": [
       "<pre>Read 12278 lines. Lines per second: 11539.9</pre>"
      ],
      "text/plain": [
       "Read 12278 lines. Lines per second: 11539.9"
      ]
     },
     "metadata": {},
     "output_type": "display_data"
    },
    {
     "data": {
      "text/html": [
       "<pre>Finished parsing file /Users/datalab/bigdata/w15</pre>"
      ],
      "text/plain": [
       "Finished parsing file /Users/datalab/bigdata/w15"
      ]
     },
     "metadata": {},
     "output_type": "display_data"
    },
    {
     "data": {
      "text/html": [
       "<pre>Parsing completed. Parsed 72269 lines in 2.39912 secs.</pre>"
      ],
      "text/plain": [
       "Parsing completed. Parsed 72269 lines in 2.39912 secs."
      ]
     },
     "metadata": {},
     "output_type": "display_data"
    }
   ],
   "source": [
    "sf = graphlab.SFrame.read_csv(\"/Users/datalab/bigdata/w15\", \n",
    "                              header=False)"
   ]
  },
  {
   "cell_type": "code",
   "execution_count": 4,
   "metadata": {
    "ExecuteTime": {
     "end_time": "2018-05-04T08:42:35.726852Z",
     "start_time": "2018-05-04T08:42:35.499708Z"
    },
    "slideshow": {
     "slide_type": "slide"
    }
   },
   "outputs": [
    {
     "data": {
      "text/html": [
       "<div style=\"max-height:1000px;max-width:1500px;overflow:auto;\"><table frame=\"box\" rules=\"cols\">\n",
       "    <tr>\n",
       "        <th style=\"padding-left: 1em; padding-right: 1em; text-align: center\">X1</th>\n",
       "    </tr>\n",
       "    <tr>\n",
       "        <td style=\"padding-left: 1em; padding-right: 1em; text-align: center; vertical-align: top\">aynrand born and educated<br>in russia rand migrated ...</td>\n",
       "    </tr>\n",
       "    <tr>\n",
       "        <td style=\"padding-left: 1em; padding-right: 1em; text-align: center; vertical-align: top\">asphalt in american<br>english asphalt or ...</td>\n",
       "    </tr>\n",
       "    <tr>\n",
       "        <td style=\"padding-left: 1em; padding-right: 1em; text-align: center; vertical-align: top\">actinopterygii the<br>actinopterygii consti ...</td>\n",
       "    </tr>\n",
       "    <tr>\n",
       "        <td style=\"padding-left: 1em; padding-right: 1em; text-align: center; vertical-align: top\">altaiclanguages these<br>language families share ...</td>\n",
       "    </tr>\n",
       "    <tr>\n",
       "        <td style=\"padding-left: 1em; padding-right: 1em; text-align: center; vertical-align: top\">argon the name argon is<br>derived from the greek ...</td>\n",
       "    </tr>\n",
       "    <tr>\n",
       "        <td style=\"padding-left: 1em; padding-right: 1em; text-align: center; vertical-align: top\">augustderleth a 1938<br>guggenheim fellow der ...</td>\n",
       "    </tr>\n",
       "    <tr>\n",
       "        <td style=\"padding-left: 1em; padding-right: 1em; text-align: center; vertical-align: top\">amateur amateurism can be<br>seen in both a negative ...</td>\n",
       "    </tr>\n",
       "    <tr>\n",
       "        <td style=\"padding-left: 1em; padding-right: 1em; text-align: center; vertical-align: top\">assemblyline an assembly<br>line is a manufacturing ...</td>\n",
       "    </tr>\n",
       "    <tr>\n",
       "        <td style=\"padding-left: 1em; padding-right: 1em; text-align: center; vertical-align: top\">astronomicalunit an<br>astronomical unit ...</td>\n",
       "    </tr>\n",
       "    <tr>\n",
       "        <td style=\"padding-left: 1em; padding-right: 1em; text-align: center; vertical-align: top\">abbess an abbess latin<br>abbatissa feminine form ...</td>\n",
       "    </tr>\n",
       "</table>\n",
       "[72269 rows x 1 columns]<br/>Note: Only the head of the SFrame is printed.<br/>You can use print_rows(num_rows=m, num_columns=n) to print more rows and columns.\n",
       "</div>"
      ],
      "text/plain": [
       "Columns:\n",
       "\tX1\tstr\n",
       "\n",
       "Rows: 72269\n",
       "\n",
       "Data:\n",
       "+-------------------------------+\n",
       "|               X1              |\n",
       "+-------------------------------+\n",
       "| aynrand born and educated ... |\n",
       "| asphalt in american englis... |\n",
       "| actinopterygii the actinop... |\n",
       "| altaiclanguages these lang... |\n",
       "| argon the name argon is de... |\n",
       "| augustderleth a 1938 gugge... |\n",
       "| amateur amateurism can be ... |\n",
       "| assemblyline an assembly l... |\n",
       "| astronomicalunit an astron... |\n",
       "| abbess an abbess latin abb... |\n",
       "+-------------------------------+\n",
       "[72269 rows x 1 columns]\n",
       "Note: Only the head of the SFrame is printed.\n",
       "You can use print_rows(num_rows=m, num_columns=n) to print more rows and columns."
      ]
     },
     "execution_count": 4,
     "metadata": {},
     "output_type": "execute_result"
    }
   ],
   "source": [
    "sf"
   ]
  },
  {
   "cell_type": "markdown",
   "metadata": {
    "slideshow": {
     "slide_type": "slide"
    }
   },
   "source": [
    "### Transformations"
   ]
  },
  {
   "cell_type": "markdown",
   "metadata": {
    "slideshow": {
     "slide_type": "fragment"
    }
   },
   "source": [
    "https://dato.com/learn/userguide/text/analysis.html"
   ]
  },
  {
   "cell_type": "code",
   "execution_count": 5,
   "metadata": {
    "ExecuteTime": {
     "end_time": "2018-05-04T08:42:52.827514Z",
     "start_time": "2018-05-04T08:42:52.814226Z"
    },
    "slideshow": {
     "slide_type": "slide"
    }
   },
   "outputs": [
    {
     "data": {
      "text/plain": [
       "['_SArray__check_min_observations',\n",
       " '_SArray__construct_ctr',\n",
       " '__abs__',\n",
       " '__add__',\n",
       " '__and__',\n",
       " '__bool__',\n",
       " '__class__',\n",
       " '__contains__',\n",
       " '__copy__',\n",
       " '__deepcopy__',\n",
       " '__delattr__',\n",
       " '__div__',\n",
       " '__doc__',\n",
       " '__eq__',\n",
       " '__floordiv__',\n",
       " '__format__',\n",
       " '__ge__',\n",
       " '__get_content_identifier__',\n",
       " '__getattribute__',\n",
       " '__getitem__',\n",
       " '__gt__',\n",
       " '__has_size__',\n",
       " '__hash__',\n",
       " '__init__',\n",
       " '__is_materialized__',\n",
       " '__iter__',\n",
       " '__le__',\n",
       " '__len__',\n",
       " '__lt__',\n",
       " '__materialize__',\n",
       " '__mod__',\n",
       " '__module__',\n",
       " '__mul__',\n",
       " '__ne__',\n",
       " '__neg__',\n",
       " '__new__',\n",
       " '__nonzero__',\n",
       " '__or__',\n",
       " '__pos__',\n",
       " '__pow__',\n",
       " '__proxy__',\n",
       " '__radd__',\n",
       " '__rdiv__',\n",
       " '__reduce__',\n",
       " '__reduce_ex__',\n",
       " '__repr__',\n",
       " '__rfloordiv__',\n",
       " '__rmod__',\n",
       " '__rmul__',\n",
       " '__rpow__',\n",
       " '__rsub__',\n",
       " '__rtruediv__',\n",
       " '__setattr__',\n",
       " '__sizeof__',\n",
       " '__slots__',\n",
       " '__str__',\n",
       " '__sub__',\n",
       " '__subclasshook__',\n",
       " '__truediv__',\n",
       " '_count_ngrams',\n",
       " '_count_words',\n",
       " '_getitem_cache',\n",
       " '_save_as_text',\n",
       " 'all',\n",
       " 'any',\n",
       " 'append',\n",
       " 'apply',\n",
       " 'argmax',\n",
       " 'argmin',\n",
       " 'astype',\n",
       " 'clip',\n",
       " 'clip_lower',\n",
       " 'clip_upper',\n",
       " 'contains',\n",
       " 'cumulative_max',\n",
       " 'cumulative_mean',\n",
       " 'cumulative_min',\n",
       " 'cumulative_std',\n",
       " 'cumulative_sum',\n",
       " 'cumulative_var',\n",
       " 'date_range',\n",
       " 'datetime_to_str',\n",
       " 'dict_has_all_keys',\n",
       " 'dict_has_any_keys',\n",
       " 'dict_keys',\n",
       " 'dict_trim_by_keys',\n",
       " 'dict_trim_by_values',\n",
       " 'dict_values',\n",
       " 'dropna',\n",
       " 'dtype',\n",
       " 'fillna',\n",
       " 'filter',\n",
       " 'from_avro',\n",
       " 'from_const',\n",
       " 'from_sequence',\n",
       " 'hash',\n",
       " 'head',\n",
       " 'is_in',\n",
       " 'is_materialized',\n",
       " 'item_length',\n",
       " 'materialize',\n",
       " 'max',\n",
       " 'mean',\n",
       " 'min',\n",
       " 'nnz',\n",
       " 'num_missing',\n",
       " 'pixel_array_to_image',\n",
       " 'random_integers',\n",
       " 'random_split',\n",
       " 'rolling_count',\n",
       " 'rolling_max',\n",
       " 'rolling_mean',\n",
       " 'rolling_min',\n",
       " 'rolling_stdv',\n",
       " 'rolling_sum',\n",
       " 'rolling_var',\n",
       " 'sample',\n",
       " 'save',\n",
       " 'shape',\n",
       " 'show',\n",
       " 'size',\n",
       " 'sketch_summary',\n",
       " 'sort',\n",
       " 'split_datetime',\n",
       " 'std',\n",
       " 'str_to_datetime',\n",
       " 'subslice',\n",
       " 'sum',\n",
       " 'tail',\n",
       " 'to_numpy',\n",
       " 'topk_index',\n",
       " 'unique',\n",
       " 'unpack',\n",
       " 'var',\n",
       " 'vector_slice',\n",
       " 'where']"
      ]
     },
     "execution_count": 5,
     "metadata": {},
     "output_type": "execute_result"
    }
   ],
   "source": [
    "dir(sf['X1'])"
   ]
  },
  {
   "cell_type": "code",
   "execution_count": 6,
   "metadata": {
    "ExecuteTime": {
     "end_time": "2018-05-04T08:43:15.748486Z",
     "start_time": "2018-05-04T08:43:15.740384Z"
    },
    "slideshow": {
     "slide_type": "slide"
    }
   },
   "outputs": [],
   "source": [
    "bow = sf['X1']._count_words()"
   ]
  },
  {
   "cell_type": "code",
   "execution_count": 7,
   "metadata": {
    "ExecuteTime": {
     "end_time": "2018-05-04T08:43:21.527799Z",
     "start_time": "2018-05-04T08:43:21.519159Z"
    },
    "slideshow": {
     "slide_type": "fragment"
    }
   },
   "outputs": [
    {
     "data": {
      "text/plain": [
       "graphlab.data_structures.sarray.SArray"
      ]
     },
     "execution_count": 7,
     "metadata": {},
     "output_type": "execute_result"
    }
   ],
   "source": [
    "type(sf['X1'])"
   ]
  },
  {
   "cell_type": "code",
   "execution_count": 8,
   "metadata": {
    "ExecuteTime": {
     "end_time": "2018-05-04T08:43:25.402826Z",
     "start_time": "2018-05-04T08:43:25.394575Z"
    },
    "slideshow": {
     "slide_type": "fragment"
    }
   },
   "outputs": [
    {
     "data": {
      "text/plain": [
       "graphlab.data_structures.sarray.SArray"
      ]
     },
     "execution_count": 8,
     "metadata": {},
     "output_type": "execute_result"
    }
   ],
   "source": [
    "type(bow)"
   ]
  },
  {
   "cell_type": "code",
   "execution_count": 9,
   "metadata": {
    "ExecuteTime": {
     "end_time": "2018-05-04T08:43:43.573424Z",
     "start_time": "2018-05-04T08:43:43.445248Z"
    },
    "slideshow": {
     "slide_type": "slide"
    }
   },
   "outputs": [
    {
     "data": {
      "text/plain": [
       "dtype: int\n",
       "Rows: 72269\n",
       "[1, 0, 0, 0, 1, 0, 0, 0, 0, 0, 1, 0, 1, 0, 1, 0, 0, 0, 0, 0, 0, 0, 0, 0, 0, 1, 0, 0, 0, 0, 0, 0, 0, 1, 0, 0, 0, 0, 1, 0, 0, 1, 0, 0, 0, 0, 0, 0, 0, 0, 1, 0, 0, 0, 0, 0, 0, 0, 0, 0, 0, 1, 0, 0, 1, 0, 0, 0, 1, 0, 0, 0, 0, 1, 0, 0, 0, 0, 0, 0, 1, 0, 0, 0, 0, 0, 0, 0, 0, 0, 0, 0, 0, 1, 0, 0, 0, 0, 0, 0, ... ]"
      ]
     },
     "execution_count": 9,
     "metadata": {},
     "output_type": "execute_result"
    }
   ],
   "source": [
    "bow.dict_has_any_keys(['limited'])"
   ]
  },
  {
   "cell_type": "code",
   "execution_count": 10,
   "metadata": {
    "ExecuteTime": {
     "end_time": "2018-05-04T08:43:56.742703Z",
     "start_time": "2018-05-04T08:43:55.778504Z"
    },
    "slideshow": {
     "slide_type": "fragment"
    }
   },
   "outputs": [
    {
     "data": {
      "text/plain": [
       "[1, 1, 1, 1, 1, 1, 1, 1, 1, 1, 1, 1, 1, 1, 1, 1, 1, 1, 2, 1]"
      ]
     },
     "execution_count": 10,
     "metadata": {},
     "output_type": "execute_result"
    }
   ],
   "source": [
    "bow.dict_values()[0][:20]"
   ]
  },
  {
   "cell_type": "code",
   "execution_count": 11,
   "metadata": {
    "ExecuteTime": {
     "end_time": "2018-05-04T08:44:16.868467Z",
     "start_time": "2018-05-04T08:44:16.650276Z"
    }
   },
   "outputs": [
    {
     "data": {
      "text/html": [
       "<div style=\"max-height:1000px;max-width:1500px;overflow:auto;\"><table frame=\"box\" rules=\"cols\">\n",
       "    <tr>\n",
       "        <th style=\"padding-left: 1em; padding-right: 1em; text-align: center\">X1</th>\n",
       "    </tr>\n",
       "    <tr>\n",
       "        <td style=\"padding-left: 1em; padding-right: 1em; text-align: center; vertical-align: top\">aynrand born and educated<br>in russia rand migrated ...</td>\n",
       "    </tr>\n",
       "    <tr>\n",
       "        <td style=\"padding-left: 1em; padding-right: 1em; text-align: center; vertical-align: top\">asphalt in american<br>english asphalt or ...</td>\n",
       "    </tr>\n",
       "    <tr>\n",
       "        <td style=\"padding-left: 1em; padding-right: 1em; text-align: center; vertical-align: top\">actinopterygii the<br>actinopterygii consti ...</td>\n",
       "    </tr>\n",
       "    <tr>\n",
       "        <td style=\"padding-left: 1em; padding-right: 1em; text-align: center; vertical-align: top\">altaiclanguages these<br>language families share ...</td>\n",
       "    </tr>\n",
       "    <tr>\n",
       "        <td style=\"padding-left: 1em; padding-right: 1em; text-align: center; vertical-align: top\">argon the name argon is<br>derived from the greek ...</td>\n",
       "    </tr>\n",
       "    <tr>\n",
       "        <td style=\"padding-left: 1em; padding-right: 1em; text-align: center; vertical-align: top\">augustderleth a 1938<br>guggenheim fellow der ...</td>\n",
       "    </tr>\n",
       "    <tr>\n",
       "        <td style=\"padding-left: 1em; padding-right: 1em; text-align: center; vertical-align: top\">amateur amateurism can be<br>seen in both a negative ...</td>\n",
       "    </tr>\n",
       "    <tr>\n",
       "        <td style=\"padding-left: 1em; padding-right: 1em; text-align: center; vertical-align: top\">assemblyline an assembly<br>line is a manufacturing ...</td>\n",
       "    </tr>\n",
       "    <tr>\n",
       "        <td style=\"padding-left: 1em; padding-right: 1em; text-align: center; vertical-align: top\">astronomicalunit an<br>astronomical unit ...</td>\n",
       "    </tr>\n",
       "    <tr>\n",
       "        <td style=\"padding-left: 1em; padding-right: 1em; text-align: center; vertical-align: top\">abbess an abbess latin<br>abbatissa feminine form ...</td>\n",
       "    </tr>\n",
       "</table>\n",
       "[72269 rows x 1 columns]<br/>Note: Only the head of the SFrame is printed.<br/>You can use print_rows(num_rows=m, num_columns=n) to print more rows and columns.\n",
       "</div>"
      ],
      "text/plain": [
       "Columns:\n",
       "\tX1\tstr\n",
       "\n",
       "Rows: 72269\n",
       "\n",
       "Data:\n",
       "+-------------------------------+\n",
       "|               X1              |\n",
       "+-------------------------------+\n",
       "| aynrand born and educated ... |\n",
       "| asphalt in american englis... |\n",
       "| actinopterygii the actinop... |\n",
       "| altaiclanguages these lang... |\n",
       "| argon the name argon is de... |\n",
       "| augustderleth a 1938 gugge... |\n",
       "| amateur amateurism can be ... |\n",
       "| assemblyline an assembly l... |\n",
       "| astronomicalunit an astron... |\n",
       "| abbess an abbess latin abb... |\n",
       "+-------------------------------+\n",
       "[72269 rows x 1 columns]\n",
       "Note: Only the head of the SFrame is printed.\n",
       "You can use print_rows(num_rows=m, num_columns=n) to print more rows and columns."
      ]
     },
     "execution_count": 11,
     "metadata": {},
     "output_type": "execute_result"
    }
   ],
   "source": [
    "sf"
   ]
  },
  {
   "cell_type": "code",
   "execution_count": 12,
   "metadata": {
    "ExecuteTime": {
     "end_time": "2018-05-04T08:44:22.431203Z",
     "start_time": "2018-05-04T08:44:22.426433Z"
    },
    "slideshow": {
     "slide_type": "fragment"
    }
   },
   "outputs": [],
   "source": [
    "sf['bow'] = bow"
   ]
  },
  {
   "cell_type": "code",
   "execution_count": 13,
   "metadata": {
    "ExecuteTime": {
     "end_time": "2018-05-04T08:44:29.931029Z",
     "start_time": "2018-05-04T08:44:29.384760Z"
    }
   },
   "outputs": [
    {
     "data": {
      "text/html": [
       "<div style=\"max-height:1000px;max-width:1500px;overflow:auto;\"><table frame=\"box\" rules=\"cols\">\n",
       "    <tr>\n",
       "        <th style=\"padding-left: 1em; padding-right: 1em; text-align: center\">X1</th>\n",
       "        <th style=\"padding-left: 1em; padding-right: 1em; text-align: center\">bow</th>\n",
       "    </tr>\n",
       "    <tr>\n",
       "        <td style=\"padding-left: 1em; padding-right: 1em; text-align: center; vertical-align: top\">aynrand born and educated<br>in russia rand migrated ...</td>\n",
       "        <td style=\"padding-left: 1em; padding-right: 1em; text-align: center; vertical-align: top\">{'limited': 3,<br>'writings': 2, ...</td>\n",
       "    </tr>\n",
       "    <tr>\n",
       "        <td style=\"padding-left: 1em; padding-right: 1em; text-align: center; vertical-align: top\">asphalt in american<br>english asphalt or ...</td>\n",
       "        <td style=\"padding-left: 1em; padding-right: 1em; text-align: center; vertical-align: top\">{'all': 1, 'accadian': 1,<br>'similarity': 1, ...</td>\n",
       "    </tr>\n",
       "    <tr>\n",
       "        <td style=\"padding-left: 1em; padding-right: 1em; text-align: center; vertical-align: top\">actinopterygii the<br>actinopterygii consti ...</td>\n",
       "        <td style=\"padding-left: 1em; padding-right: 1em; text-align: center; vertical-align: top\">{'andreolepis': 1, 'all':<br>1, 'evolutionary': 2, ...</td>\n",
       "    </tr>\n",
       "    <tr>\n",
       "        <td style=\"padding-left: 1em; padding-right: 1em; text-align: center; vertical-align: top\">altaiclanguages these<br>language families share ...</td>\n",
       "        <td style=\"padding-left: 1em; padding-right: 1em; text-align: center; vertical-align: top\">{'sergei': 3, 'all': 6,<br>'todays': 1, 'chinese': ...</td>\n",
       "    </tr>\n",
       "    <tr>\n",
       "        <td style=\"padding-left: 1em; padding-right: 1em; text-align: center; vertical-align: top\">argon the name argon is<br>derived from the greek ...</td>\n",
       "        <td style=\"padding-left: 1em; padding-right: 1em; text-align: center; vertical-align: top\">{'limited': 1,<br>'embolism': 1, ...</td>\n",
       "    </tr>\n",
       "    <tr>\n",
       "        <td style=\"padding-left: 1em; padding-right: 1em; text-align: center; vertical-align: top\">augustderleth a 1938<br>guggenheim fellow der ...</td>\n",
       "        <td style=\"padding-left: 1em; padding-right: 1em; text-align: center; vertical-align: top\">{'evelyn': 1,<br>'detective': 4, ...</td>\n",
       "    </tr>\n",
       "    <tr>\n",
       "        <td style=\"padding-left: 1em; padding-right: 1em; text-align: center; vertical-align: top\">amateur amateurism can be<br>seen in both a negative ...</td>\n",
       "        <td style=\"padding-left: 1em; padding-right: 1em; text-align: center; vertical-align: top\">{'since': 1, 'subpar': 1,<br>'lack': 2, 'valuable' ...</td>\n",
       "    </tr>\n",
       "    <tr>\n",
       "        <td style=\"padding-left: 1em; padding-right: 1em; text-align: center; vertical-align: top\">assemblyline an assembly<br>line is a manufacturing ...</td>\n",
       "        <td style=\"padding-left: 1em; padding-right: 1em; text-align: center; vertical-align: top\">{'all': 3, 'concept': 6,<br>'consider': 1, 'chine ...</td>\n",
       "    </tr>\n",
       "    <tr>\n",
       "        <td style=\"padding-left: 1em; padding-right: 1em; text-align: center; vertical-align: top\">astronomicalunit an<br>astronomical unit ...</td>\n",
       "        <td style=\"padding-left: 1em; padding-right: 1em; text-align: center; vertical-align: top\">{'precise': 1, 'all': 2,<br>'chinese': 1, 'suns': 1, ...</td>\n",
       "    </tr>\n",
       "    <tr>\n",
       "        <td style=\"padding-left: 1em; padding-right: 1em; text-align: center; vertical-align: top\">abbess an abbess latin<br>abbatissa feminine form ...</td>\n",
       "        <td style=\"padding-left: 1em; padding-right: 1em; text-align: center; vertical-align: top\">{'kildares': 1, 'they':<br>4, 'founder': 1, ...</td>\n",
       "    </tr>\n",
       "</table>\n",
       "[72269 rows x 2 columns]<br/>Note: Only the head of the SFrame is printed.<br/>You can use print_rows(num_rows=m, num_columns=n) to print more rows and columns.\n",
       "</div>"
      ],
      "text/plain": [
       "Columns:\n",
       "\tX1\tstr\n",
       "\tbow\tdict\n",
       "\n",
       "Rows: 72269\n",
       "\n",
       "Data:\n",
       "+-------------------------------+-------------------------------+\n",
       "|               X1              |              bow              |\n",
       "+-------------------------------+-------------------------------+\n",
       "| aynrand born and educated ... | {'limited': 3, 'writings':... |\n",
       "| asphalt in american englis... | {'all': 1, 'accadian': 1, ... |\n",
       "| actinopterygii the actinop... | {'andreolepis': 1, 'all': ... |\n",
       "| altaiclanguages these lang... | {'sergei': 3, 'all': 6, 't... |\n",
       "| argon the name argon is de... | {'limited': 1, 'embolism':... |\n",
       "| augustderleth a 1938 gugge... | {'evelyn': 1, 'detective':... |\n",
       "| amateur amateurism can be ... | {'since': 1, 'subpar': 1, ... |\n",
       "| assemblyline an assembly l... | {'all': 3, 'concept': 6, '... |\n",
       "| astronomicalunit an astron... | {'precise': 1, 'all': 2, '... |\n",
       "| abbess an abbess latin abb... | {'kildares': 1, 'they': 4,... |\n",
       "+-------------------------------+-------------------------------+\n",
       "[72269 rows x 2 columns]\n",
       "Note: Only the head of the SFrame is printed.\n",
       "You can use print_rows(num_rows=m, num_columns=n) to print more rows and columns."
      ]
     },
     "execution_count": 13,
     "metadata": {},
     "output_type": "execute_result"
    }
   ],
   "source": [
    "sf"
   ]
  },
  {
   "cell_type": "code",
   "execution_count": 14,
   "metadata": {
    "ExecuteTime": {
     "end_time": "2018-05-04T08:44:45.298227Z",
     "start_time": "2018-05-04T08:44:45.289508Z"
    },
    "slideshow": {
     "slide_type": "subslide"
    }
   },
   "outputs": [
    {
     "data": {
      "text/plain": [
       "graphlab.data_structures.sarray.SArray"
      ]
     },
     "execution_count": 14,
     "metadata": {},
     "output_type": "execute_result"
    }
   ],
   "source": [
    "type(sf['bow'])"
   ]
  },
  {
   "cell_type": "code",
   "execution_count": 15,
   "metadata": {
    "ExecuteTime": {
     "end_time": "2018-05-04T08:44:49.234552Z",
     "start_time": "2018-05-04T08:44:49.225684Z"
    },
    "slideshow": {
     "slide_type": "fragment"
    }
   },
   "outputs": [
    {
     "data": {
      "text/plain": [
       "72269"
      ]
     },
     "execution_count": 15,
     "metadata": {},
     "output_type": "execute_result"
    }
   ],
   "source": [
    "len(sf['bow'])"
   ]
  },
  {
   "cell_type": "code",
   "execution_count": 16,
   "metadata": {
    "ExecuteTime": {
     "end_time": "2018-05-04T08:44:56.214591Z",
     "start_time": "2018-05-04T08:44:54.017227Z"
    },
    "slideshow": {
     "slide_type": "fragment"
    }
   },
   "outputs": [
    {
     "data": {
      "text/plain": [
       "[('limited', 3),\n",
       " ('writings', 2),\n",
       " ('personally', 1),\n",
       " ('four', 1),\n",
       " ('controversial', 1)]"
      ]
     },
     "execution_count": 16,
     "metadata": {},
     "output_type": "execute_result"
    }
   ],
   "source": [
    "sf['bow'][0].items()[:5]"
   ]
  },
  {
   "cell_type": "code",
   "execution_count": 17,
   "metadata": {
    "ExecuteTime": {
     "end_time": "2018-05-04T08:45:39.675195Z",
     "start_time": "2018-05-04T08:45:20.689248Z"
    },
    "slideshow": {
     "slide_type": "slide"
    }
   },
   "outputs": [],
   "source": [
    "sf['tfidf'] = graphlab.text_analytics.tf_idf(sf['X1'])"
   ]
  },
  {
   "cell_type": "code",
   "execution_count": 18,
   "metadata": {
    "ExecuteTime": {
     "end_time": "2018-05-04T08:45:42.434804Z",
     "start_time": "2018-05-04T08:45:41.204255Z"
    },
    "slideshow": {
     "slide_type": "subslide"
    }
   },
   "outputs": [
    {
     "data": {
      "text/html": [
       "<div style=\"max-height:1000px;max-width:1500px;overflow:auto;\"><table frame=\"box\" rules=\"cols\">\n",
       "    <tr>\n",
       "        <th style=\"padding-left: 1em; padding-right: 1em; text-align: center\">X1</th>\n",
       "        <th style=\"padding-left: 1em; padding-right: 1em; text-align: center\">bow</th>\n",
       "        <th style=\"padding-left: 1em; padding-right: 1em; text-align: center\">tfidf</th>\n",
       "    </tr>\n",
       "    <tr>\n",
       "        <td style=\"padding-left: 1em; padding-right: 1em; text-align: center; vertical-align: top\">aynrand born and educated<br>in russia rand migrated ...</td>\n",
       "        <td style=\"padding-left: 1em; padding-right: 1em; text-align: center; vertical-align: top\">{'limited': 3,<br>'writings': 2, ...</td>\n",
       "        <td style=\"padding-left: 1em; padding-right: 1em; text-align: center; vertical-align: top\">{'limited':<br>10.04705669672047, ...</td>\n",
       "    </tr>\n",
       "    <tr>\n",
       "        <td style=\"padding-left: 1em; padding-right: 1em; text-align: center; vertical-align: top\">asphalt in american<br>english asphalt or ...</td>\n",
       "        <td style=\"padding-left: 1em; padding-right: 1em; text-align: center; vertical-align: top\">{'all': 1, 'accadian': 1,<br>'similarity': 1, ...</td>\n",
       "        <td style=\"padding-left: 1em; padding-right: 1em; text-align: center; vertical-align: top\">{'all':<br>1.3891905239989626, ...</td>\n",
       "    </tr>\n",
       "    <tr>\n",
       "        <td style=\"padding-left: 1em; padding-right: 1em; text-align: center; vertical-align: top\">actinopterygii the<br>actinopterygii consti ...</td>\n",
       "        <td style=\"padding-left: 1em; padding-right: 1em; text-align: center; vertical-align: top\">{'andreolepis': 1, 'all':<br>1, 'evolutionary': 2, ...</td>\n",
       "        <td style=\"padding-left: 1em; padding-right: 1em; text-align: center; vertical-align: top\">{'andreolepis':<br>11.188150547181156, ...</td>\n",
       "    </tr>\n",
       "    <tr>\n",
       "        <td style=\"padding-left: 1em; padding-right: 1em; text-align: center; vertical-align: top\">altaiclanguages these<br>language families share ...</td>\n",
       "        <td style=\"padding-left: 1em; padding-right: 1em; text-align: center; vertical-align: top\">{'sergei': 3, 'all': 6,<br>'todays': 1, 'chinese': ...</td>\n",
       "        <td style=\"padding-left: 1em; padding-right: 1em; text-align: center; vertical-align: top\">{'sergei':<br>20.031873121992916, ...</td>\n",
       "    </tr>\n",
       "    <tr>\n",
       "        <td style=\"padding-left: 1em; padding-right: 1em; text-align: center; vertical-align: top\">argon the name argon is<br>derived from the greek ...</td>\n",
       "        <td style=\"padding-left: 1em; padding-right: 1em; text-align: center; vertical-align: top\">{'limited': 1,<br>'embolism': 1, ...</td>\n",
       "        <td style=\"padding-left: 1em; padding-right: 1em; text-align: center; vertical-align: top\">{'limited':<br>3.3490188989068232, ...</td>\n",
       "    </tr>\n",
       "    <tr>\n",
       "        <td style=\"padding-left: 1em; padding-right: 1em; text-align: center; vertical-align: top\">augustderleth a 1938<br>guggenheim fellow der ...</td>\n",
       "        <td style=\"padding-left: 1em; padding-right: 1em; text-align: center; vertical-align: top\">{'evelyn': 1,<br>'detective': 4, ...</td>\n",
       "        <td style=\"padding-left: 1em; padding-right: 1em; text-align: center; vertical-align: top\">{'evelyn':<br>6.7937013925087175, ...</td>\n",
       "    </tr>\n",
       "    <tr>\n",
       "        <td style=\"padding-left: 1em; padding-right: 1em; text-align: center; vertical-align: top\">amateur amateurism can be<br>seen in both a negative ...</td>\n",
       "        <td style=\"padding-left: 1em; padding-right: 1em; text-align: center; vertical-align: top\">{'since': 1, 'subpar': 1,<br>'lack': 2, 'valuable' ...</td>\n",
       "        <td style=\"padding-left: 1em; padding-right: 1em; text-align: center; vertical-align: top\">{'since':<br>1.8775124538896095, ...</td>\n",
       "    </tr>\n",
       "    <tr>\n",
       "        <td style=\"padding-left: 1em; padding-right: 1em; text-align: center; vertical-align: top\">assemblyline an assembly<br>line is a manufacturing ...</td>\n",
       "        <td style=\"padding-left: 1em; padding-right: 1em; text-align: center; vertical-align: top\">{'all': 3, 'concept': 6,<br>'consider': 1, 'chine ...</td>\n",
       "        <td style=\"padding-left: 1em; padding-right: 1em; text-align: center; vertical-align: top\">{'all':<br>4.167571571996888, ...</td>\n",
       "    </tr>\n",
       "    <tr>\n",
       "        <td style=\"padding-left: 1em; padding-right: 1em; text-align: center; vertical-align: top\">astronomicalunit an<br>astronomical unit ...</td>\n",
       "        <td style=\"padding-left: 1em; padding-right: 1em; text-align: center; vertical-align: top\">{'precise': 1, 'all': 2,<br>'chinese': 1, 'suns': 1, ...</td>\n",
       "        <td style=\"padding-left: 1em; padding-right: 1em; text-align: center; vertical-align: top\">{'precise':<br>5.491057060675752, 'a ...</td>\n",
       "    </tr>\n",
       "    <tr>\n",
       "        <td style=\"padding-left: 1em; padding-right: 1em; text-align: center; vertical-align: top\">abbess an abbess latin<br>abbatissa feminine form ...</td>\n",
       "        <td style=\"padding-left: 1em; padding-right: 1em; text-align: center; vertical-align: top\">{'kildares': 1, 'they':<br>4, 'founder': 1, ...</td>\n",
       "        <td style=\"padding-left: 1em; padding-right: 1em; text-align: center; vertical-align: top\">{'kildares':<br>11.188150547181156, ...</td>\n",
       "    </tr>\n",
       "</table>\n",
       "[72269 rows x 3 columns]<br/>Note: Only the head of the SFrame is printed.<br/>You can use print_rows(num_rows=m, num_columns=n) to print more rows and columns.\n",
       "</div>"
      ],
      "text/plain": [
       "Columns:\n",
       "\tX1\tstr\n",
       "\tbow\tdict\n",
       "\ttfidf\tdict\n",
       "\n",
       "Rows: 72269\n",
       "\n",
       "Data:\n",
       "+-------------------------------+-------------------------------+\n",
       "|               X1              |              bow              |\n",
       "+-------------------------------+-------------------------------+\n",
       "| aynrand born and educated ... | {'limited': 3, 'writings':... |\n",
       "| asphalt in american englis... | {'all': 1, 'accadian': 1, ... |\n",
       "| actinopterygii the actinop... | {'andreolepis': 1, 'all': ... |\n",
       "| altaiclanguages these lang... | {'sergei': 3, 'all': 6, 't... |\n",
       "| argon the name argon is de... | {'limited': 1, 'embolism':... |\n",
       "| augustderleth a 1938 gugge... | {'evelyn': 1, 'detective':... |\n",
       "| amateur amateurism can be ... | {'since': 1, 'subpar': 1, ... |\n",
       "| assemblyline an assembly l... | {'all': 3, 'concept': 6, '... |\n",
       "| astronomicalunit an astron... | {'precise': 1, 'all': 2, '... |\n",
       "| abbess an abbess latin abb... | {'kildares': 1, 'they': 4,... |\n",
       "+-------------------------------+-------------------------------+\n",
       "+-------------------------------+\n",
       "|             tfidf             |\n",
       "+-------------------------------+\n",
       "| {'limited': 10.04705669672... |\n",
       "| {'all': 1.3891905239989626... |\n",
       "| {'andreolepis': 11.1881505... |\n",
       "| {'sergei': 20.031873121992... |\n",
       "| {'limited': 3.349018898906... |\n",
       "| {'evelyn': 6.7937013925087... |\n",
       "| {'since': 1.87751245388960... |\n",
       "| {'all': 4.167571571996888,... |\n",
       "| {'precise': 5.491057060675... |\n",
       "| {'kildares': 11.1881505471... |\n",
       "+-------------------------------+\n",
       "[72269 rows x 3 columns]\n",
       "Note: Only the head of the SFrame is printed.\n",
       "You can use print_rows(num_rows=m, num_columns=n) to print more rows and columns."
      ]
     },
     "execution_count": 18,
     "metadata": {},
     "output_type": "execute_result"
    }
   ],
   "source": [
    "sf"
   ]
  },
  {
   "cell_type": "code",
   "execution_count": 19,
   "metadata": {
    "ExecuteTime": {
     "end_time": "2018-05-04T08:46:07.898085Z",
     "start_time": "2018-05-04T08:46:05.232116Z"
    },
    "slideshow": {
     "slide_type": "fragment"
    }
   },
   "outputs": [
    {
     "data": {
      "text/plain": [
       "[('limited', 10.04705669672047),\n",
       " ('writings', 9.76010421134325),\n",
       " ('personally', 5.001941923280662),\n",
       " ('four', 2.1272386886969024),\n",
       " ('controversial', 4.375805453003677)]"
      ]
     },
     "execution_count": 19,
     "metadata": {},
     "output_type": "execute_result"
    }
   ],
   "source": [
    "sf['tfidf'][0].items()[:5]"
   ]
  },
  {
   "cell_type": "markdown",
   "metadata": {
    "slideshow": {
     "slide_type": "slide"
    }
   },
   "source": [
    "### Text cleaning"
   ]
  },
  {
   "cell_type": "code",
   "execution_count": 20,
   "metadata": {
    "ExecuteTime": {
     "end_time": "2018-05-04T08:46:51.687724Z",
     "start_time": "2018-05-04T08:46:51.680713Z"
    },
    "slideshow": {
     "slide_type": "slide"
    }
   },
   "outputs": [],
   "source": [
    "docs = sf['bow'].dict_trim_by_values(2)"
   ]
  },
  {
   "cell_type": "code",
   "execution_count": 21,
   "metadata": {
    "ExecuteTime": {
     "end_time": "2018-05-04T08:46:58.475088Z",
     "start_time": "2018-05-04T08:46:58.463930Z"
    },
    "slideshow": {
     "slide_type": "fragment"
    }
   },
   "outputs": [],
   "source": [
    "docs = docs.dict_trim_by_keys(\n",
    "    graphlab.text_analytics.stopwords(),\n",
    "    exclude=True)"
   ]
  },
  {
   "cell_type": "markdown",
   "metadata": {
    "slideshow": {
     "slide_type": "slide"
    }
   },
   "source": [
    "# Topic modeling"
   ]
  },
  {
   "cell_type": "code",
   "execution_count": 27,
   "metadata": {
    "ExecuteTime": {
     "end_time": "2018-05-04T08:55:53.212798Z",
     "start_time": "2018-05-04T08:55:53.206647Z"
    },
    "slideshow": {
     "slide_type": "subslide"
    }
   },
   "outputs": [
    {
     "name": "stdout",
     "output_type": "stream",
     "text": [
      "Help on function create in module graphlab.toolkits.topic_model.topic_model:\n",
      "\n",
      "create(dataset, num_topics=10, initial_topics=None, alpha=None, beta=0.1, num_iterations=10, num_burnin=5, associations=None, verbose=False, print_interval=10, validation_set=None, method='auto')\n",
      "    Create a topic model from the given data set. A topic model assumes each\n",
      "    document is a mixture of a set of topics, where for each topic some words\n",
      "    are more likely than others. One statistical approach to do this is called a\n",
      "    \"topic model\". This method learns a topic model for the given document\n",
      "    collection.\n",
      "    \n",
      "    Parameters\n",
      "    ----------\n",
      "    dataset : SArray of type dict or SFrame with a single column of type dict\n",
      "        A bag of words representation of a document corpus.\n",
      "        Each element is a dictionary representing a single document, where\n",
      "        the keys are words and the values are the number of times that word\n",
      "        occurs in that document.\n",
      "    \n",
      "    num_topics : int, optional\n",
      "        The number of topics to learn.\n",
      "    \n",
      "    initial_topics : SFrame, optional\n",
      "        An SFrame with a column of unique words representing the vocabulary\n",
      "        and a column of dense vectors representing\n",
      "        probability of that word given each topic. When provided,\n",
      "        these values are used to initialize the algorithm.\n",
      "    \n",
      "    alpha : float, optional\n",
      "        Hyperparameter that controls the diversity of topics in a document.\n",
      "        Smaller values encourage fewer topics per document.\n",
      "        Provided value must be positive. Default value is 50/num_topics.\n",
      "    \n",
      "    beta : float, optional\n",
      "        Hyperparameter that controls the diversity of words in a topic.\n",
      "        Smaller values encourage fewer words per topic. Provided value\n",
      "        must be positive.\n",
      "    \n",
      "    num_iterations : int, optional\n",
      "        The number of iterations to perform.\n",
      "    \n",
      "    num_burnin : int, optional\n",
      "        The number of iterations to perform when inferring the topics for\n",
      "        documents at prediction time.\n",
      "    \n",
      "    verbose : bool, optional\n",
      "        When True, print most probable words for each topic while printing\n",
      "        progress.\n",
      "    \n",
      "    print_interval : int, optional\n",
      "        The number of iterations to wait between progress reports.\n",
      "    \n",
      "    associations : SFrame, optional\n",
      "        An SFrame with two columns named \"word\" and \"topic\" containing words\n",
      "        and the topic id that the word should be associated with. These words\n",
      "        are not considered during learning.\n",
      "    \n",
      "    validation_set : SArray of type dict or SFrame with a single column\n",
      "        A bag of words representation of a document corpus, similar to the\n",
      "        format required for `dataset`. This will be used to monitor model\n",
      "        performance during training. Each document in the provided validation\n",
      "        set is randomly split: the first portion is used estimate which topic\n",
      "        each document belongs to, and the second portion is used to estimate\n",
      "        the model's performance at predicting the unseen words in the test data.\n",
      "    \n",
      "    method : {'cgs', 'alias'}, optional\n",
      "        The algorithm used for learning the model.\n",
      "    \n",
      "        - *cgs:* Collapsed Gibbs sampling\n",
      "        - *alias:* AliasLDA method.\n",
      "    \n",
      "    Returns\n",
      "    -------\n",
      "    out : TopicModel\n",
      "        A fitted topic model. This can be used with\n",
      "        :py:func:`~TopicModel.get_topics()` and\n",
      "        :py:func:`~TopicModel.predict()`. While fitting is in progress, several\n",
      "        metrics are shown, including:\n",
      "    \n",
      "        +------------------+---------------------------------------------------+\n",
      "        |      Field       | Description                                       |\n",
      "        +==================+===================================================+\n",
      "        | Elapsed Time     | The number of elapsed seconds.                    |\n",
      "        +------------------+---------------------------------------------------+\n",
      "        | Tokens/second    | The number of unique words processed per second   |\n",
      "        +------------------+---------------------------------------------------+\n",
      "        | Est. Perplexity  | An estimate of the model's ability to model the   |\n",
      "        |                  | training data. See the documentation on evaluate. |\n",
      "        +------------------+---------------------------------------------------+\n",
      "    \n",
      "    See Also\n",
      "    --------\n",
      "    TopicModel, TopicModel.get_topics, TopicModel.predict,\n",
      "    graphlab.SArray.dict_trim_by_keys, TopicModel.evaluate\n",
      "    \n",
      "    References\n",
      "    ----------\n",
      "    - `Wikipedia - Latent Dirichlet allocation\n",
      "      <http://en.wikipedia.org/wiki/Latent_Dirichlet_allocation>`_\n",
      "    \n",
      "    - Alias method: Li, A. et al. (2014) `Reducing the Sampling Complexity of\n",
      "      Topic Models. <http://www.sravi.org/pubs/fastlda-kdd2014.pdf>`_.\n",
      "      KDD 2014.\n",
      "    \n",
      "    Examples\n",
      "    --------\n",
      "    The following example includes an SArray of documents, where\n",
      "    each element represents a document in \"bag of words\" representation\n",
      "    -- a dictionary with word keys and whose values are the number of times\n",
      "    that word occurred in the document:\n",
      "    \n",
      "    >>> docs = graphlab.SArray('https://static.turi.com/datasets/nytimes')\n",
      "    \n",
      "    Once in this form, it is straightforward to learn a topic model.\n",
      "    \n",
      "    >>> m = graphlab.topic_model.create(docs)\n",
      "    \n",
      "    It is also easy to create a new topic model from an old one  -- whether\n",
      "    it was created using GraphLab Create or another package.\n",
      "    \n",
      "    >>> m2 = graphlab.topic_model.create(docs, initial_topics=m['topics'])\n",
      "    \n",
      "    To manually fix several words to always be assigned to a topic, use\n",
      "    the `associations` argument. The following will ensure that topic 0\n",
      "    has the most probability for each of the provided words:\n",
      "    \n",
      "    >>> from graphlab import SFrame\n",
      "    >>> associations = SFrame({'word':['hurricane', 'wind', 'storm'],\n",
      "                               'topic': [0, 0, 0]})\n",
      "    >>> m = graphlab.topic_model.create(docs,\n",
      "                                        associations=associations)\n",
      "    \n",
      "    More advanced usage allows you  to control aspects of the model and the\n",
      "    learning method.\n",
      "    \n",
      "    >>> import graphlab as gl\n",
      "    >>> m = gl.topic_model.create(docs,\n",
      "                                  num_topics=20,       # number of topics\n",
      "                                  num_iterations=10,   # algorithm parameters\n",
      "                                  alpha=.01, beta=.1)  # hyperparameters\n",
      "    \n",
      "    To evaluate the model's ability to generalize, we can create a train/test\n",
      "    split where a portion of the words in each document are held out from\n",
      "    training.\n",
      "    \n",
      "    >>> train, test = gl.text_analytics.random_split(.8)\n",
      "    >>> m = gl.topic_model.create(train)\n",
      "    >>> results = m.evaluate(test)\n",
      "    >>> print results['perplexity']\n",
      "\n"
     ]
    }
   ],
   "source": [
    "help(graphlab.topic_model.create)"
   ]
  },
  {
   "cell_type": "code",
   "execution_count": 29,
   "metadata": {
    "ExecuteTime": {
     "end_time": "2018-05-04T09:01:58.528966Z",
     "start_time": "2018-05-04T09:01:58.523993Z"
    },
    "slideshow": {
     "slide_type": "subslide"
    }
   },
   "outputs": [
    {
     "name": "stdout",
     "output_type": "stream",
     "text": [
      "Help on function random_split in module graphlab.toolkits.text_analytics._util:\n",
      "\n",
      "random_split(dataset, prob=0.5)\n",
      "    Utility for performing a random split for text data that is already in\n",
      "    bag-of-words format. For each (word, count) pair in a particular element,\n",
      "    the counts are uniformly partitioned in either a training set or a test\n",
      "    set.\n",
      "    \n",
      "    Parameters\n",
      "    ----------\n",
      "    dataset : SArray of type dict, SFrame with columns of type dict\n",
      "        A data set in bag-of-words format.\n",
      "    \n",
      "    prob : float, optional\n",
      "        Probability for sampling a word to be placed in the test set.\n",
      "    \n",
      "    Returns\n",
      "    -------\n",
      "    train, test : SArray\n",
      "        Two data sets in bag-of-words format, where the combined counts are\n",
      "        equal to the counts in the original data set.\n",
      "    \n",
      "    Examples\n",
      "    --------\n",
      "    >>> docs = graphlab.SArray([{'are':5, 'you':3, 'not': 1, 'entertained':10}])\n",
      "    >>> train, test = graphlab.text_analytics.random_split(docs)\n",
      "    >>> print train\n",
      "    [{'not': 1.0, 'you': 3.0, 'are': 3.0, 'entertained': 7.0}]\n",
      "    >>> print test\n",
      "    [{'are': 2.0, 'entertained': 3.0}]\n",
      "\n"
     ]
    }
   ],
   "source": [
    "help(graphlab.text_analytics.random_split)"
   ]
  },
  {
   "cell_type": "code",
   "execution_count": 31,
   "metadata": {
    "ExecuteTime": {
     "end_time": "2018-05-04T09:02:33.074988Z",
     "start_time": "2018-05-04T09:02:28.730163Z"
    },
    "slideshow": {
     "slide_type": "subslide"
    }
   },
   "outputs": [],
   "source": [
    "train, test = graphlab.text_analytics.random_split(docs, .8)"
   ]
  },
  {
   "cell_type": "code",
   "execution_count": 33,
   "metadata": {
    "ExecuteTime": {
     "end_time": "2018-05-04T09:04:39.954208Z",
     "start_time": "2018-05-04T09:04:20.155690Z"
    },
    "slideshow": {
     "slide_type": "slide"
    }
   },
   "outputs": [
    {
     "data": {
      "text/html": [
       "<pre>Learning a topic model</pre>"
      ],
      "text/plain": [
       "Learning a topic model"
      ]
     },
     "metadata": {},
     "output_type": "display_data"
    },
    {
     "data": {
      "text/html": [
       "<pre>       Number of documents     72269</pre>"
      ],
      "text/plain": [
       "       Number of documents     72269"
      ]
     },
     "metadata": {},
     "output_type": "display_data"
    },
    {
     "data": {
      "text/html": [
       "<pre>           Vocabulary size    107782</pre>"
      ],
      "text/plain": [
       "           Vocabulary size    107782"
      ]
     },
     "metadata": {},
     "output_type": "display_data"
    },
    {
     "data": {
      "text/html": [
       "<pre>   Running collapsed Gibbs sampling</pre>"
      ],
      "text/plain": [
       "   Running collapsed Gibbs sampling"
      ]
     },
     "metadata": {},
     "output_type": "display_data"
    },
    {
     "data": {
      "text/html": [
       "<pre>+-----------+---------------+----------------+-----------------+</pre>"
      ],
      "text/plain": [
       "+-----------+---------------+----------------+-----------------+"
      ]
     },
     "metadata": {},
     "output_type": "display_data"
    },
    {
     "data": {
      "text/html": [
       "<pre>| Iteration | Elapsed Time  | Tokens/Second  | Est. Perplexity |</pre>"
      ],
      "text/plain": [
       "| Iteration | Elapsed Time  | Tokens/Second  | Est. Perplexity |"
      ]
     },
     "metadata": {},
     "output_type": "display_data"
    },
    {
     "data": {
      "text/html": [
       "<pre>+-----------+---------------+----------------+-----------------+</pre>"
      ],
      "text/plain": [
       "+-----------+---------------+----------------+-----------------+"
      ]
     },
     "metadata": {},
     "output_type": "display_data"
    },
    {
     "data": {
      "text/html": [
       "<pre>| 10        | 2.03s         | 5.015e+06      | 0               |</pre>"
      ],
      "text/plain": [
       "| 10        | 2.03s         | 5.015e+06      | 0               |"
      ]
     },
     "metadata": {},
     "output_type": "display_data"
    },
    {
     "data": {
      "text/html": [
       "<pre>| 20        | 3.86s         | 5.37519e+06    | 0               |</pre>"
      ],
      "text/plain": [
       "| 20        | 3.86s         | 5.37519e+06    | 0               |"
      ]
     },
     "metadata": {},
     "output_type": "display_data"
    },
    {
     "data": {
      "text/html": [
       "<pre>| 30        | 5.64s         | 5.12154e+06    | 0               |</pre>"
      ],
      "text/plain": [
       "| 30        | 5.64s         | 5.12154e+06    | 0               |"
      ]
     },
     "metadata": {},
     "output_type": "display_data"
    },
    {
     "data": {
      "text/html": [
       "<pre>| 40        | 7.49s         | 5.30373e+06    | 0               |</pre>"
      ],
      "text/plain": [
       "| 40        | 7.49s         | 5.30373e+06    | 0               |"
      ]
     },
     "metadata": {},
     "output_type": "display_data"
    },
    {
     "data": {
      "text/html": [
       "<pre>| 50        | 9.29s         | 5.00983e+06    | 0               |</pre>"
      ],
      "text/plain": [
       "| 50        | 9.29s         | 5.00983e+06    | 0               |"
      ]
     },
     "metadata": {},
     "output_type": "display_data"
    },
    {
     "data": {
      "text/html": [
       "<pre>| 60        | 11.22s        | 5.00837e+06    | 0               |</pre>"
      ],
      "text/plain": [
       "| 60        | 11.22s        | 5.00837e+06    | 0               |"
      ]
     },
     "metadata": {},
     "output_type": "display_data"
    },
    {
     "data": {
      "text/html": [
       "<pre>| 70        | 13.12s        | 4.94135e+06    | 0               |</pre>"
      ],
      "text/plain": [
       "| 70        | 13.12s        | 4.94135e+06    | 0               |"
      ]
     },
     "metadata": {},
     "output_type": "display_data"
    },
    {
     "data": {
      "text/html": [
       "<pre>| 80        | 15.02s        | 4.60452e+06    | 0               |</pre>"
      ],
      "text/plain": [
       "| 80        | 15.02s        | 4.60452e+06    | 0               |"
      ]
     },
     "metadata": {},
     "output_type": "display_data"
    },
    {
     "data": {
      "text/html": [
       "<pre>| 90        | 16.96s        | 4.7366e+06     | 0               |</pre>"
      ],
      "text/plain": [
       "| 90        | 16.96s        | 4.7366e+06     | 0               |"
      ]
     },
     "metadata": {},
     "output_type": "display_data"
    },
    {
     "data": {
      "text/html": [
       "<pre>| 100       | 18.93s        | 4.84249e+06    | 0               |</pre>"
      ],
      "text/plain": [
       "| 100       | 18.93s        | 4.84249e+06    | 0               |"
      ]
     },
     "metadata": {},
     "output_type": "display_data"
    },
    {
     "data": {
      "text/html": [
       "<pre>+-----------+---------------+----------------+-----------------+</pre>"
      ],
      "text/plain": [
       "+-----------+---------------+----------------+-----------------+"
      ]
     },
     "metadata": {},
     "output_type": "display_data"
    }
   ],
   "source": [
    "m = graphlab.topic_model.create(train, \n",
    "                                num_topics=100,       # number of topics\n",
    "                                num_iterations=100,   # algorithm parameters\n",
    "                                alpha=None, beta=.1)  # hyperparameters"
   ]
  },
  {
   "cell_type": "code",
   "execution_count": 34,
   "metadata": {
    "ExecuteTime": {
     "end_time": "2018-05-04T09:05:14.030199Z",
     "start_time": "2018-05-04T09:05:07.648244Z"
    },
    "slideshow": {
     "slide_type": "subslide"
    }
   },
   "outputs": [
    {
     "name": "stdout",
     "output_type": "stream",
     "text": [
      "4527.13385741\n"
     ]
    }
   ],
   "source": [
    "results = m.evaluate(test)\n",
    "print results['perplexity']"
   ]
  },
  {
   "cell_type": "code",
   "execution_count": 23,
   "metadata": {
    "ExecuteTime": {
     "end_time": "2018-05-04T08:47:41.912977Z",
     "start_time": "2018-05-04T08:47:41.845123Z"
    },
    "slideshow": {
     "slide_type": "slide"
    }
   },
   "outputs": [
    {
     "data": {
      "text/plain": [
       "Class                          : TopicModel\n",
       "\n",
       "Schema\n",
       "------\n",
       "Vocabulary Size                : 171005\n",
       "\n",
       "Settings\n",
       "--------\n",
       "Number of Topics               : 10\n",
       "alpha                          : 5.0\n",
       "beta                           : 0.1\n",
       "Iterations                     : 10\n",
       "Training time                  : 3.6698\n",
       "Verbose                        : False\n",
       "\n",
       "Accessible fields             : \n",
       "m['topics']                   : An SFrame containing the topics.\n",
       "m['vocabulary']               : An SArray containing the words in the vocabulary.\n",
       "Useful methods                : \n",
       "m.get_topics()                : Get the most probable words per topic.\n",
       "m.predict(new_docs)           : Make predictions for new documents."
      ]
     },
     "execution_count": 23,
     "metadata": {},
     "output_type": "execute_result"
    }
   ],
   "source": [
    "m"
   ]
  },
  {
   "cell_type": "code",
   "execution_count": 37,
   "metadata": {
    "ExecuteTime": {
     "end_time": "2018-05-04T09:07:00.959505Z",
     "start_time": "2018-05-04T09:07:00.758564Z"
    },
    "slideshow": {
     "slide_type": "slide"
    }
   },
   "outputs": [
    {
     "data": {
      "text/html": [
       "<div style=\"max-height:1000px;max-width:1500px;overflow:auto;\"><table frame=\"box\" rules=\"cols\">\n",
       "    <tr>\n",
       "        <th style=\"padding-left: 1em; padding-right: 1em; text-align: center\">topic</th>\n",
       "        <th style=\"padding-left: 1em; padding-right: 1em; text-align: center\">word</th>\n",
       "        <th style=\"padding-left: 1em; padding-right: 1em; text-align: center\">score</th>\n",
       "    </tr>\n",
       "    <tr>\n",
       "        <td style=\"padding-left: 1em; padding-right: 1em; text-align: center; vertical-align: top\">0</td>\n",
       "        <td style=\"padding-left: 1em; padding-right: 1em; text-align: center; vertical-align: top\">time</td>\n",
       "        <td style=\"padding-left: 1em; padding-right: 1em; text-align: center; vertical-align: top\">0.00422209137382</td>\n",
       "    </tr>\n",
       "    <tr>\n",
       "        <td style=\"padding-left: 1em; padding-right: 1em; text-align: center; vertical-align: top\">0</td>\n",
       "        <td style=\"padding-left: 1em; padding-right: 1em; text-align: center; vertical-align: top\">2001</td>\n",
       "        <td style=\"padding-left: 1em; padding-right: 1em; text-align: center; vertical-align: top\">0.00201402456976</td>\n",
       "    </tr>\n",
       "    <tr>\n",
       "        <td style=\"padding-left: 1em; padding-right: 1em; text-align: center; vertical-align: top\">0</td>\n",
       "        <td style=\"padding-left: 1em; padding-right: 1em; text-align: center; vertical-align: top\">worked</td>\n",
       "        <td style=\"padding-left: 1em; padding-right: 1em; text-align: center; vertical-align: top\">0.00181329122394</td>\n",
       "    </tr>\n",
       "    <tr>\n",
       "        <td style=\"padding-left: 1em; padding-right: 1em; text-align: center; vertical-align: top\">0</td>\n",
       "        <td style=\"padding-left: 1em; padding-right: 1em; text-align: center; vertical-align: top\">gonzales</td>\n",
       "        <td style=\"padding-left: 1em; padding-right: 1em; text-align: center; vertical-align: top\">0.00174638010866</td>\n",
       "    </tr>\n",
       "    <tr>\n",
       "        <td style=\"padding-left: 1em; padding-right: 1em; text-align: center; vertical-align: top\">0</td>\n",
       "        <td style=\"padding-left: 1em; padding-right: 1em; text-align: center; vertical-align: top\">stunt</td>\n",
       "        <td style=\"padding-left: 1em; padding-right: 1em; text-align: center; vertical-align: top\">0.00167946899339</td>\n",
       "    </tr>\n",
       "    <tr>\n",
       "        <td style=\"padding-left: 1em; padding-right: 1em; text-align: center; vertical-align: top\">1</td>\n",
       "        <td style=\"padding-left: 1em; padding-right: 1em; text-align: center; vertical-align: top\">god</td>\n",
       "        <td style=\"padding-left: 1em; padding-right: 1em; text-align: center; vertical-align: top\">0.0134496294644</td>\n",
       "    </tr>\n",
       "    <tr>\n",
       "        <td style=\"padding-left: 1em; padding-right: 1em; text-align: center; vertical-align: top\">1</td>\n",
       "        <td style=\"padding-left: 1em; padding-right: 1em; text-align: center; vertical-align: top\">century</td>\n",
       "        <td style=\"padding-left: 1em; padding-right: 1em; text-align: center; vertical-align: top\">0.0111281287498</td>\n",
       "    </tr>\n",
       "    <tr>\n",
       "        <td style=\"padding-left: 1em; padding-right: 1em; text-align: center; vertical-align: top\">1</td>\n",
       "        <td style=\"padding-left: 1em; padding-right: 1em; text-align: center; vertical-align: top\">temple</td>\n",
       "        <td style=\"padding-left: 1em; padding-right: 1em; text-align: center; vertical-align: top\">0.00998245307251</td>\n",
       "    </tr>\n",
       "    <tr>\n",
       "        <td style=\"padding-left: 1em; padding-right: 1em; text-align: center; vertical-align: top\">1</td>\n",
       "        <td style=\"padding-left: 1em; padding-right: 1em; text-align: center; vertical-align: top\">people</td>\n",
       "        <td style=\"padding-left: 1em; padding-right: 1em; text-align: center; vertical-align: top\">0.00690721835975</td>\n",
       "    </tr>\n",
       "    <tr>\n",
       "        <td style=\"padding-left: 1em; padding-right: 1em; text-align: center; vertical-align: top\">1</td>\n",
       "        <td style=\"padding-left: 1em; padding-right: 1em; text-align: center; vertical-align: top\">great</td>\n",
       "        <td style=\"padding-left: 1em; padding-right: 1em; text-align: center; vertical-align: top\">0.00648512732074</td>\n",
       "    </tr>\n",
       "</table>\n",
       "[500 rows x 3 columns]<br/>Note: Only the head of the SFrame is printed.<br/>You can use print_rows(num_rows=m, num_columns=n) to print more rows and columns.\n",
       "</div>"
      ],
      "text/plain": [
       "Columns:\n",
       "\ttopic\tint\n",
       "\tword\tstr\n",
       "\tscore\tfloat\n",
       "\n",
       "Rows: 500\n",
       "\n",
       "Data:\n",
       "+-------+----------+------------------+\n",
       "| topic |   word   |      score       |\n",
       "+-------+----------+------------------+\n",
       "|   0   |   time   | 0.00422209137382 |\n",
       "|   0   |   2001   | 0.00201402456976 |\n",
       "|   0   |  worked  | 0.00181329122394 |\n",
       "|   0   | gonzales | 0.00174638010866 |\n",
       "|   0   |  stunt   | 0.00167946899339 |\n",
       "|   1   |   god    | 0.0134496294644  |\n",
       "|   1   | century  | 0.0111281287498  |\n",
       "|   1   |  temple  | 0.00998245307251 |\n",
       "|   1   |  people  | 0.00690721835975 |\n",
       "|   1   |  great   | 0.00648512732074 |\n",
       "+-------+----------+------------------+\n",
       "[500 rows x 3 columns]\n",
       "Note: Only the head of the SFrame is printed.\n",
       "You can use print_rows(num_rows=m, num_columns=n) to print more rows and columns."
      ]
     },
     "execution_count": 37,
     "metadata": {},
     "output_type": "execute_result"
    }
   ],
   "source": [
    "m.get_topics()"
   ]
  },
  {
   "cell_type": "code",
   "execution_count": 39,
   "metadata": {
    "ExecuteTime": {
     "end_time": "2018-05-04T09:07:48.386169Z",
     "start_time": "2018-05-04T09:07:48.380224Z"
    }
   },
   "outputs": [
    {
     "name": "stdout",
     "output_type": "stream",
     "text": [
      "Help on method get_topics in module graphlab.toolkits.topic_model.topic_model:\n",
      "\n",
      "get_topics(self, topic_ids=None, num_words=5, cdf_cutoff=1.0, output_type='topic_probabilities') method of graphlab.toolkits.topic_model.topic_model.TopicModel instance\n",
      "    Get the words associated with a given topic. The score column is the\n",
      "    probability of choosing that word given that you have chosen a\n",
      "    particular topic.\n",
      "    \n",
      "    Parameters\n",
      "    ----------\n",
      "    topic_ids : list of int, optional\n",
      "        The topics to retrieve words. Topic ids are zero-based.\n",
      "        Throws an error if greater than or equal to m['num_topics'], or\n",
      "        if the requested topic name is not present.\n",
      "    \n",
      "    num_words : int, optional\n",
      "        The number of words to show.\n",
      "    \n",
      "    cdf_cutoff : float, optional\n",
      "        Allows one to only show the most probable words whose cumulative\n",
      "        probability is below this cutoff. For example if there exist\n",
      "        three words where\n",
      "    \n",
      "        .. math::\n",
      "           p(word_1 | topic_k) = .1\n",
      "    \n",
      "           p(word_2 | topic_k) = .2\n",
      "    \n",
      "           p(word_3 | topic_k) = .05\n",
      "    \n",
      "        then setting :math:`cdf_{cutoff}=.3` would return only\n",
      "        :math:`word_1` and :math:`word_2` since\n",
      "        :math:`p(word_1 | topic_k) + p(word_2 | topic_k) <= cdf_{cutoff}`\n",
      "    \n",
      "    output_type : {'topic_probabilities' | 'topic_words'}, optional\n",
      "        Determine the type of desired output. See below.\n",
      "    \n",
      "    Returns\n",
      "    -------\n",
      "    out : SFrame\n",
      "        If output_type is 'topic_probabilities', then the returned value is\n",
      "        an SFrame with a column of words ranked by a column of scores for\n",
      "        each topic. Otherwise, the returned value is a SArray where\n",
      "        each element is a list of the most probable words for each topic.\n",
      "    \n",
      "    Examples\n",
      "    --------\n",
      "    Get the highest ranked words for all topics.\n",
      "    \n",
      "    >>> docs = graphlab.SArray('https://static.turi.com/datasets/nips-text')\n",
      "    >>> m = graphlab.topic_model.create(docs,\n",
      "                                        num_iterations=50)\n",
      "    >>> m.get_topics()\n",
      "    +-------+----------+-----------------+\n",
      "    | topic |   word   |      score      |\n",
      "    +-------+----------+-----------------+\n",
      "    |   0   |   cell   |  0.028974400831 |\n",
      "    |   0   |  input   | 0.0259470208503 |\n",
      "    |   0   |  image   | 0.0215721599763 |\n",
      "    |   0   |  visual  | 0.0173635081992 |\n",
      "    |   0   |  object  | 0.0172447874156 |\n",
      "    |   1   | function | 0.0482834508265 |\n",
      "    |   1   |  input   | 0.0456270024091 |\n",
      "    |   1   |  point   | 0.0302662839454 |\n",
      "    |   1   |  result  | 0.0239474934631 |\n",
      "    |   1   | problem  | 0.0231750116011 |\n",
      "    |  ...  |   ...    |       ...       |\n",
      "    +-------+----------+-----------------+\n",
      "    \n",
      "    Get the highest ranked words for topics 0 and 1 and show 15 words per\n",
      "    topic.\n",
      "    \n",
      "    >>> m.get_topics([0, 1], num_words=15)\n",
      "    +-------+----------+------------------+\n",
      "    | topic |   word   |      score       |\n",
      "    +-------+----------+------------------+\n",
      "    |   0   |   cell   |  0.028974400831  |\n",
      "    |   0   |  input   | 0.0259470208503  |\n",
      "    |   0   |  image   | 0.0215721599763  |\n",
      "    |   0   |  visual  | 0.0173635081992  |\n",
      "    |   0   |  object  | 0.0172447874156  |\n",
      "    |   0   | response | 0.0139740298286  |\n",
      "    |   0   |  layer   | 0.0122585145062  |\n",
      "    |   0   | features | 0.0115343177265  |\n",
      "    |   0   | feature  | 0.0103530459301  |\n",
      "    |   0   | spatial  | 0.00823387994361 |\n",
      "    |  ...  |   ...    |       ...        |\n",
      "    +-------+----------+------------------+\n",
      "    \n",
      "    If one wants to instead just get the top words per topic, one may\n",
      "    change the format of the output as follows.\n",
      "    \n",
      "    >>> topics = m.get_topics(output_type='topic_words')\n",
      "    dtype: list\n",
      "    Rows: 10\n",
      "    [['cell', 'image', 'input', 'object', 'visual'],\n",
      "     ['algorithm', 'data', 'learning', 'method', 'set'],\n",
      "     ['function', 'input', 'point', 'problem', 'result'],\n",
      "     ['model', 'output', 'pattern', 'set', 'unit'],\n",
      "     ['action', 'learning', 'net', 'problem', 'system'],\n",
      "     ['error', 'function', 'network', 'parameter', 'weight'],\n",
      "     ['information', 'level', 'neural', 'threshold', 'weight'],\n",
      "     ['control', 'field', 'model', 'network', 'neuron'],\n",
      "     ['hidden', 'layer', 'system', 'training', 'vector'],\n",
      "     ['component', 'distribution', 'local', 'model', 'optimal']]\n",
      "\n"
     ]
    }
   ],
   "source": [
    "help(m.get_topics)"
   ]
  },
  {
   "cell_type": "code",
   "execution_count": 40,
   "metadata": {
    "ExecuteTime": {
     "end_time": "2018-05-04T09:08:04.509473Z",
     "start_time": "2018-05-04T09:08:04.303477Z"
    },
    "slideshow": {
     "slide_type": "slide"
    }
   },
   "outputs": [
    {
     "name": "stdout",
     "output_type": "stream",
     "text": [
      "['goldstone', '1990', 'school', 'group', 'district', 'list', 'arnold', 'glass', 'hercules', 'time']\n",
      "['foundation', 'full', 'bar', 'charles', 'trees', 'research', 'men', 'small', '2008', 'walk']\n",
      "['water', 'plant', 'made', 'food', 'traditional', 'small', 'iron', 'popular', 'found', 'called']\n",
      "['sault', 'wisconsin', 'lewis', 'percent', 'number', 'sierra', 'call', 'time', 'campbell', '2008']\n",
      "['jones', 'bar', 'commission', '1966', '1971', 'arbroath', 'engineering', 'represented', 'served', 'pangasinan']\n",
      "['states', 'bars', 'pcbs', 'start0', 'high', 'visitors', 'part', 'including', 'plotdata', 'sharp']\n",
      "['school', 'made', 'group', 'singapore', 'malaysian', 'years', 'malaysia', '2007', 'association', 'left']\n",
      "['division', 'force', 'army', 'german', 'men', 'general', 'forces', 'battle', 'military', 'war']\n",
      "['miami', 'gonzales', 'due', 'height', 'greek', '2001', 'time', 'stunt', 'worked', 'ha']\n",
      "['city', 'francisco', 'san', 'chicago', 'angeles', 'los', 'california', 'york', 'time', 'served']\n",
      "['foundation', 'lankan', 'scales', 'sri', 'fitzgerald', 'due', 'rinpoche', 'time', 'medicine', 'lanka']\n",
      "['album', 'released', 'song', 'recorded', 'tour', 'band', 'single', 'music', 'records', 'songs']\n",
      "['building', 'city', 'north', 'built', 'area', 'west', 'park', 'town', 'street', 'road']\n",
      "['swedish', 'danish', 'made', 'finnish', 'denmark', 'finland', 'norwegian', 'sweden', 'time', 'norway']\n",
      "['lessons', 'feet', 'lee', 'bell', 'national', '2002', 'society', 'part', 'originally', 'williams']\n",
      "['championship', 'champion', 'title', 'wrestling', 'won', 'team', 'world', 'ring', 'round', 'match']\n",
      "['operations', 'training', 'united', 'force', 'group', 'aircraft', 'base', 'flight', 'air', 'war']\n",
      "['europe', 'school', 'club', 'phillip', 'alan', 'roberts', 'phillips', 'valid', 'beth', 'springfield']\n",
      "['division', 'set', 'skanderbeg', 'university', 'member', 'street', 'college', 'cloud', 'fleetwood', 'red']\n",
      "['1991', 'city', 'major', 'morley', 'cj', 'village', 'pipe', 'child', 'davis', '2010']\n",
      "['tara', 'cameras', 'award', 'illinois', 'lens', 'camera', 'master', '1936', 'part', 'red']\n",
      "['house', 'dudley', 'award', 'mcphee', 'part', '5', 'long', 'brunswick', 'babylon', 'centauri']\n",
      "['television', 'network', 'show', 'tv', 'broadcast', 'station', 'radio', 'news', 'local', 'channel']\n",
      "['head', '1996', 'national', 'point', 'wilson', 'years', 'bernard', 'points', '2007', 'hat']\n",
      "['school', 'made', 'brothers', 'clark', 'wright', 'club', 'rico', 'served', 'puerto', '2010']\n",
      "['group', 'wallace', 'post', 'company', 'tradition', 'place', 'members', 'model', 'john', 'korean']\n",
      "['naval', 'island', 'ships', 'japanese', 'coast', 'sea', 'islands', 'navy', 'fleet', 'ship']\n",
      "['united', 'people', 'german', 'national', 'government', 'political', 'states', 'union', 'state', 'war']\n",
      "['salford', 'head', 'orlando', 'long', 'youth', 'born', 'street', 'manchester', 'listed', 'call']\n",
      "['dna', 'cells', 'proteins', 'site', 'cell', 'enzyme', 'protein', 'acid', 'called', 'structure']\n",
      "['canada', 'toronto', 'ontario', 'iowa', 'university', 'canadian', 'hospital', 'health', 'dr', 'medical']\n",
      "['blue', 'named', 'gmina', 'wisconsin', '1979', '1997', 'country', 'broken', 'wayne', 'martin']\n",
      "['copper', 'mining', 'oil', 'gold', 'company', 'gas', 'mine', 'mines', 'coal', 'part']\n",
      "['des', 'la', 'paris', 'louis', 'de', 'french', 'france', 'le', 'jean', 'du']\n",
      "['hong', 'korea', 'chinese', 'modern', 'japanese', 'dynasty', 'china', 'kong', 'japan', 'emperor']\n",
      "['mr', 'smith', 'smiths', 'years', 'project', 'famous', 'state', 'london', 'allen', 'plates']\n",
      "['robert', 'regional', 'award', 'director', 'connecticut', 'wood', 'place', 'international', 'burns', 'university']\n",
      "['brazil', 'city', 'portuguese', 'mexico', 'la', 'de', 'spanish', 'el', 'spain', 'italian']\n",
      "['great', 'filipino', 'marcos', 'philippines', 'philippine', 'including', 'manila', 'college', 'post', 'university']\n",
      "['simon', 'stores', 'rights', 'british', '2000', '2001', 'ghostbusters', 'closed', 'worked', 'store']\n",
      "['named', 'family', '1981', 'rose', 'cat', 'born', 'grid', 'rangers', 'beaver', 'george']\n",
      "['ukraine', 'ukrainian', 'moscow', 'war', 'late', 'part', 'polish', 'russian', 'austrian', 'poland']\n",
      "['made', 'working', 'michigan', 'act', 'york', 'time', 'half', 'walker', 'soft', 'bond']\n",
      "['town', 'khmer', '1995', 'rescue', 'unknown', 'national', 'year', 'joined', 'rouge', 'williams']\n",
      "['engine', 'built', 'engines', 'models', 'car', 'power', 'high', 'production', 'design', 'model']\n",
      "['pakistan', 'khan', 'district', 'preov', 'region', 'india', 'indian', 'bystrica', 'singh', 'koice']\n",
      "['king', 'great', 'ancient', 'century', 'god', 'people', 'jesus', 'found', 'temple', 'called']\n",
      "['cornish', 'van', 'village', 'cornwall', 'cats', 'harrison', 'part', '2008', '2009', '2010']\n",
      "['200', 'university', 'miller', 'national', 'southern', 'british', 'years', 'professor', '2009', 'originally']\n",
      "['irish', 'parade', 'northern', 'dublin', 'cork', 'county', '2006', 'ireland', 'senior', 'local']\n",
      "['television', 'theatre', 'show', 'appeared', 'movie', 'production', 'role', 'series', 'films', 'film']\n",
      "['zealand', 'cricket', 'australia', 'england', 'played', 'made', 'wales', 'australian', 'day', 'south']\n",
      "['shown', 'group', 'groups', 'number', 'site', 'society', '2', 'members', 'action', 'jon']\n",
      "['made', 'end', 'began', 'year', 'years', 'early', 'including', 'time', 'continued', 'called']\n",
      "['named', 'america', 'michigan', 'top', 'malta', 'hayes', 'design', 'maltese', 'john', 'side']\n",
      "['jones', 'school', 'carter', 'journal', 'st', 'member', 'pa', 'college', 'years', 'crawford']\n",
      "['study', 'disease', 'research', 'patients', 'health', 'blood', 'treatment', 'found', 'children', 'effects']\n",
      "['1984', 'dean', 'miss', 'mildred', 'location', '2005', 'claimed', 'position', 'dr', 'mode']\n",
      "['october', 'march', 'september', 'june', '1', '2', '2007', '2008', '2009', '2010']\n",
      "['lao', 'weld', 'torture', 'forum', 'club', 'years', 'jordan', '4', 'miranda', 'orange']\n",
      "['star', 'center', 'launch', 'sun', 'space', 'mission', 'moon', 'solar', 'time', 'earth']\n",
      "['king', 'england', 'family', 'sir', 'married', 'son', 'william', 'london', 'john', 'died']\n",
      "['town', 'city', 'named', 'episode', '1994', 'tree', '1974', 'carroll', 'group', '2009']\n",
      "['government', 'general', 'member', 'elected', 'state', 'election', 'council', 'president', 'party', 'minister']\n",
      "['story', 'episode', 'released', 'series', 'character', 'player', 'game', 'version', 'characters', 'original']\n",
      "['management', 'financial', 'business', 'corporation', 'company', 'million', 'companies', 'market', 'sold', 'bank']\n",
      "['life', 'death', 'love', 'family', 'time', 'father', 'back', 'mother', 'tells', 'man']\n",
      "['championship', 'won', 'series', 'car', 'team', 'points', 'time', 'race', 'grand', 'racing']\n",
      "['major', 'dance', 'opera', 'work', 'orchestra', 'festival', 'music', 'performed', 'works', 'musical']\n",
      "['city', 'famous', 'minnesota', 'met', 'minister', 'martin', 'served', 'women', 'guide', 'engineer']\n",
      "['service', 'evans', 'fire', 'university', 'stamp', 'stamps', '2007', 'duck', 'served', 'postal']\n",
      "['florida', 'family', 'moved', 'hurricane', 'damage', 'tropical', 'gang', 'storm', 'texas', 'york']\n",
      "['case', 'united', 'court', 'legal', 'states', 'state', 'members', 'act', 'police', 'law']\n",
      "['nfl', 'goal', 'season', 'football', 'bowl', 'field', 'game', 'yards', 'pass', 'quarter']\n",
      "['city', 'german', 'west', 'von', 'munich', 'mark', 'berlin', 'germany', 'east', 'syracuse']\n",
      "['life', 'theory', 'people', 'work', 'research', 'society', 'human', 'social', 'world', 'history']\n",
      "['arts', 'art', 'house', 'museum', 'work', 'style', 'collection', 'design', 'artists', 'works']\n",
      "['states', 'united', 'washington', 'virginia', 'county', 'american', 'black', 'york', 'white', 'war']\n",
      "['level', 'union', 'cemetery', 'professor', 'hammond', 'kitty', 'porky', 'youth', 'university', 'stage']\n",
      "['living', 'family', 'people', '18', 'age', 'median', 'years', 'income', 'average', 'population']\n",
      "['league', 'played', 'cup', 'club', 'season', 'football', 'game', 'won', 'games', 'team']\n",
      "['olympic', 'won', 'gold', 'events', 'held', 'championships', 'world', 'international', 'medal', 'event']\n",
      "['species', 'family', 'long', 'order', 'large', 'black', 'small', 'found', 'white', 'birds']\n",
      "['mountain', 'valley', 'north', 'creek', 'area', 'park', 'lake', 'water', 'river', 'south']\n",
      "['israel', 'jews', 'palestinian', 'jewish', 'romanian', 'camp', 'israeli', 'years', 'palestine', '1939']\n",
      "['catholic', 'christian', 'saint', 'century', 'parish', 'st', 'roman', 'council', 'church', 'bishop']\n",
      "['horses', 'dates', '1994', 'family', 'horse', 'link', 'year', 'orange', 'called', 'preferences']\n",
      "['school', 'students', 'university', 'research', 'high', 'program', 'college', 'year', 'schools', 'education']\n",
      "['garden', 'form', '1981', 'crow', 'point', 'ii', 'middle', 'japan', 'nerman', 'cotton']\n",
      "['iran', 'ali', 'muslim', 'al', 'years', 'arab', 'islamic', 'muhammad', 'muslims', 'islam']\n",
      "['body', 'city', 'de', 'junior', 'beer', 'kent', 'year', 'east', 'open', 'brewery']\n",
      "['life', 'work', 'books', 'story', 'writing', 'magazine', 'book', 'stories', 'published', 'wrote']\n",
      "['sound', 'register', 'club', 'house', 'hotel', 'county', 'historic', 'listed', 'home', 'properties']\n",
      "['service', 'route', 'lines', 'station', 'london', 'trains', 'services', 'railway', 'line', 'class']\n",
      "['school', 'fair', 'rogers', 'dallas', 'work', 'andrews', 'time', 'eugene', 'sidney', 'left']\n",
      "['development', 'government', 'energy', 'countries', 'system', 'trade', 'states', 'economic', 'world', 'national']\n",
      "['letters', 'language', 'die', 'der', 'languages', 'written', 'names', 'words', 'english', 'word']\n",
      "['information', 'code', 'users', 'technology', 'system', 'computer', 'systems', 'internet', 'data', 'software']\n",
      "['case', 'function', 'set', 'form', 'light', 'energy', 'number', 'surface', '1', 'method']\n",
      "['town', 'city', 'reverse', 'people', 'coins', 'list', '1933', 'green', 'date', 'coin']\n"
     ]
    }
   ],
   "source": [
    "topics = m.get_topics(num_words=10).unstack(['word','score'], \\\n",
    "                                new_column_name='topic_words')['topic_words'].apply(lambda x: x.keys())\n",
    "for topic in topics:\n",
    "    print topic"
   ]
  },
  {
   "cell_type": "code",
   "execution_count": 26,
   "metadata": {
    "ExecuteTime": {
     "end_time": "2017-05-18T20:11:42.899163",
     "start_time": "2017-05-18T20:11:42.842599"
    },
    "slideshow": {
     "slide_type": "slide"
    }
   },
   "outputs": [
    {
     "data": {
      "text/plain": [
       "dtype: str\n",
       "Rows: 171005\n",
       "['duke', 'studies', 'journal', 'chris', 'research', 'matthew', 'crisis', 'financial', 'paul', '1987', 'reagan', 'traditional', 'rightwing', 'nominee', 'libertarianism', 'cato', 'chief', 'smith', 'line', 'south', 'nick', '1999', 'documentary', 'animated', 'shows', 'references', 'commentator', 'powerful', 'ethics', 'rush', 'neil', 'lives', 'cited', 'produced', 'night', 'originality', 'interest', '2007', 'individual', 'authors', 'admirer', 'married', 'club', 'library', 'essays', 'recent', '2009', 'burns', 'inspiration', 'artist', 'women', 'early', 'barbara', 'organized', 'gave', 'referred', 'company', 'personalist', 'criticism', 'john', 'reviewers', 'language', 'understanding', 'writes', 'fewer', 'attention', 'positive', 'masterful', 'review', 'times', 'critic', 'praise', 'theory', 'randian', 'importance', 'calling', 'nonfiction', 'academics', 'kant', 'philosophers', 'italian', 'remarked', 'wife', 'house', 'subject', 'scholarly', 'edward', 'system', 'influence', 'acknowledged', '100', 'branden', 'criticized', 'sacrificing', 'exist', 'selfinterest', 'rational', 'communism', 'journals', 'copies', ... ]"
      ]
     },
     "execution_count": 26,
     "metadata": {},
     "output_type": "execute_result"
    }
   ],
   "source": [
    "m['vocabulary']"
   ]
  },
  {
   "cell_type": "code",
   "execution_count": 41,
   "metadata": {
    "ExecuteTime": {
     "end_time": "2018-05-04T09:09:37.851105Z",
     "start_time": "2018-05-04T09:09:37.404640Z"
    },
    "slideshow": {
     "slide_type": "slide"
    }
   },
   "outputs": [
    {
     "data": {
      "text/html": [
       "<div style=\"max-height:1000px;max-width:1500px;overflow:auto;\"><table frame=\"box\" rules=\"cols\">\n",
       "    <tr>\n",
       "        <th style=\"padding-left: 1em; padding-right: 1em; text-align: center\">topic_probabilities</th>\n",
       "        <th style=\"padding-left: 1em; padding-right: 1em; text-align: center\">vocabulary</th>\n",
       "    </tr>\n",
       "    <tr>\n",
       "        <td style=\"padding-left: 1em; padding-right: 1em; text-align: center; vertical-align: top\">[6.69111152745e-06,<br>3.01493599291e-06, ...</td>\n",
       "        <td style=\"padding-left: 1em; padding-right: 1em; text-align: center; vertical-align: top\">affair</td>\n",
       "    </tr>\n",
       "    <tr>\n",
       "        <td style=\"padding-left: 1em; padding-right: 1em; text-align: center; vertical-align: top\">[6.69111152745e-06,<br>0.000515554054787, ...</td>\n",
       "        <td style=\"padding-left: 1em; padding-right: 1em; text-align: center; vertical-align: top\">writings</td>\n",
       "    </tr>\n",
       "    <tr>\n",
       "        <td style=\"padding-left: 1em; padding-right: 1em; text-align: center; vertical-align: top\">[6.69111152745e-06,<br>3.01493599291e-06, ...</td>\n",
       "        <td style=\"padding-left: 1em; padding-right: 1em; text-align: center; vertical-align: top\">collectivism</td>\n",
       "    </tr>\n",
       "    <tr>\n",
       "        <td style=\"padding-left: 1em; padding-right: 1em; text-align: center; vertical-align: top\">[6.69111152745e-06,<br>3.01493599291e-06, ...</td>\n",
       "        <td style=\"padding-left: 1em; padding-right: 1em; text-align: center; vertical-align: top\">rosenbaum</td>\n",
       "    </tr>\n",
       "    <tr>\n",
       "        <td style=\"padding-left: 1em; padding-right: 1em; text-align: center; vertical-align: top\">[6.69111152745e-06,<br>3.01493599291e-06, ...</td>\n",
       "        <td style=\"padding-left: 1em; padding-right: 1em; text-align: center; vertical-align: top\">reviewers</td>\n",
       "    </tr>\n",
       "    <tr>\n",
       "        <td style=\"padding-left: 1em; padding-right: 1em; text-align: center; vertical-align: top\">[0.000140513342076,<br>3.01493599291e-06, ...</td>\n",
       "        <td style=\"padding-left: 1em; padding-right: 1em; text-align: center; vertical-align: top\">rest</td>\n",
       "    </tr>\n",
       "    <tr>\n",
       "        <td style=\"padding-left: 1em; padding-right: 1em; text-align: center; vertical-align: top\">[6.69111152745e-06,<br>3.01493599291e-06, ...</td>\n",
       "        <td style=\"padding-left: 1em; padding-right: 1em; text-align: center; vertical-align: top\">years</td>\n",
       "    </tr>\n",
       "    <tr>\n",
       "        <td style=\"padding-left: 1em; padding-right: 1em; text-align: center; vertical-align: top\">[6.69111152745e-06,<br>3.01493599291e-06, ...</td>\n",
       "        <td style=\"padding-left: 1em; padding-right: 1em; text-align: center; vertical-align: top\">produced</td>\n",
       "    </tr>\n",
       "    <tr>\n",
       "        <td style=\"padding-left: 1em; padding-right: 1em; text-align: center; vertical-align: top\">[6.69111152745e-06,<br>0.000123612375709, ...</td>\n",
       "        <td style=\"padding-left: 1em; padding-right: 1em; text-align: center; vertical-align: top\">held</td>\n",
       "    </tr>\n",
       "    <tr>\n",
       "        <td style=\"padding-left: 1em; padding-right: 1em; text-align: center; vertical-align: top\">[6.69111152745e-06,<br>3.01493599291e-06, ...</td>\n",
       "        <td style=\"padding-left: 1em; padding-right: 1em; text-align: center; vertical-align: top\">including</td>\n",
       "    </tr>\n",
       "</table>\n",
       "[107782 rows x 2 columns]<br/>Note: Only the head of the SFrame is printed.<br/>You can use print_rows(num_rows=m, num_columns=n) to print more rows and columns.\n",
       "</div>"
      ],
      "text/plain": [
       "Columns:\n",
       "\ttopic_probabilities\tarray\n",
       "\tvocabulary\tstr\n",
       "\n",
       "Rows: 107782\n",
       "\n",
       "Data:\n",
       "+-------------------------------+--------------+\n",
       "|      topic_probabilities      |  vocabulary  |\n",
       "+-------------------------------+--------------+\n",
       "| [6.69111152745e-06, 3.0149... |    affair    |\n",
       "| [6.69111152745e-06, 0.0005... |   writings   |\n",
       "| [6.69111152745e-06, 3.0149... | collectivism |\n",
       "| [6.69111152745e-06, 3.0149... |  rosenbaum   |\n",
       "| [6.69111152745e-06, 3.0149... |  reviewers   |\n",
       "| [0.000140513342076, 3.0149... |     rest     |\n",
       "| [6.69111152745e-06, 3.0149... |    years     |\n",
       "| [6.69111152745e-06, 3.0149... |   produced   |\n",
       "| [6.69111152745e-06, 0.0001... |     held     |\n",
       "| [6.69111152745e-06, 3.0149... |  including   |\n",
       "+-------------------------------+--------------+\n",
       "[107782 rows x 2 columns]\n",
       "Note: Only the head of the SFrame is printed.\n",
       "You can use print_rows(num_rows=m, num_columns=n) to print more rows and columns."
      ]
     },
     "execution_count": 41,
     "metadata": {},
     "output_type": "execute_result"
    }
   ],
   "source": [
    "m['topics']"
   ]
  },
  {
   "cell_type": "code",
   "execution_count": 46,
   "metadata": {
    "ExecuteTime": {
     "end_time": "2018-05-04T09:10:10.166471Z",
     "start_time": "2018-05-04T09:10:09.969231Z"
    },
    "slideshow": {
     "slide_type": "slide"
    }
   },
   "outputs": [
    {
     "name": "stdout",
     "output_type": "stream",
     "text": [
      "['1990', 'list', 'group', 'school', 'district']\n",
      "['small', '2008', 'charles', 'bar', 'full']\n",
      "['food', 'water', 'made', 'called', 'iron']\n",
      "['campbell', 'lewis', '2008', 'wisconsin', 'time']\n",
      "['represented', 'arbroath', 'bar', '1971', 'served']\n",
      "['high', 'sharp', 'start0', 'part', 'visitors']\n",
      "['school', 'group', '2007', 'association', 'singapore']\n",
      "['battle', 'division', 'war', 'forces', 'army']\n",
      "['gonzales', 'worked', '2001', 'time', 'stunt']\n",
      "['angeles', 'city', 'california', 'san', 'los']\n",
      "['lanka', 'rinpoche', 'sri', 'fitzgerald', 'time']\n",
      "['album', 'band', 'song', 'music', 'released']\n",
      "['town', 'city', 'street', 'road', 'area']\n",
      "['swedish', 'norwegian', 'sweden', 'made', 'time']\n",
      "['society', 'national', 'part', 'lee', 'bell']\n",
      "['title', 'world', 'championship', 'match', 'team']\n",
      "['force', 'aircraft', 'base', 'flight', 'air']\n",
      "['club', 'phillip', 'school', 'beth', 'roberts']\n",
      "['member', 'university', 'set', 'college', 'red']\n",
      "['davis', 'city', '2010', 'morley', 'village']\n",
      "['part', 'camera', 'master', 'red', 'award']\n",
      "['part', 'brunswick', '5', 'dudley', 'award']\n",
      "['news', 'station', 'radio', 'network', 'show']\n",
      "['head', 'years', 'hat', 'national', 'wilson']\n",
      "['puerto', 'wright', 'brothers', 'clark', 'rico']\n",
      "['place', 'model', 'group', 'post', 'members']\n",
      "['island', 'ship', 'ships', 'sea', 'islands']\n",
      "['state', 'people', 'political', 'war', 'government']\n",
      "['salford', 'born', 'street', 'manchester', 'orlando']\n",
      "['cell', 'cells', 'dna', 'enzyme', 'protein']\n",
      "['canada', 'hospital', 'health', 'medical', 'canadian']\n",
      "['country', 'named', 'gmina', 'wisconsin', 'martin']\n",
      "['coal', 'mining', 'oil', 'gas', 'gold']\n",
      "['paris', 'la', 'de', 'french', 'france']\n",
      "['japan', 'emperor', 'china', 'japanese', 'chinese']\n",
      "['project', 'famous', 'state', 'smith', 'mr']\n",
      "['robert', 'wood', 'place', 'university', 'award']\n",
      "['spanish', 'city', 'de', 'mexico', 'la']\n",
      "['university', 'including', 'philippine', 'college', 'philippines']\n",
      "['simon', '2001', 'stores', 'ghostbusters', 'british']\n",
      "['rose', 'named', 'george', 'family', '1981']\n",
      "['russian', 'polish', 'poland', 'part', 'war']\n",
      "['walker', 'bond', 'time', 'made', 'act']\n",
      "['town', 'national', 'joined', 'williams', 'rouge']\n",
      "['engine', 'models', 'model', 'production', 'power']\n",
      "['pakistan', 'region', 'indian', 'india', 'district']\n",
      "['god', 'great', 'people', 'temple', 'century']\n",
      "['2008', '2009', '2010', 'cornwall', 'village']\n",
      "['miller', 'national', '2009', 'university', 'years']\n",
      "['county', 'irish', 'dublin', 'northern', 'ireland']\n",
      "['films', 'series', 'role', 'film', 'show']\n",
      "['zealand', 'wales', 'australian', 'australia', 'south']\n",
      "['2', 'group', 'number', 'members', 'site']\n",
      "['early', 'years', 'made', 'end', 'time']\n",
      "['maltese', 'michigan', 'america', 'side', 'malta']\n",
      "['jones', 'member', 'school', 'carter', 'years']\n",
      "['found', 'patients', 'blood', 'study', 'disease']\n",
      "['miss', 'position', 'dr', 'location', 'mode']\n",
      "['2008', '2009', 'june', '2007', '2010']\n",
      "['lao', 'weld', '4', 'torture', 'years']\n",
      "['earth', 'time', 'star', 'mission', 'space']\n",
      "['son', 'king', 'john', 'died', 'sir']\n",
      "['episode', 'named', '2009', 'carroll', 'group']\n",
      "['elected', 'president', 'state', 'election', 'party']\n",
      "['episode', 'game', 'character', 'characters', 'series']\n",
      "['market', 'company', 'million', 'business', 'bank']\n",
      "['life', 'mother', 'father', 'back', 'man']\n",
      "['car', 'race', 'racing', 'won', 'team']\n",
      "['dance', 'festival', 'opera', 'orchestra', 'music']\n",
      "['city', 'met', 'women', 'minnesota', 'engineer']\n",
      "['fire', 'served', 'stamps', 'service', 'evans']\n",
      "['tropical', 'texas', 'storm', 'family', 'york']\n",
      "['states', 'police', 'state', 'law', 'court']\n",
      "['field', 'game', 'yards', 'season', 'pass']\n",
      "['german', 'city', 'berlin', 'germany', 'von']\n",
      "['work', 'society', 'social', 'theory', 'history']\n",
      "['design', 'arts', 'work', 'art', 'museum']\n",
      "['states', 'american', 'united', 'white', 'york']\n",
      "['youth', 'professor', 'kitty', 'university', 'stage']\n",
      "['years', '18', 'age', 'population', 'income']\n",
      "['club', 'league', 'game', 'team', 'season']\n",
      "['world', 'championships', 'medal', 'won', 'gold']\n",
      "['small', 'white', 'black', 'species', 'family']\n",
      "['water', 'river', 'north', 'lake', 'area']\n",
      "['jewish', 'israel', 'camp', 'israeli', 'jews']\n",
      "['catholic', 'roman', 'st', 'bishop', 'church']\n",
      "['horses', 'orange', 'horse', 'link', 'year']\n",
      "['students', 'school', 'education', 'college', 'university']\n",
      "['middle', 'japan', 'point', 'garden', 'cotton']\n",
      "['arab', 'islamic', 'islam', 'al', 'ali']\n",
      "['body', 'city', 'beer', 'brewery', 'year']\n",
      "['work', 'magazine', 'book', 'books', 'published']\n",
      "['register', 'home', 'hotel', 'historic', 'house']\n",
      "['line', 'station', 'london', 'railway', 'service']\n",
      "['school', 'left', 'time', 'fair', 'eugene']\n",
      "['development', 'trade', 'economic', 'system', 'government']\n",
      "['languages', 'word', 'words', 'language', 'english']\n",
      "['information', 'data', 'system', 'systems', 'software']\n",
      "['function', 'energy', 'set', 'number', 'form']\n",
      "['date', 'city', 'coins', 'green', 'people']\n"
     ]
    }
   ],
   "source": [
    "def print_topics(m):\n",
    "    topics = m.get_topics(num_words=5)\n",
    "    topics = topics.unstack(['word','score'], new_column_name='topic_words')['topic_words']\n",
    "    topics = topics.apply(lambda x: x.keys())\n",
    "    for topic in topics:\n",
    "        print topic\n",
    "print_topics(m)"
   ]
  },
  {
   "cell_type": "code",
   "execution_count": 25,
   "metadata": {
    "ExecuteTime": {
     "end_time": "2017-05-18T20:11:41.675059",
     "start_time": "2017-05-18T20:11:40.514295"
    },
    "slideshow": {
     "slide_type": "slide"
    }
   },
   "outputs": [],
   "source": [
    "pred = m.predict(another_data) # do not run\n",
    "pred = m.predict(another_data, output_type='probabilities')"
   ]
  },
  {
   "cell_type": "markdown",
   "metadata": {
    "slideshow": {
     "slide_type": "slide"
    }
   },
   "source": [
    "### Initializing from other models"
   ]
  },
  {
   "cell_type": "code",
   "execution_count": 30,
   "metadata": {
    "ExecuteTime": {
     "end_time": "2017-05-18T20:12:37.480661",
     "start_time": "2017-05-18T20:12:33.755043"
    },
    "slideshow": {
     "slide_type": "subslide"
    }
   },
   "outputs": [
    {
     "data": {
      "text/html": [
       "<pre>Initializing from provided topics and vocabulary.</pre>"
      ],
      "text/plain": [
       "Initializing from provided topics and vocabulary."
      ]
     },
     "metadata": {},
     "output_type": "display_data"
    },
    {
     "data": {
      "text/html": [
       "<pre>Learning a topic model</pre>"
      ],
      "text/plain": [
       "Learning a topic model"
      ]
     },
     "metadata": {},
     "output_type": "display_data"
    },
    {
     "data": {
      "text/html": [
       "<pre>       Number of documents     72269</pre>"
      ],
      "text/plain": [
       "       Number of documents     72269"
      ]
     },
     "metadata": {},
     "output_type": "display_data"
    },
    {
     "data": {
      "text/html": [
       "<pre>           Vocabulary size    171005</pre>"
      ],
      "text/plain": [
       "           Vocabulary size    171005"
      ]
     },
     "metadata": {},
     "output_type": "display_data"
    },
    {
     "data": {
      "text/html": [
       "<pre>   Running collapsed Gibbs sampling</pre>"
      ],
      "text/plain": [
       "   Running collapsed Gibbs sampling"
      ]
     },
     "metadata": {},
     "output_type": "display_data"
    },
    {
     "data": {
      "text/html": [
       "<pre>+-----------+---------------+----------------+-----------------+</pre>"
      ],
      "text/plain": [
       "+-----------+---------------+----------------+-----------------+"
      ]
     },
     "metadata": {},
     "output_type": "display_data"
    },
    {
     "data": {
      "text/html": [
       "<pre>| Iteration | Elapsed Time  | Tokens/Second  | Est. Perplexity |</pre>"
      ],
      "text/plain": [
       "| Iteration | Elapsed Time  | Tokens/Second  | Est. Perplexity |"
      ]
     },
     "metadata": {},
     "output_type": "display_data"
    },
    {
     "data": {
      "text/html": [
       "<pre>+-----------+---------------+----------------+-----------------+</pre>"
      ],
      "text/plain": [
       "+-----------+---------------+----------------+-----------------+"
      ]
     },
     "metadata": {},
     "output_type": "display_data"
    },
    {
     "data": {
      "text/html": [
       "<pre>| 10        | 2.41s         | 8.85404e+06    | 0               |</pre>"
      ],
      "text/plain": [
       "| 10        | 2.41s         | 8.85404e+06    | 0               |"
      ]
     },
     "metadata": {},
     "output_type": "display_data"
    },
    {
     "data": {
      "text/html": [
       "<pre>+-----------+---------------+----------------+-----------------+</pre>"
      ],
      "text/plain": [
       "+-----------+---------------+----------------+-----------------+"
      ]
     },
     "metadata": {},
     "output_type": "display_data"
    }
   ],
   "source": [
    "m2 = graphlab.topic_model.create(docs,\n",
    "                                 num_topics=10,\n",
    "                                 initial_topics=m['topics'])"
   ]
  },
  {
   "cell_type": "markdown",
   "metadata": {
    "slideshow": {
     "slide_type": "subslide"
    }
   },
   "source": [
    "### Seeding the model with prior knowledge"
   ]
  },
  {
   "cell_type": "code",
   "execution_count": 31,
   "metadata": {
    "ExecuteTime": {
     "end_time": "2017-05-18T20:12:40.210808",
     "start_time": "2017-05-18T20:12:40.202657"
    },
    "slideshow": {
     "slide_type": "subslide"
    }
   },
   "outputs": [],
   "source": [
    "associations = graphlab.SFrame()\n",
    "associations['word'] = ['recognition']\n",
    "associations['topic'] = [0]"
   ]
  },
  {
   "cell_type": "code",
   "execution_count": 32,
   "metadata": {
    "ExecuteTime": {
     "end_time": "2017-05-18T20:12:56.625263",
     "start_time": "2017-05-18T20:12:43.371044"
    },
    "slideshow": {
     "slide_type": "subslide"
    }
   },
   "outputs": [
    {
     "data": {
      "text/html": [
       "<pre>Learning a topic model</pre>"
      ],
      "text/plain": [
       "Learning a topic model"
      ]
     },
     "metadata": {},
     "output_type": "display_data"
    },
    {
     "data": {
      "text/html": [
       "<pre>       Number of documents     72269</pre>"
      ],
      "text/plain": [
       "       Number of documents     72269"
      ]
     },
     "metadata": {},
     "output_type": "display_data"
    },
    {
     "data": {
      "text/html": [
       "<pre>           Vocabulary size    171005</pre>"
      ],
      "text/plain": [
       "           Vocabulary size    171005"
      ]
     },
     "metadata": {},
     "output_type": "display_data"
    },
    {
     "data": {
      "text/html": [
       "<pre>   Running collapsed Gibbs sampling</pre>"
      ],
      "text/plain": [
       "   Running collapsed Gibbs sampling"
      ]
     },
     "metadata": {},
     "output_type": "display_data"
    },
    {
     "data": {
      "text/html": [
       "<pre>+-----------+---------------+----------------+-----------------+</pre>"
      ],
      "text/plain": [
       "+-----------+---------------+----------------+-----------------+"
      ]
     },
     "metadata": {},
     "output_type": "display_data"
    },
    {
     "data": {
      "text/html": [
       "<pre>| Iteration | Elapsed Time  | Tokens/Second  | Est. Perplexity |</pre>"
      ],
      "text/plain": [
       "| Iteration | Elapsed Time  | Tokens/Second  | Est. Perplexity |"
      ]
     },
     "metadata": {},
     "output_type": "display_data"
    },
    {
     "data": {
      "text/html": [
       "<pre>+-----------+---------------+----------------+-----------------+</pre>"
      ],
      "text/plain": [
       "+-----------+---------------+----------------+-----------------+"
      ]
     },
     "metadata": {},
     "output_type": "display_data"
    },
    {
     "data": {
      "text/html": [
       "<pre>| 10        | 2.75s         | 8.25271e+06    | 0               |</pre>"
      ],
      "text/plain": [
       "| 10        | 2.75s         | 8.25271e+06    | 0               |"
      ]
     },
     "metadata": {},
     "output_type": "display_data"
    },
    {
     "data": {
      "text/html": [
       "<pre>| 20        | 5.15s         | 8.35785e+06    | 0               |</pre>"
      ],
      "text/plain": [
       "| 20        | 5.15s         | 8.35785e+06    | 0               |"
      ]
     },
     "metadata": {},
     "output_type": "display_data"
    },
    {
     "data": {
      "text/html": [
       "<pre>| 30        | 7.50s         | 7.61449e+06    | 0               |</pre>"
      ],
      "text/plain": [
       "| 30        | 7.50s         | 7.61449e+06    | 0               |"
      ]
     },
     "metadata": {},
     "output_type": "display_data"
    },
    {
     "data": {
      "text/html": [
       "<pre>| 40        | 9.90s         | 7.93222e+06    | 0               |</pre>"
      ],
      "text/plain": [
       "| 40        | 9.90s         | 7.93222e+06    | 0               |"
      ]
     },
     "metadata": {},
     "output_type": "display_data"
    },
    {
     "data": {
      "text/html": [
       "<pre>| 50        | 12.24s        | 8.52982e+06    | 0               |</pre>"
      ],
      "text/plain": [
       "| 50        | 12.24s        | 8.52982e+06    | 0               |"
      ]
     },
     "metadata": {},
     "output_type": "display_data"
    },
    {
     "data": {
      "text/html": [
       "<pre>+-----------+---------------+----------------+-----------------+</pre>"
      ],
      "text/plain": [
       "+-----------+---------------+----------------+-----------------+"
      ]
     },
     "metadata": {},
     "output_type": "display_data"
    }
   ],
   "source": [
    "m2 = graphlab.topic_model.create(docs,\n",
    "                                 num_topics=20,\n",
    "                                 num_iterations=50,\n",
    "                                 associations=associations, \n",
    "                                 verbose=False)"
   ]
  },
  {
   "cell_type": "code",
   "execution_count": 33,
   "metadata": {
    "ExecuteTime": {
     "end_time": "2017-05-18T20:12:56.724150",
     "start_time": "2017-05-18T20:12:56.626934"
    },
    "slideshow": {
     "slide_type": "subslide"
    }
   },
   "outputs": [
    {
     "data": {
      "text/html": [
       "<div style=\"max-height:1000px;max-width:1500px;overflow:auto;\"><table frame=\"box\" rules=\"cols\">\n",
       "    <tr>\n",
       "        <th style=\"padding-left: 1em; padding-right: 1em; text-align: center\">topic</th>\n",
       "        <th style=\"padding-left: 1em; padding-right: 1em; text-align: center\">word</th>\n",
       "        <th style=\"padding-left: 1em; padding-right: 1em; text-align: center\">score</th>\n",
       "    </tr>\n",
       "    <tr>\n",
       "        <td style=\"padding-left: 1em; padding-right: 1em; text-align: center; vertical-align: top\">0</td>\n",
       "        <td style=\"padding-left: 1em; padding-right: 1em; text-align: center; vertical-align: top\">court</td>\n",
       "        <td style=\"padding-left: 1em; padding-right: 1em; text-align: center; vertical-align: top\">0.0177612734598</td>\n",
       "    </tr>\n",
       "    <tr>\n",
       "        <td style=\"padding-left: 1em; padding-right: 1em; text-align: center; vertical-align: top\">0</td>\n",
       "        <td style=\"padding-left: 1em; padding-right: 1em; text-align: center; vertical-align: top\">king</td>\n",
       "        <td style=\"padding-left: 1em; padding-right: 1em; text-align: center; vertical-align: top\">0.0127195614005</td>\n",
       "    </tr>\n",
       "    <tr>\n",
       "        <td style=\"padding-left: 1em; padding-right: 1em; text-align: center; vertical-align: top\">0</td>\n",
       "        <td style=\"padding-left: 1em; padding-right: 1em; text-align: center; vertical-align: top\">police</td>\n",
       "        <td style=\"padding-left: 1em; padding-right: 1em; text-align: center; vertical-align: top\">0.0107441537516</td>\n",
       "    </tr>\n",
       "    <tr>\n",
       "        <td style=\"padding-left: 1em; padding-right: 1em; text-align: center; vertical-align: top\">0</td>\n",
       "        <td style=\"padding-left: 1em; padding-right: 1em; text-align: center; vertical-align: top\">war</td>\n",
       "        <td style=\"padding-left: 1em; padding-right: 1em; text-align: center; vertical-align: top\">0.00842083848682</td>\n",
       "    </tr>\n",
       "    <tr>\n",
       "        <td style=\"padding-left: 1em; padding-right: 1em; text-align: center; vertical-align: top\">0</td>\n",
       "        <td style=\"padding-left: 1em; padding-right: 1em; text-align: center; vertical-align: top\">people</td>\n",
       "        <td style=\"padding-left: 1em; padding-right: 1em; text-align: center; vertical-align: top\">0.00717072976569</td>\n",
       "    </tr>\n",
       "    <tr>\n",
       "        <td style=\"padding-left: 1em; padding-right: 1em; text-align: center; vertical-align: top\">0</td>\n",
       "        <td style=\"padding-left: 1em; padding-right: 1em; text-align: center; vertical-align: top\">city</td>\n",
       "        <td style=\"padding-left: 1em; padding-right: 1em; text-align: center; vertical-align: top\">0.00638056670611</td>\n",
       "    </tr>\n",
       "    <tr>\n",
       "        <td style=\"padding-left: 1em; padding-right: 1em; text-align: center; vertical-align: top\">0</td>\n",
       "        <td style=\"padding-left: 1em; padding-right: 1em; text-align: center; vertical-align: top\">emperor</td>\n",
       "        <td style=\"padding-left: 1em; padding-right: 1em; text-align: center; vertical-align: top\">0.00618007757159</td>\n",
       "    </tr>\n",
       "    <tr>\n",
       "        <td style=\"padding-left: 1em; padding-right: 1em; text-align: center; vertical-align: top\">0</td>\n",
       "        <td style=\"padding-left: 1em; padding-right: 1em; text-align: center; vertical-align: top\">order</td>\n",
       "        <td style=\"padding-left: 1em; padding-right: 1em; text-align: center; vertical-align: top\">0.00594125963194</td>\n",
       "    </tr>\n",
       "    <tr>\n",
       "        <td style=\"padding-left: 1em; padding-right: 1em; text-align: center; vertical-align: top\">0</td>\n",
       "        <td style=\"padding-left: 1em; padding-right: 1em; text-align: center; vertical-align: top\">made</td>\n",
       "        <td style=\"padding-left: 1em; padding-right: 1em; text-align: center; vertical-align: top\">0.00587934386981</td>\n",
       "    </tr>\n",
       "    <tr>\n",
       "        <td style=\"padding-left: 1em; padding-right: 1em; text-align: center; vertical-align: top\">0</td>\n",
       "        <td style=\"padding-left: 1em; padding-right: 1em; text-align: center; vertical-align: top\">french</td>\n",
       "        <td style=\"padding-left: 1em; padding-right: 1em; text-align: center; vertical-align: top\">0.0055638683199</td>\n",
       "    </tr>\n",
       "</table>\n",
       "[200 rows x 3 columns]<br/>Note: Only the head of the SFrame is printed.<br/>You can use print_rows(num_rows=m, num_columns=n) to print more rows and columns.\n",
       "</div>"
      ],
      "text/plain": [
       "Columns:\n",
       "\ttopic\tint\n",
       "\tword\tstr\n",
       "\tscore\tfloat\n",
       "\n",
       "Rows: 200\n",
       "\n",
       "Data:\n",
       "+-------+---------+------------------+\n",
       "| topic |   word  |      score       |\n",
       "+-------+---------+------------------+\n",
       "|   0   |  court  | 0.0177612734598  |\n",
       "|   0   |   king  | 0.0127195614005  |\n",
       "|   0   |  police | 0.0107441537516  |\n",
       "|   0   |   war   | 0.00842083848682 |\n",
       "|   0   |  people | 0.00717072976569 |\n",
       "|   0   |   city  | 0.00638056670611 |\n",
       "|   0   | emperor | 0.00618007757159 |\n",
       "|   0   |  order  | 0.00594125963194 |\n",
       "|   0   |   made  | 0.00587934386981 |\n",
       "|   0   |  french | 0.0055638683199  |\n",
       "+-------+---------+------------------+\n",
       "[200 rows x 3 columns]\n",
       "Note: Only the head of the SFrame is printed.\n",
       "You can use print_rows(num_rows=m, num_columns=n) to print more rows and columns."
      ]
     },
     "execution_count": 33,
     "metadata": {},
     "output_type": "execute_result"
    }
   ],
   "source": [
    "m2.get_topics(num_words=10)"
   ]
  },
  {
   "cell_type": "code",
   "execution_count": 34,
   "metadata": {
    "ExecuteTime": {
     "end_time": "2017-05-18T20:13:07.848631",
     "start_time": "2017-05-18T20:13:07.761736"
    },
    "slideshow": {
     "slide_type": "subslide"
    }
   },
   "outputs": [
    {
     "name": "stdout",
     "output_type": "stream",
     "text": [
      "['king', 'court', 'war', 'police', 'people']\n",
      "['information', 'aircraft', 'network', 'service', 'system']\n",
      "['states', 'region', 'united', 'state', 'government']\n",
      "['la', 'de', 'india', 'indian', 'france']\n",
      "['military', 'army', 'force', 'war', 'air']\n",
      "['model', 'set', 'number', 'power', 'system']\n",
      "['large', 'found', 'small', 'species', 'family']\n",
      "['club', 'league', 'football', 'year', 'season']\n",
      "['party', 'company', 'election', 'council', 'served']\n",
      "['town', 'age', 'years', 'school', 'population']\n",
      "['work', 'band', 'book', 'art', 'published']\n",
      "['students', 'university', 'national', 'college', 'state']\n",
      "['death', 'father', 'time', 'family', 'son']\n",
      "['season', 'team', 'final', 'won', 'played']\n",
      "['city', 'line', 'river', 'road', 'area']\n",
      "['roman', 'church', 'people', 'language', 'century']\n",
      "['years', 'john', 'york', 'race', 'time']\n",
      "['album', 'released', 'music', 'film', 'song']\n",
      "['world', 'game', 'championship', 'games', 'team']\n",
      "['engine', 'production', 'company', 'made', 'design']\n"
     ]
    }
   ],
   "source": [
    "print_topics(m2)"
   ]
  },
  {
   "cell_type": "markdown",
   "metadata": {
    "slideshow": {
     "slide_type": "slide"
    }
   },
   "source": [
    "# 阅读材料\n",
    "\n",
    "https://dato.com/learn/userguide/text/topic-models.html"
   ]
  },
  {
   "cell_type": "code",
   "execution_count": null,
   "metadata": {
    "collapsed": true
   },
   "outputs": [],
   "source": []
  }
 ],
 "metadata": {
  "celltoolbar": "Slideshow",
  "kernelspec": {
   "display_name": "Python [conda env:anaconda]",
   "language": "python",
   "name": "conda-env-anaconda-py"
  },
  "language_info": {
   "codemirror_mode": {
    "name": "ipython",
    "version": 3
   },
   "file_extension": ".py",
   "mimetype": "text/x-python",
   "name": "python",
   "nbconvert_exporter": "python",
   "pygments_lexer": "ipython3",
   "version": "3.5.4"
  },
  "latex_envs": {
   "bibliofile": "biblio.bib",
   "cite_by": "apalike",
   "current_citInitial": 1,
   "eqLabelWithNumbers": true,
   "eqNumInitial": 0
  },
  "toc": {
   "base_numbering": 1,
   "nav_menu": {},
   "number_sections": false,
   "sideBar": true,
   "skip_h1_title": false,
   "title_cell": "Table of Contents",
   "title_sidebar": "Contents",
   "toc_cell": false,
   "toc_position": {},
   "toc_section_display": true,
   "toc_window_display": false
  }
 },
 "nbformat": 4,
 "nbformat_minor": 1
}
